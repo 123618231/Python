{
 "cells": [
  {
   "cell_type": "markdown",
   "metadata": {},
   "source": [
    "# Python的列表推导式"
   ]
  },
  {
   "cell_type": "markdown",
   "metadata": {},
   "source": [
    "# 1. Python的列表推导式"
   ]
  },
  {
   "cell_type": "markdown",
   "metadata": {},
   "source": [
    "① 列表推导式产生的是一个列表。\n",
    "\n",
    "② 列表推导式中的值是推导式中的第一个元素的值，这个元素的值是后面的 for 遍历某序列后产生的值，如果 for 后还有 if，就是遍历某序列后，满足 if 条件后产生的值。\n",
    "\n",
    "③ 列表推导式，方法一和方法二等价。"
   ]
  },
  {
   "cell_type": "code",
   "execution_count": 10,
   "metadata": {},
   "outputs": [
    {
     "name": "stdout",
     "output_type": "stream",
     "text": [
      "['sort', 'sunny']\n"
     ]
    }
   ],
   "source": [
    "# 方法一\n",
    "s = ['jack','sort','join','sunny']\n",
    "new = []\n",
    "for i in s:\n",
    "    if i.startswith('s'):\n",
    "        new.append(i)\n",
    "print(new)"
   ]
  },
  {
   "cell_type": "code",
   "execution_count": 11,
   "metadata": {},
   "outputs": [
    {
     "name": "stdout",
     "output_type": "stream",
     "text": [
      "['sort', 'sunny']\n"
     ]
    }
   ],
   "source": [
    "# 方法二\n",
    "s = ['jack','sort','join','sunny']\n",
    "new = [i for i in s if i.startswith('s')]   # i for i in s if i.startswith('s') 为推导式\n",
    "print(new)"
   ]
  },
  {
   "cell_type": "markdown",
   "metadata": {},
   "source": [
    "④ 列表推导式，方法三和方法四等价。"
   ]
  },
  {
   "cell_type": "code",
   "execution_count": 12,
   "metadata": {},
   "outputs": [
    {
     "name": "stdout",
     "output_type": "stream",
     "text": [
      "[3, 6, 4, 8, 5, 10]\n"
     ]
    }
   ],
   "source": [
    "# 方法三：\n",
    "lista = []\n",
    "for x in range(1,6):\n",
    "    if x>2:\n",
    "        for y in range(1,7):\n",
    "            if y<3:\n",
    "                lista.append(x*y)\n",
    "print(lista)   "
   ]
  },
  {
   "cell_type": "code",
   "execution_count": 13,
   "metadata": {},
   "outputs": [
    {
     "name": "stdout",
     "output_type": "stream",
     "text": [
      "[3, 6, 4, 8, 5, 10]\n"
     ]
    }
   ],
   "source": [
    "# 方法四\n",
    "print([x*y for x in range(1,6) if x>2 for y in range(1,7) if y < 3])"
   ]
  }
 ],
 "metadata": {
  "kernelspec": {
   "display_name": "Python 3",
   "language": "python",
   "name": "python3"
  },
  "language_info": {
   "codemirror_mode": {
    "name": "ipython",
    "version": 3
   },
   "file_extension": ".py",
   "mimetype": "text/x-python",
   "name": "python",
   "nbconvert_exporter": "python",
   "pygments_lexer": "ipython3",
   "version": "3.7.4"
  },
  "toc": {
   "base_numbering": 1,
   "nav_menu": {},
   "number_sections": false,
   "sideBar": true,
   "skip_h1_title": false,
   "title_cell": "Table of Contents",
   "title_sidebar": "Contents",
   "toc_cell": false,
   "toc_position": {
    "height": "calc(100% - 180px)",
    "left": "10px",
    "top": "150px",
    "width": "277.983px"
   },
   "toc_section_display": true,
   "toc_window_display": true
  }
 },
 "nbformat": 4,
 "nbformat_minor": 4
}
