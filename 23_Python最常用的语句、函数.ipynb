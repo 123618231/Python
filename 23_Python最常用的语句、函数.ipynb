{
 "cells": [
  {
   "cell_type": "markdown",
   "metadata": {},
   "source": [
    "# Python的最常用的语句、函数"
   ]
  },
  {
   "cell_type": "markdown",
   "metadata": {},
   "source": [
    "# 1. 最常用的语句"
   ]
  },
  {
   "cell_type": "markdown",
   "metadata": {},
   "source": [
    "## 1.1 #coding=utf-8"
   ]
  },
  {
   "cell_type": "markdown",
   "metadata": {},
   "source": [
    "① 代码中有中文字符，最好在代码前面加#coding=utf-8\n",
    "\n",
    "② pycharm不加可能不会报错，但是代码最终是会放到服务器上，放到服务器上的时候运行可能会报错。\n",
    "\n",
    "③ 等号两边不要加空格，要不然有时也会报错。"
   ]
  },
  {
   "cell_type": "markdown",
   "metadata": {},
   "source": [
    "## 1.2 \"a == b\" 与 \"a is b\""
   ]
  },
  {
   "cell_type": "markdown",
   "metadata": {},
   "source": [
    "① == 是来判断a的值是否等于b的值。\n",
    "\n",
    "② is 是来判断a和b的地址是否相等。"
   ]
  },
  {
   "cell_type": "markdown",
   "metadata": {},
   "source": [
    "## 1.3 pass语句"
   ]
  },
  {
   "cell_type": "markdown",
   "metadata": {},
   "source": [
    "① pass语句的使用表示不希望任何代码或者命令的执行。\n",
    "\n",
    "② pass语句是一个空操作，在执行的时候不会产生任何反应。\n",
    "\n",
    "③ pass语句常出现在 if、while、for 等各种判断或者循环语句中。"
   ]
  },
  {
   "cell_type": "markdown",
   "metadata": {},
   "source": [
    "## 1.4 break和continue语句"
   ]
  },
  {
   "cell_type": "markdown",
   "metadata": {},
   "source": [
    "① break和continue语句常用语wihle和for循环中。\n",
    "\n",
    "② 退出循环用break，退出此次循环进入下次循环用continue。"
   ]
  },
  {
   "cell_type": "markdown",
   "metadata": {},
   "source": [
    "# 2. 最常用的函数"
   ]
  },
  {
   "cell_type": "markdown",
   "metadata": {},
   "source": [
    "## 2.1 input()函数"
   ]
  },
  {
   "cell_type": "markdown",
   "metadata": {},
   "source": [
    "① input()函数接受一个标准输入数据，所有输入默认为字符串处理，返回值为string类型。\n",
    "\n",
    "② input()函数是输入函数，是实现人机交互的重要函数。"
   ]
  },
  {
   "cell_type": "code",
   "execution_count": 2,
   "metadata": {},
   "outputs": [
    {
     "name": "stdout",
     "output_type": "stream",
     "text": [
      "你的用户名：小王同学在积累\n",
      "小王同学在积累\n"
     ]
    }
   ],
   "source": [
    "name = input(\"你的用户名：\")\n",
    "print(name) # 通过外部键盘传入，将变量打印出来。"
   ]
  },
  {
   "cell_type": "markdown",
   "metadata": {},
   "source": [
    "## 2.2 range()函数"
   ]
  },
  {
   "cell_type": "markdown",
   "metadata": {},
   "source": [
    "① range()函数默认start为0，步长默认为1，range(n) 会产生从0-n，步长为1的序列。"
   ]
  },
  {
   "cell_type": "code",
   "execution_count": 3,
   "metadata": {},
   "outputs": [
    {
     "name": "stdout",
     "output_type": "stream",
     "text": [
      "[0, 1, 2, 3, 4, 5, 6, 7, 8, 9]\n",
      "(0, 1, 2, 3, 4, 5, 6, 7, 8, 9)\n",
      "{0, 1, 2, 3, 4, 5, 6, 7, 8, 9}\n"
     ]
    }
   ],
   "source": [
    "print(list(range(10)))\n",
    "print(tuple(range(10)))\n",
    "print(set(range(10)))"
   ]
  },
  {
   "cell_type": "markdown",
   "metadata": {},
   "source": [
    "## 2.3 enumerate()函数"
   ]
  },
  {
   "cell_type": "markdown",
   "metadata": {},
   "source": [
    "① enumerate()函数用于将一个可遍历的数据对象(如列表、元组或字符串)组合为一个索引序列。"
   ]
  },
  {
   "cell_type": "code",
   "execution_count": 4,
   "metadata": {},
   "outputs": [
    {
     "name": "stdout",
     "output_type": "stream",
     "text": [
      "[(0, ('Iphone', 5800)), (1, ('Mac Pro', 9800)), (2, ('Bike', 5800)), (3, ('Watch', 10600)), (4, ('Coffee', 31)), (5, ('Alex Python', 120))]\n",
      "0 ('Iphone', 5800)\n",
      "1 ('Mac Pro', 9800)\n",
      "2 ('Bike', 5800)\n",
      "3 ('Watch', 10600)\n",
      "4 ('Coffee', 31)\n",
      "5 ('Alex Python', 120)\n"
     ]
    }
   ],
   "source": [
    "product_list=[('Iphone', 5800),\n",
    "              ('Mac Pro', 9800),\n",
    "              ('Bike', 5800),\n",
    "              ('Watch', 10600),\n",
    "              ('Coffee', 31),\n",
    "              ('Alex Python', 120)]\n",
    "print(list(enumerate(product_list)))\n",
    "for index,item in enumerate(product_list):\n",
    "        print(index,item)"
   ]
  },
  {
   "cell_type": "markdown",
   "metadata": {},
   "source": [
    "## 2.4 items()函数"
   ]
  },
  {
   "cell_type": "markdown",
   "metadata": {},
   "source": [
    "① items()函数返回的是一个元组数组，返回的是键和值。"
   ]
  },
  {
   "cell_type": "code",
   "execution_count": 5,
   "metadata": {},
   "outputs": [
    {
     "name": "stdout",
     "output_type": "stream",
     "text": [
      "dict_items([('a', 1), ('b', 2)])\n"
     ]
    }
   ],
   "source": [
    "d = {'a':1,'b':2}\n",
    "print(d.items())"
   ]
  },
  {
   "cell_type": "code",
   "execution_count": 6,
   "metadata": {},
   "outputs": [
    {
     "name": "stdout",
     "output_type": "stream",
     "text": [
      "dict_items([('老大', '15岁'), ('老二', '14岁'), ('老三', '2岁'), ('老四', '-1岁')])\n",
      "老大已经15岁了\n",
      "老二已经14岁了\n",
      "老三已经2岁了\n",
      "老四已经-1岁了\n"
     ]
    }
   ],
   "source": [
    "dict1 = {'老大':'15岁',\n",
    "        '老二':'14岁',\n",
    "        '老三':'2岁',\n",
    "        '老四':'-1岁'}\n",
    "print(dict1.items())\n",
    "for key,values in dict1.items():\n",
    "    print(key + '已经' + values + '了')"
   ]
  },
  {
   "cell_type": "markdown",
   "metadata": {},
   "source": [
    "## 2.5 map()函数"
   ]
  },
  {
   "cell_type": "markdown",
   "metadata": {},
   "source": [
    "① map(func,seq[,seq[,seq...]]) 接收一个函数及多个集合序列，会根据提供的函数对指定序列做映射，然后返回一个新的map对象。"
   ]
  },
  {
   "cell_type": "code",
   "execution_count": 7,
   "metadata": {},
   "outputs": [
    {
     "name": "stdout",
     "output_type": "stream",
     "text": [
      "['Adam', 'Lisa', 'Bart']\n"
     ]
    }
   ],
   "source": [
    "# 一个序列使用map\n",
    "\n",
    "# coding = utf-8\n",
    "def Capitalize(name):\n",
    "    return name.capitalize()\n",
    " \n",
    "L1 = ['adam', 'LISA', 'barT']\n",
    "L2 = list(map(Capitalize, L1))\n",
    "print(L2)"
   ]
  },
  {
   "cell_type": "code",
   "execution_count": 8,
   "metadata": {},
   "outputs": [
    {
     "name": "stdout",
     "output_type": "stream",
     "text": [
      "[18, 23, 30, 39, 50]\n"
     ]
    }
   ],
   "source": [
    "# 多个序列使用map\n",
    "\n",
    "list1 = [1,2,3,4,5]\n",
    "list2 = [6,7,8,9,10]\n",
    "list3 = [11,12,13,14,15]\n",
    "list_result = map(lambda x,y,z : x ** 2 + y + z,list1, list2, list3)\n",
    "print(list(list_result))"
   ]
  },
  {
   "cell_type": "code",
   "execution_count": 9,
   "metadata": {},
   "outputs": [
    {
     "name": "stdout",
     "output_type": "stream",
     "text": [
      "[18, 23, 30, 39, 50]\n",
      "18\n",
      "23\n",
      "30\n",
      "39\n",
      "50\n"
     ]
    }
   ],
   "source": [
    "# map是一个迭代器，用map取元素\n",
    "list1 = [1,2,3,4,5]\n",
    "list2 = [6,7,8,9,10]\n",
    "list3 = [11,12,13,14,15]\n",
    "\n",
    "list_result = map(lambda x,y,z : x ** 2 + y + z,list1, list2, list3)\n",
    "print(list(list_result))\n",
    "\n",
    "for i in map(lambda x,y,z : x ** 2 + y + z,list1, list2, list3):\n",
    "    print(i)"
   ]
  },
  {
   "cell_type": "markdown",
   "metadata": {},
   "source": [
    "## 2.6 filter()函数"
   ]
  },
  {
   "cell_type": "markdown",
   "metadata": {},
   "source": [
    "① 用于过滤序列，过滤掉不符合条件的元素，返回由符合条件元素组成的filter对象。"
   ]
  },
  {
   "cell_type": "code",
   "execution_count": 10,
   "metadata": {},
   "outputs": [
    {
     "name": "stdout",
     "output_type": "stream",
     "text": [
      "['abdc', 'dlkf', 'adf']\n"
     ]
    }
   ],
   "source": [
    "a = ['abdc','sss','ww','dlkf','adf','eef']\n",
    "b = list(filter(lambda i:len(set(i)) >= len(list(i)),a)) # 过滤不符合条件的元素，返回值为符合条件的元素\n",
    "print(b)"
   ]
  },
  {
   "cell_type": "code",
   "execution_count": 11,
   "metadata": {},
   "outputs": [
    {
     "name": "stdout",
     "output_type": "stream",
     "text": [
      "<class 'filter'>\n",
      "abdc\n",
      "['dlkf', 'adf']\n"
     ]
    }
   ],
   "source": [
    "a = ['abdc','sss','ww','dlkf','adf','eef']\n",
    "b = filter(lambda i:len(set(i)) >= len(list(i)),a) \n",
    "print(type(b)) # b 是一个过滤器filter\n",
    "print(next(b)) # 过滤器filter可以通过nex来获得里面的元素\n",
    "print([i for i in b]) # 过滤器filter可以通过for来遍历，获得里面的元素"
   ]
  },
  {
   "cell_type": "markdown",
   "metadata": {},
   "source": [
    "## 2.7 reduce()函数"
   ]
  },
  {
   "cell_type": "markdown",
   "metadata": {},
   "source": [
    "① 对于序列中的所有元素调用func进行数据合并操作，可以给定一个初始值。\n",
    "\n",
    "② reduce函数在python3的内建函数移除了，放入了functools模块，所以需要导入functools库才能用。"
   ]
  },
  {
   "cell_type": "code",
   "execution_count": 12,
   "metadata": {},
   "outputs": [
    {
     "data": {
      "text/plain": [
       "24"
      ]
     },
     "execution_count": 12,
     "metadata": {},
     "output_type": "execute_result"
    }
   ],
   "source": [
    "from functools import reduce\n",
    "list1=[1,2,3,4]\n",
    "reduce(lambda x,y:x * y,list1)"
   ]
  },
  {
   "cell_type": "code",
   "execution_count": 13,
   "metadata": {},
   "outputs": [
    {
     "data": {
      "text/plain": [
       "2400"
      ]
     },
     "execution_count": 13,
     "metadata": {},
     "output_type": "execute_result"
    }
   ],
   "source": [
    "from functools import reduce\n",
    "list1=[1,2,3,4]\n",
    "reduce(lambda x,y:x * y,list1,100) \n",
    "# 将list1中所有元素进行相乘，如果设置初始值init=100，那么就是100*1*2*3*4"
   ]
  },
  {
   "cell_type": "markdown",
   "metadata": {},
   "source": [
    "## 2.8 round()函数"
   ]
  },
  {
   "cell_type": "markdown",
   "metadata": {},
   "source": [
    "① round()函数语法：round(x,n)，x 是数值表达式，n 表示从小数点后取几位数字，如果取的几位数字都是0，则只保留一位0。"
   ]
  },
  {
   "cell_type": "code",
   "execution_count": 14,
   "metadata": {},
   "outputs": [
    {
     "name": "stdout",
     "output_type": "stream",
     "text": [
      "(3.0, 5)\n",
      "(2.3333, 4)\n"
     ]
    }
   ],
   "source": [
    "from functools import reduce\n",
    "def cal_aver_max(*args):\n",
    "#    print(args) # rages为一个元组\n",
    "    return round(reduce(lambda x,y:x+y,args)/len(args),4),max(args) \n",
    "    # reduce(lambda x,y:x+y,args) 返回的是一个值，值为 args 元组中每个元素相加的和\n",
    "    # round(reduce(lambda x,y:x+y,args)/len(args),4),max(args) 为两个数，用return时，产生的是一个元组\n",
    "\n",
    "print(cal_aver_max(2,4,5,1)) \n",
    "print(cal_aver_max(1,2,4))"
   ]
  },
  {
   "cell_type": "markdown",
   "metadata": {},
   "source": [
    "## 2.9 dir()函数"
   ]
  },
  {
   "cell_type": "markdown",
   "metadata": {},
   "source": [
    "① dir()函数返回的是一个排好序的字符串列表，内容是一个.py模块里定义过的名字，容纳了在一个模块里定义的所有模块、变量和函数。\n",
    "\n",
    "② dir(类)函数返回的是类的魔术方法和函数。"
   ]
  },
  {
   "cell_type": "code",
   "execution_count": 15,
   "metadata": {},
   "outputs": [
    {
     "data": {
      "text/plain": [
       "['Capitalize',\n",
       " 'In',\n",
       " 'L1',\n",
       " 'L2',\n",
       " 'Out',\n",
       " '_',\n",
       " '_12',\n",
       " '_13',\n",
       " '__',\n",
       " '___',\n",
       " '__builtin__',\n",
       " '__builtins__',\n",
       " '__doc__',\n",
       " '__loader__',\n",
       " '__name__',\n",
       " '__package__',\n",
       " '__spec__',\n",
       " '_dh',\n",
       " '_i',\n",
       " '_i1',\n",
       " '_i10',\n",
       " '_i11',\n",
       " '_i12',\n",
       " '_i13',\n",
       " '_i14',\n",
       " '_i15',\n",
       " '_i2',\n",
       " '_i3',\n",
       " '_i4',\n",
       " '_i5',\n",
       " '_i6',\n",
       " '_i7',\n",
       " '_i8',\n",
       " '_i9',\n",
       " '_ih',\n",
       " '_ii',\n",
       " '_iii',\n",
       " '_oh',\n",
       " 'a',\n",
       " 'b',\n",
       " 'cal_aver_max',\n",
       " 'd',\n",
       " 'dict1',\n",
       " 'exit',\n",
       " 'get_ipython',\n",
       " 'i',\n",
       " 'index',\n",
       " 'item',\n",
       " 'key',\n",
       " 'list1',\n",
       " 'list2',\n",
       " 'list3',\n",
       " 'list_result',\n",
       " 'name',\n",
       " 'product_list',\n",
       " 'quit',\n",
       " 'reduce',\n",
       " 'values']"
      ]
     },
     "execution_count": 15,
     "metadata": {},
     "output_type": "execute_result"
    }
   ],
   "source": [
    "dir(list) # 打印列表操作的魔术方法和函数，dir()是python的内置函数,这里的list其实就是实例化一个列表类，查询列表类里的魔术方法和函数。\n",
    "dir()     # dir里面没加参数就是模块的变量和函数"
   ]
  },
  {
   "cell_type": "markdown",
   "metadata": {},
   "source": [
    "## 2.10 seed()函数"
   ]
  },
  {
   "cell_type": "markdown",
   "metadata": {},
   "source": [
    "① seed()函数可以使得每次取随机数时相同。\n",
    "\n",
    "② seed()函数在神经网络中常用，为了避免这次用的随机数训练网络效果很好，而下次用的随机数训练的网络效果不好，为了复现训练好的神经网络，seed()函数可以使得神经网络初始化参数时的随机数相同。"
   ]
  },
  {
   "cell_type": "markdown",
   "metadata": {},
   "source": [
    "## 2.11 sort()函数"
   ]
  },
  {
   "cell_type": "markdown",
   "metadata": {},
   "source": [
    "① 当序列在里面时，sorted 函数可以对元祖、字典、列表都可以排序，当序列在外面的时候，只能对列表进行排序。"
   ]
  },
  {
   "cell_type": "code",
   "execution_count": null,
   "metadata": {},
   "outputs": [],
   "source": [
    "sorted(fruits,key = lambda x:x[-1],reverse=True)  # fruits序列可以为元祖、字典、列表，key 表示按哪一个排序\n",
    "\n",
    "fruits.sort(key = lambda x:x[-1],reverse=True)    # fruits序列只能为对列表"
   ]
  },
  {
   "cell_type": "code",
   "execution_count": 17,
   "metadata": {},
   "outputs": [
    {
     "name": "stdout",
     "output_type": "stream",
     "text": [
      "None\n",
      "[['小李', 0.7], ['小吴', 0.5], ['小肖', 0.4], ['小王', 0.2], ['小红', 0.1]]\n",
      "[['张三', 0.3], ['李四', 0.4], ['王五', 0.8], ['谢大脚', 0.9], ['谢广坤', 0.1]]\n",
      "[['谢大脚', 0.9], ['王五', 0.8], ['李四', 0.4], ['张三', 0.3], ['谢广坤', 0.1]]\n"
     ]
    }
   ],
   "source": [
    "mylist1 = [['小王', 0.2], ['小李', 0.7], ['小吴', 0.5], ['小红', 0.1], ['小肖', 0.4]]\n",
    "mylist2 = [['张三', 0.3], ['李四', 0.4], ['王五', 0.8], ['谢大脚', 0.9], ['谢广坤', 0.1]]\n",
    "\n",
    "# sort是列表类的一种方法，只能与列表一起使用，所以只能是 列表.sort() 而不能是 mylist3 = sorted(mylist1,key=(lambda x:x[1]),reverse=True) \n",
    "mylist1.sort(key=(lambda x:x[1]),reverse=True) # 对列表进行按x[1]降序排列\n",
    "print(mylist1.sort(key=(lambda x:x[1]),reverse=True))   # mylist1调用sort方法的返回值为None\n",
    "print(mylist1)  # sort函数对原列表修改了\n",
    "\n",
    "mylist4 = sorted(mylist2,key=(lambda x:x[1]),reverse=True) # 对列表进行按x[1]降序排列\n",
    "print(mylist2)   # sorted函数不对原列表修改\n",
    "print(mylist4)"
   ]
  }
 ],
 "metadata": {
  "kernelspec": {
   "display_name": "Python 3",
   "language": "python",
   "name": "python3"
  },
  "language_info": {
   "codemirror_mode": {
    "name": "ipython",
    "version": 3
   },
   "file_extension": ".py",
   "mimetype": "text/x-python",
   "name": "python",
   "nbconvert_exporter": "python",
   "pygments_lexer": "ipython3",
   "version": "3.7.4"
  },
  "toc": {
   "base_numbering": 1,
   "nav_menu": {},
   "number_sections": false,
   "sideBar": true,
   "skip_h1_title": false,
   "title_cell": "Table of Contents",
   "title_sidebar": "Contents",
   "toc_cell": false,
   "toc_position": {
    "height": "calc(100% - 180px)",
    "left": "10px",
    "top": "150px",
    "width": "340.969px"
   },
   "toc_section_display": true,
   "toc_window_display": true
  }
 },
 "nbformat": 4,
 "nbformat_minor": 4
}
