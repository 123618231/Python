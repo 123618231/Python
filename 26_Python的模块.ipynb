{
 "cells": [
  {
   "cell_type": "markdown",
   "metadata": {},
   "source": [
    "# Python的模块"
   ]
  },
  {
   "cell_type": "markdown",
   "metadata": {},
   "source": [
    "# 1. 模块"
   ]
  },
  {
   "cell_type": "markdown",
   "metadata": {},
   "source": [
    "① Python模块(Module)，是一个Python文件，以.py结尾，包含了Python语句和Python对象定义，模块让你能够有逻辑地组织你的Python代码段。\n",
    "\n",
    "② 相当于很多类、很多函数包含在一个.py文件，这个.py文件就是一个模块。\n",
    "\n",
    "③ 模块能定义函数，类和变量，模块里也能包含可执行的代码，即导入模块会自动执行这些代码。\n",
    "\n",
    "④ 把相关的代码分配到一个模块里能让你的代码更好用，更易懂。\n",
    "\n",
    "⑤ 推荐所有的模块在Python模块的开头部分导入，而且最好按照下面的顺序：\n",
    "\n",
    "1. Python标准库模块\n",
    "2. Python第三方模块\n",
    "3. 应用程序自定义模块\n",
    "\n",
    "⑥ 在Python中用关键字import来引入某个模块，比如要导入模块time，就可以在文件最开始的地方用import time来引入。"
   ]
  },
  {
   "cell_type": "code",
   "execution_count": 1,
   "metadata": {},
   "outputs": [],
   "source": [
    "# functools就是模块，是一个functools.py文件，该文件在搜索在搜索路径下的，reduce是这个文件中的一个方法。\n",
    "from functools import reduce "
   ]
  },
  {
   "cell_type": "markdown",
   "metadata": {},
   "source": [
    "# 2. import"
   ]
  },
  {
   "cell_type": "markdown",
   "metadata": {},
   "source": [
    "① import A\n",
    "\n",
    "1. 在调用模块中的函数时，必须加上模块名调用，因为可能存在多个模块中含有相同名称的函数，此时，如果只是通过函数名来调用，解释器无法知道到底要调用哪个函数。为了避免这样的情况，调用函数时，必须加模块名。\n",
    "2. import time 等价于 from time import *，即把time模块中的所有方法都导入。"
   ]
  },
  {
   "cell_type": "code",
   "execution_count": 2,
   "metadata": {},
   "outputs": [
    {
     "name": "stdout",
     "output_type": "stream",
     "text": [
      "1642328364.8267093\n"
     ]
    }
   ],
   "source": [
    "import time \n",
    "\n",
    "# 第一个time是模块，第二个time是方法，要用模块加方法的形式，因为不同模块可能有相同的方法\n",
    "print(time.time()) "
   ]
  },
  {
   "cell_type": "code",
   "execution_count": 3,
   "metadata": {},
   "outputs": [
    {
     "name": "stdout",
     "output_type": "stream",
     "text": [
      "None\n"
     ]
    }
   ],
   "source": [
    "import time\n",
    "\n",
    "# print(sleep(2))     # 会报错，它不知道sleep()方法是哪个模块中的，所以不会去调用\n",
    "print(time.sleep(2))  # 不报错，仅导入模块时，一定要用 模块.方法 的形式"
   ]
  },
  {
   "cell_type": "markdown",
   "metadata": {},
   "source": [
    "② from A import b\n",
    "\n",
    "1. 不会把整个模块导入进来，只会把A模块的b方法导入进来(相当于把这个方法写在文件的开头)，不能写模块名。\n",
    "2. 从A模块里导入一个函数或者一个变量 b。\n",
    "3. from导入模块，import导入类名，实例化时可直接用类名了。"
   ]
  },
  {
   "cell_type": "code",
   "execution_count": 4,
   "metadata": {},
   "outputs": [
    {
     "name": "stdout",
     "output_type": "stream",
     "text": [
      "1642328384.3342226\n"
     ]
    }
   ],
   "source": [
    "from time import time  # 仅仅导入了time模块中time方法\n",
    "\n",
    "print(time())           # 不会报错，不用加模块名\n",
    "# print(time.time())    # 报错，相当于仅仅把time方法写在本文件头部，不能加模块名\n",
    "# print(sleep(1))       # 报错，除非用 from time import time,sleep\n",
    "# print(time.sleep(1))  # 报错，除非用 import time"
   ]
  },
  {
   "cell_type": "markdown",
   "metadata": {},
   "source": [
    "③ import A as b\n",
    "\n",
    "1. 将A重新命名为b。"
   ]
  },
  {
   "cell_type": "code",
   "execution_count": 5,
   "metadata": {},
   "outputs": [
    {
     "name": "stdout",
     "output_type": "stream",
     "text": [
      "1642328402.0457485\n"
     ]
    }
   ],
   "source": [
    "# time重命名为t\n",
    "import time as t\n",
    "print(t.time())       # 等价于原来的 print(time.time())，但重命名后不可以用 print(time.time())\n",
    "#print(time.time())    # 报错，无法再用time作为模块名"
   ]
  },
  {
   "cell_type": "markdown",
   "metadata": {},
   "source": [
    "④ from A.B.c import d\n",
    "\n",
    "1. 软件项目来说不可能把所有代码放在一个文件中实现，它们一般会按照一定规则在不同的目录和文件中实现，然后互相调用。\n",
    "2. 从当前路径下，A文件夹下B文件夹下的c模块中，导入d方法"
   ]
  },
  {
   "cell_type": "code",
   "execution_count": null,
   "metadata": {},
   "outputs": [],
   "source": [
    "'''\n",
    "import p 调用本文件的当前目录下的 p模块\n",
    "import C.c1 调用当前路径下的C文件夹下的c1.py模块\n",
    "import C.c2 import c5 调用当前路径下的C文件夹下的c2.py模块中的c5方法 \n",
    "'''"
   ]
  },
  {
   "cell_type": "markdown",
   "metadata": {},
   "source": [
    "# 3. 模块内置属性"
   ]
  },
  {
   "cell_type": "markdown",
   "metadata": {},
   "source": [
    "① \\_\\_doc\\_\\_ 为打印文档说明(只能在文件的最开始，import前面，在后面的字符串不会打印)，即文档中的字符串。\n",
    "\n",
    "② \\_\\_file\\_\\_为打印本文件的路径。\n",
    "\n",
    "③ \\_\\_all\\_\\_打印过滤变量、函数和类。"
   ]
  },
  {
   "cell_type": "code",
   "execution_count": null,
   "metadata": {},
   "outputs": [],
   "source": [
    "'''\n",
    "import b1\n",
    "\n",
    "print(__doc__)\n",
    "print(__file__)    # 打印本模块的路径\n",
    "print(__all__)\n",
    "print(b1.__doc__)\n",
    "print(b1.__file__) # b1模块的路径\n",
    "print(b1.__all__)\n",
    "'''"
   ]
  },
  {
   "cell_type": "markdown",
   "metadata": {},
   "source": [
    "# 4. \\_\\_all\\_\\_"
   ]
  },
  {
   "cell_type": "markdown",
   "metadata": {},
   "source": [
    "① 因为模块中可能包含大量的不需要的变量、函数和类，可以通过设置 \\_\\_all\\_\\_起到过滤变量、函数和类的作用，变量.\\_\\_all\\_\\_ 包含一个列表。\n",
    "\n",
    "② 在以import * 方式导入时，会导入任意不以下划线打头的全局名词，有 * 的时候才跟 \\_\\_all\\_\\_ 搭配使用， 通过\\_\\_all\\_\\_起到过滤。\n",
    "\n",
    "③ 直接用import b1时，即导入b1模块的时候，在b1模块即使有\\_\\_all\\_是没有影响的，可以使用b1模块中的任何变量、函数和类。\n",
    "\n",
    "④ 模块中不使用\\_\\_all\\_\\_属性，则导入模块内的所有共有属性，方法和类。"
   ]
  },
  {
   "cell_type": "code",
   "execution_count": null,
   "metadata": {},
   "outputs": [],
   "source": [
    "'''\n",
    "# 以下是b1文件里代码\n",
    "__all__  =  ['b3','S','b4',b5] # 当用from b1 import * 只能用b3、b4和类S，可以需要过滤的b5，但是未赋值\n",
    "\n",
    "b3    =     1\n",
    "b4    =     2\n",
    "   \n",
    "clas S:\n",
    "    pass\n",
    "    \n",
    "def s():\n",
    "    pass\n",
    "'''\n",
    "\n",
    "'''\n",
    "# 当前文件下代码\n",
    "from b1 import *   # 导入b1模块，用 * 使得调用 __all__\n",
    "b4 = 5 \n",
    "print(b3)          # 可以打印b3，为1\n",
    "print(b4)          # 这里打印b4，为5\n",
    "k = S()            # 可以类的实例化\n",
    "s()                # 无法调用函数s()\n",
    "'''"
   ]
  },
  {
   "cell_type": "markdown",
   "metadata": {},
   "source": [
    "# 5. if \\_\\_name\\_\\_ == '\\_\\_main\\_\\_':"
   ]
  },
  {
   "cell_type": "markdown",
   "metadata": {},
   "source": [
    "① 当调入别的模块时，通常在模块中写 if \\_\\_name__ == '\\_\\_main\\_\\_': 这样能避免调用其他模块时，这些模块中的函数运行了，但是 if \\_\\_name\\_\\_ == '\\_\\_main\\_\\_' 以外的函数、变量、类都会运行，相当于把这些抄到了文件的头部，直接运行。"
   ]
  },
  {
   "cell_type": "code",
   "execution_count": null,
   "metadata": {},
   "outputs": [],
   "source": [
    "# 以下是b1.py模块内容\n",
    "\n",
    "print(\"宝贝入怀\")\n",
    "\n",
    "if __name__ ==  '__main__':\n",
    "    print(\"你好\")        "
   ]
  },
  {
   "cell_type": "code",
   "execution_count": null,
   "metadata": {},
   "outputs": [],
   "source": [
    "'''\n",
    "import b1  # 导入b1模块，会自动运行 if __name__ ==  '__main__'以外内容，就会打印print(\"宝贝入怀\")\n",
    "\n",
    "print(__name__)               # 代码在当前文件中跑，该模块的文件名__name__不是文件名，而是__main__。\n",
    "\n",
    "if __name__ ==  '__main__':\n",
    "    print(b1.__name__)        # 导入另一个模块的代码，另一个模块的文件名__name__是文件名b1。\n",
    "'''"
   ]
  }
 ],
 "metadata": {
  "kernelspec": {
   "display_name": "Python 3",
   "language": "python",
   "name": "python3"
  },
  "language_info": {
   "codemirror_mode": {
    "name": "ipython",
    "version": 3
   },
   "file_extension": ".py",
   "mimetype": "text/x-python",
   "name": "python",
   "nbconvert_exporter": "python",
   "pygments_lexer": "ipython3",
   "version": "3.7.4"
  },
  "toc": {
   "base_numbering": 1,
   "nav_menu": {},
   "number_sections": false,
   "sideBar": true,
   "skip_h1_title": false,
   "title_cell": "Table of Contents",
   "title_sidebar": "Contents",
   "toc_cell": false,
   "toc_position": {
    "height": "calc(100% - 180px)",
    "left": "10px",
    "top": "150px",
    "width": "277.983px"
   },
   "toc_section_display": true,
   "toc_window_display": true
  }
 },
 "nbformat": 4,
 "nbformat_minor": 4
}
