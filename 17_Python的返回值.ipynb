{
 "cells": [
  {
   "cell_type": "markdown",
   "metadata": {},
   "source": [
    "# Python的返回值"
   ]
  },
  {
   "cell_type": "markdown",
   "metadata": {},
   "source": [
    "# 1. Python的返回值"
   ]
  },
  {
   "cell_type": "markdown",
   "metadata": {},
   "source": [
    "① 返回值就是函数运行后的值，这个值可以自定义，可定义为传入的参数计算后的值、可定义为标志位、........\n",
    "\n",
    "② 函数运行后，获得函数的返回值，这个返回值可以带入到其他运算中进行运算。"
   ]
  },
  {
   "cell_type": "code",
   "execution_count": 1,
   "metadata": {},
   "outputs": [
    {
     "name": "stdout",
     "output_type": "stream",
     "text": [
      "aa\n"
     ]
    }
   ],
   "source": [
    "# Python语言\n",
    "\n",
    "def k():  \n",
    "    print('aa')  #   print()函数前面有缩进，缩进前面有冒号，print()函数是k()函数的下一级内容\n",
    "    \n",
    "k() # 调用k函数"
   ]
  },
  {
   "cell_type": "code",
   "execution_count": 30,
   "metadata": {},
   "outputs": [
    {
     "name": "stdout",
     "output_type": "stream",
     "text": [
      "ss\n",
      "3\n"
     ]
    }
   ],
   "source": [
    "def kk():\n",
    "    print(\"ss\")\n",
    "    return 1\n",
    "\n",
    "print(kk()+2)"
   ]
  },
  {
   "cell_type": "markdown",
   "metadata": {},
   "source": [
    "③ return 语句下方不能加语句(同级别)，但是像 if 里面可以用 return 然后用 elif，因为 return 和 elif 是不同级别，可以在 return 下方还有语句。\n",
    "\n",
    "④ 如果函数没有返回值的话，打印该函数，是为空的。"
   ]
  },
  {
   "cell_type": "code",
   "execution_count": 31,
   "metadata": {},
   "outputs": [
    {
     "name": "stdout",
     "output_type": "stream",
     "text": [
      "ss\n",
      "None\n"
     ]
    }
   ],
   "source": [
    "def kk():\n",
    "    print(\"ss\")\n",
    "\n",
    "print(kk())"
   ]
  },
  {
   "cell_type": "markdown",
   "metadata": {},
   "source": [
    "⑤ 如果函数没有返回值，那么函数的作用是仅仅运行函数内语句。\n",
    "\n",
    "⑥ 函数的返回值和函数作用后形式是不一样的。"
   ]
  },
  {
   "cell_type": "code",
   "execution_count": 32,
   "metadata": {},
   "outputs": [
    {
     "name": "stdout",
     "output_type": "stream",
     "text": [
      "None\n"
     ]
    }
   ],
   "source": [
    "list1=[\"张三\",\"李四\"]\n",
    "print(list1.append(\"王五\")) # list.append(\"王五\")没有返回值"
   ]
  },
  {
   "cell_type": "code",
   "execution_count": 33,
   "metadata": {},
   "outputs": [
    {
     "name": "stdout",
     "output_type": "stream",
     "text": [
      "['张三', '李四', '王五']\n"
     ]
    }
   ],
   "source": [
    "list1=[\"张三\",\"李四\"]\n",
    "list1.append(\"王五\")   \n",
    "print(list1)  # list.append(\"王五\")作用后，list1形式得到改变"
   ]
  }
 ],
 "metadata": {
  "kernelspec": {
   "display_name": "Python 3",
   "language": "python",
   "name": "python3"
  },
  "language_info": {
   "codemirror_mode": {
    "name": "ipython",
    "version": 3
   },
   "file_extension": ".py",
   "mimetype": "text/x-python",
   "name": "python",
   "nbconvert_exporter": "python",
   "pygments_lexer": "ipython3",
   "version": "3.7.4"
  },
  "toc": {
   "base_numbering": 1,
   "nav_menu": {},
   "number_sections": false,
   "sideBar": true,
   "skip_h1_title": false,
   "title_cell": "Table of Contents",
   "title_sidebar": "Contents",
   "toc_cell": false,
   "toc_position": {
    "height": "calc(100% - 180px)",
    "left": "10px",
    "top": "150px",
    "width": "277.983px"
   },
   "toc_section_display": true,
   "toc_window_display": true
  }
 },
 "nbformat": 4,
 "nbformat_minor": 4
}
