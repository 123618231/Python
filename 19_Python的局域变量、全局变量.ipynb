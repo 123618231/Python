{
 "cells": [
  {
   "cell_type": "markdown",
   "metadata": {},
   "source": [
    "# Python的局域变量、全局变量"
   ]
  },
  {
   "cell_type": "markdown",
   "metadata": {},
   "source": [
    "# 1. 局域变量、全局变量"
   ]
  },
  {
   "cell_type": "markdown",
   "metadata": {},
   "source": [
    "① 局部变量是在函数内部定义的变量，只能在函数内部使用，在函数外不可调用。"
   ]
  },
  {
   "cell_type": "code",
   "execution_count": 36,
   "metadata": {},
   "outputs": [
    {
     "ename": "NameError",
     "evalue": "name 'k' is not defined",
     "output_type": "error",
     "traceback": [
      "\u001b[1;31m---------------------------------------------------------------------------\u001b[0m",
      "\u001b[1;31mNameError\u001b[0m                                 Traceback (most recent call last)",
      "\u001b[1;32m<ipython-input-36-dd4ab87a75ed>\u001b[0m in \u001b[0;36m<module>\u001b[1;34m\u001b[0m\n\u001b[0;32m      3\u001b[0m \u001b[1;33m\u001b[0m\u001b[0m\n\u001b[0;32m      4\u001b[0m \u001b[0mkk\u001b[0m\u001b[1;33m(\u001b[0m\u001b[1;33m)\u001b[0m \u001b[1;31m# 调用kk函数\u001b[0m\u001b[1;33m\u001b[0m\u001b[1;33m\u001b[0m\u001b[0m\n\u001b[1;32m----> 5\u001b[1;33m \u001b[0mprint\u001b[0m\u001b[1;33m(\u001b[0m\u001b[0mk\u001b[0m\u001b[1;33m)\u001b[0m\u001b[1;33m\u001b[0m\u001b[1;33m\u001b[0m\u001b[0m\n\u001b[0m",
      "\u001b[1;31mNameError\u001b[0m: name 'k' is not defined"
     ]
    }
   ],
   "source": [
    "def kk():\n",
    "    k = 10\n",
    "    \n",
    "kk() # 调用kk函数\n",
    "print(k)"
   ]
  },
  {
   "cell_type": "markdown",
   "metadata": {},
   "source": [
    "② 全局变量是在函数外部定义的变量(没有定义在某一个函数内)，但是函数内部和外部都可以使用这个变量。"
   ]
  },
  {
   "cell_type": "code",
   "execution_count": 37,
   "metadata": {},
   "outputs": [
    {
     "name": "stdout",
     "output_type": "stream",
     "text": [
      "1\n",
      "1\n"
     ]
    }
   ],
   "source": [
    "def kk():\n",
    "    print(a)  # 函数内可以调用全局变量\n",
    "    \n",
    "a = 1 # 函数外定义，为全局变量\n",
    "print(a) # 函数外可以使用全局变量\n",
    "kk() # 调用kk函数"
   ]
  },
  {
   "cell_type": "markdown",
   "metadata": {},
   "source": [
    "③ 无论是可变类型，还是不可变类型的局域变量，都不可以在函数外调用。"
   ]
  },
  {
   "cell_type": "code",
   "execution_count": 38,
   "metadata": {},
   "outputs": [
    {
     "ename": "NameError",
     "evalue": "name 'm' is not defined",
     "output_type": "error",
     "traceback": [
      "\u001b[1;31m---------------------------------------------------------------------------\u001b[0m",
      "\u001b[1;31mNameError\u001b[0m                                 Traceback (most recent call last)",
      "\u001b[1;32m<ipython-input-38-6bb621ed1350>\u001b[0m in \u001b[0;36m<module>\u001b[1;34m\u001b[0m\n\u001b[0;32m      4\u001b[0m \u001b[1;33m\u001b[0m\u001b[0m\n\u001b[0;32m      5\u001b[0m \u001b[0mChangeInt\u001b[0m\u001b[1;33m(\u001b[0m\u001b[1;33m)\u001b[0m\u001b[1;33m\u001b[0m\u001b[1;33m\u001b[0m\u001b[0m\n\u001b[1;32m----> 6\u001b[1;33m \u001b[0mprint\u001b[0m\u001b[1;33m(\u001b[0m\u001b[1;34m\"退出函数后：\"\u001b[0m\u001b[1;33m,\u001b[0m\u001b[0mm\u001b[0m\u001b[1;33m)\u001b[0m \u001b[1;31m# 报错，不可变类型的局域变量a，不可以在函数外调用\u001b[0m\u001b[1;33m\u001b[0m\u001b[1;33m\u001b[0m\u001b[0m\n\u001b[0m",
      "\u001b[1;31mNameError\u001b[0m: name 'm' is not defined"
     ]
    }
   ],
   "source": [
    "def ChangeInt():\n",
    "    m = 10\n",
    "  #  print(\"函数内:\",a) \n",
    "\n",
    "ChangeInt()\n",
    "print(\"退出函数后：\",m) # 报错，不可变类型的局域变量a，不可以在函数外调用"
   ]
  },
  {
   "cell_type": "code",
   "execution_count": 39,
   "metadata": {},
   "outputs": [
    {
     "ename": "NameError",
     "evalue": "name 'd' is not defined",
     "output_type": "error",
     "traceback": [
      "\u001b[1;31m---------------------------------------------------------------------------\u001b[0m",
      "\u001b[1;31mNameError\u001b[0m                                 Traceback (most recent call last)",
      "\u001b[1;32m<ipython-input-39-03c0241557bf>\u001b[0m in \u001b[0;36m<module>\u001b[1;34m\u001b[0m\n\u001b[0;32m      5\u001b[0m \u001b[1;33m\u001b[0m\u001b[0m\n\u001b[0;32m      6\u001b[0m \u001b[0mChangeInt\u001b[0m\u001b[1;33m(\u001b[0m\u001b[1;33m)\u001b[0m\u001b[1;33m\u001b[0m\u001b[1;33m\u001b[0m\u001b[0m\n\u001b[1;32m----> 7\u001b[1;33m \u001b[0mprint\u001b[0m\u001b[1;33m(\u001b[0m\u001b[1;34m\"退出函数后b：\"\u001b[0m\u001b[1;33m,\u001b[0m\u001b[0md\u001b[0m\u001b[1;33m)\u001b[0m \u001b[1;31m# 报错，可变类型的局域变量d，不能在函数外调用\u001b[0m\u001b[1;33m\u001b[0m\u001b[1;33m\u001b[0m\u001b[0m\n\u001b[0m",
      "\u001b[1;31mNameError\u001b[0m: name 'd' is not defined"
     ]
    }
   ],
   "source": [
    "# 可变类型的局域变量d\n",
    "def ChangeInt():\n",
    "    d = [1,2]\n",
    "   # print(\"函数内b:\",d) \n",
    "\n",
    "ChangeInt()\n",
    "print(\"退出函数后b：\",d) # 报错，可变类型的局域变量d，不能在函数外调用"
   ]
  },
  {
   "cell_type": "markdown",
   "metadata": {},
   "source": [
    "④ 想要在函数外打印局域变量，需要用global声明局域变量，可以在函数外调用，并可以继续进行修改。"
   ]
  },
  {
   "cell_type": "code",
   "execution_count": 40,
   "metadata": {},
   "outputs": [
    {
     "name": "stdout",
     "output_type": "stream",
     "text": [
      "函数内局域变量b: 10\n",
      "退出函数后局域变量b： 10\n",
      "修改局域变量b： 20\n"
     ]
    }
   ],
   "source": [
    "def ChangeInt():  \n",
    "    global b  #  用 global 声明变量 b 为全局变量\n",
    "    b = 10  # 函数内定义，这是一个局域变量\n",
    "    print(\"函数内局域变量b:\",b) # 打印出来为10\n",
    "\n",
    "ChangeInt()\n",
    "print(\"退出函数后局域变量b：\",b)\n",
    "b = 20\n",
    "print(\"修改局域变量b：\",b) "
   ]
  },
  {
   "cell_type": "code",
   "execution_count": 41,
   "metadata": {},
   "outputs": [
    {
     "ename": "SyntaxError",
     "evalue": "name 'b' is parameter and global (<ipython-input-41-405505529a8a>, line 5)",
     "output_type": "error",
     "traceback": [
      "\u001b[1;36m  File \u001b[1;32m\"<ipython-input-41-405505529a8a>\"\u001b[1;36m, line \u001b[1;32m5\u001b[0m\n\u001b[1;33m    \u001b[0m\n\u001b[1;37m    ^\u001b[0m\n\u001b[1;31mSyntaxError\u001b[0m\u001b[1;31m:\u001b[0m name 'b' is parameter and global\n"
     ]
    }
   ],
   "source": [
    "def ChangeInt(b):  # 用入口参数传入变量，参数b为一个值，不是变量\n",
    "    global b  #  用 global，是声明变量，而不能声明值，所以报错\n",
    "    b = 10\n",
    "    print(\"函数内b:\",b) # 打印出来为10\n",
    "\n",
    "b = 2 # 函数外定义，这是一个全局变量\n",
    "print(\"进入函数前b：\",b) # 打印出来为2\n",
    "ChangeInt(b)\n",
    "print(\"退出函数后b：\",b) # 打印出来为10"
   ]
  },
  {
   "cell_type": "markdown",
   "metadata": {},
   "source": [
    "⑤ 大都不推荐使用全局变量因为其可变范围太大，导致程序不好维护。\n",
    "\n",
    "⑥ 对于不可变类型的全局变量来说，如 num=，要在函数中修改需要 global 声明，那么才可以在函数外打印函数中已经修改后的值。"
   ]
  },
  {
   "cell_type": "code",
   "execution_count": 42,
   "metadata": {},
   "outputs": [
    {
     "name": "stdout",
     "output_type": "stream",
     "text": [
      "函数内b: 10\n",
      "函数内b： 2\n"
     ]
    }
   ],
   "source": [
    "# 不可变类型的全局变量b，例如：\n",
    "def ChangeInt(b):\n",
    "    b = 10\n",
    "    print(\"函数内b:\",b) # 打印出来为10\n",
    "b = 2\n",
    "ChangeInt(b)\n",
    "print(\"函数内b：\",b) # 如果函数内不加global声明，打印出来为2，并不是修改后的值，而是原来的值"
   ]
  },
  {
   "cell_type": "markdown",
   "metadata": {},
   "source": [
    "⑦ 对于可变类型的全局变量来说，要在函数中修改可以不使用global声明，可以在函数外直接打印函数内修改后的值。"
   ]
  },
  {
   "cell_type": "code",
   "execution_count": 43,
   "metadata": {},
   "outputs": [
    {
     "name": "stdout",
     "output_type": "stream",
     "text": [
      "函数内b: [1, 2, 3, 4, 6]\n",
      "函数内b： [1, 2, 3, 4, 6]\n"
     ]
    }
   ],
   "source": [
    "# 可变类型的全局变量b，例如：\n",
    "def ChangeInt(b):\n",
    "    b.append(6)\n",
    "    print(\"函数内b:\",b) # 打印出来为[1,2,3,4,6]\n",
    "b = [1,2,3,4]  # 在函数外定义，为全局变量\n",
    "ChangeInt(b)\n",
    "print(\"函数内b：\",b) # 打印出来为[1,2,3,4,6]"
   ]
  }
 ],
 "metadata": {
  "kernelspec": {
   "display_name": "Python 3",
   "language": "python",
   "name": "python3"
  },
  "language_info": {
   "codemirror_mode": {
    "name": "ipython",
    "version": 3
   },
   "file_extension": ".py",
   "mimetype": "text/x-python",
   "name": "python",
   "nbconvert_exporter": "python",
   "pygments_lexer": "ipython3",
   "version": "3.7.4"
  },
  "toc": {
   "base_numbering": 1,
   "nav_menu": {},
   "number_sections": false,
   "sideBar": true,
   "skip_h1_title": false,
   "title_cell": "Table of Contents",
   "title_sidebar": "Contents",
   "toc_cell": false,
   "toc_position": {
    "height": "calc(100% - 180px)",
    "left": "10px",
    "top": "150px",
    "width": "277.983px"
   },
   "toc_section_display": true,
   "toc_window_display": true
  }
 },
 "nbformat": 4,
 "nbformat_minor": 4
}
