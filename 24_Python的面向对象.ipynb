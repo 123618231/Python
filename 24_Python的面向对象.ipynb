{
 "cells": [
  {
   "cell_type": "markdown",
   "metadata": {},
   "source": [
    "# Python的面向对象"
   ]
  },
  {
   "cell_type": "markdown",
   "metadata": {},
   "source": [
    "# 1. Python的面向对象"
   ]
  },
  {
   "cell_type": "markdown",
   "metadata": {},
   "source": [
    "① 在Python的世界里，万物皆对象，比如z=[1,2]，这一句代码就是创建了一个列表对象，然后给它取了一个名字叫z。\n",
    "\n",
    "② 类是用来描述具有相同的属性和方法的对象的集合，它定义了该集合中每个对象所共有的属性和方法。例如，小王、小李是对象，人类、动物是类。\n",
    "\n",
    "③ 类中有很多方法，例如，动物类中封装了吃、喝、玩等方法(函数)，类里面可以有一个功能，可以有多个功能。\n",
    "\n",
    "④ 当解决一个问题的时候，面向对象会把事物抽象成对象的概念，然后会把事情拆分成：这个问题里面有哪些对象，然后给对象赋一些属性和方法，然后让每个对象去执行自己的方法，问题得到解决，这就是面向对象。\n",
    "\n",
    "1. 面向过程：当解决一个问题的时候，面向过程会把事情拆分成：一个个函数和数据(用于方法的参数)。然后按照一定的顺序，执行完这些方法(每个方法看作一个个过程)，等方法执行完了，事情就搞定了。\n",
    "2. 函数式：将某功能代码封装到函数中，日后便无需重复编写，仅调用函数即可。"
   ]
  },
  {
   "cell_type": "code",
   "execution_count": 4,
   "metadata": {},
   "outputs": [
    {
     "name": "stdout",
     "output_type": "stream",
     "text": [
      "runoob 说：我 10 岁。\n"
     ]
    }
   ],
   "source": [
    "# coding=utf-8\n",
    "class PeopleMan:\n",
    "    # 定义基本类属性\n",
    "    name = ''\n",
    "    age = 0\n",
    "    sex = 'woman'\n",
    "    \n",
    "    # 定义实例属性\n",
    "    def __init__(self,n,a):\n",
    "        self.name = n\n",
    "        self.age = a\n",
    "\n",
    "    # 实例化方法\n",
    "    def speak(self):\n",
    "        print(\"%s 说：我 %d 岁。\" %(self.name,self.age))\n",
    "\n",
    "# 实例化对象\n",
    "p = PeopleMan('runoob',10)  # 赋予实例化对象属性\n",
    "# 实例化对象方法\n",
    "p.speak()                   # 让对象去执行自己的方法"
   ]
  },
  {
   "cell_type": "markdown",
   "metadata": {},
   "source": [
    "⑤ 对象是类的实例，类是对象的类型。类是抽象的概念，而对象是一个你能够摸得着，看得到的实体。两者相辅相成，谁也离不开谁。"
   ]
  }
 ],
 "metadata": {
  "kernelspec": {
   "display_name": "Python 3",
   "language": "python",
   "name": "python3"
  },
  "language_info": {
   "codemirror_mode": {
    "name": "ipython",
    "version": 3
   },
   "file_extension": ".py",
   "mimetype": "text/x-python",
   "name": "python",
   "nbconvert_exporter": "python",
   "pygments_lexer": "ipython3",
   "version": "3.7.4"
  },
  "toc": {
   "base_numbering": 1,
   "nav_menu": {},
   "number_sections": false,
   "sideBar": true,
   "skip_h1_title": false,
   "title_cell": "Table of Contents",
   "title_sidebar": "Contents",
   "toc_cell": false,
   "toc_position": {
    "height": "calc(100% - 180px)",
    "left": "10px",
    "top": "150px",
    "width": "277.983px"
   },
   "toc_section_display": true,
   "toc_window_display": true
  }
 },
 "nbformat": 4,
 "nbformat_minor": 4
}
