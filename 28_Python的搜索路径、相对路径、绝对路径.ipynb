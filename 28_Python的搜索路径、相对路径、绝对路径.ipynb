{
 "cells": [
  {
   "cell_type": "markdown",
   "metadata": {},
   "source": [
    "# Python的搜索路径、相对路径、绝对路径"
   ]
  },
  {
   "cell_type": "markdown",
   "metadata": {},
   "source": [
    "# 1. 搜索路径"
   ]
  },
  {
   "cell_type": "markdown",
   "metadata": {},
   "source": [
    "① 能导入模块的话，表示搜索路径中有这个模块文件。\n",
    "\n",
    "② 当你导入一个模块，Python解析器对模块位置的搜索顺序是：\n",
    "\n",
    "1. 当前目录\n",
    "2. 如果不在当前目录，Python的搜索在shell变量 PYTHONPATH 下的每个目录。\n",
    "3. 如果都找不到，Python会察看默认路径。UNIX下，默认路径一为/usr/local/lib/python/。\n",
    "\n",
    "③ 模块搜索路径存储在system模块的sys.path变量中。变量里包含当前目录，PYTHONPATH 和由安装过程决定的默认目录。\n",
    "\n",
    "1. PYTHONPATH是通过运行shell脚本，启动python程序的，它是和python安装路径有关的内置的搜索路径，每个人的电脑的python安装路径都不一样。\n",
    "2. Python搜索路径不是Python环境变量，配置python环境变量后cmd窗口可以直接调用python命令，不配置环境变量，在cmd中需要进去python所以的位置，才能运行python命令，Python环境变量和搜索路径完全不是一回事。\n",
    "3. 搜索路径的最后一个元素，'C:\\Users\\宝贝入怀\\.ipython'，这也是python内置的，不用管他了，解释器。\n",
    "\n",
    "④ 项目中主要要会往里面添加搜索路径，和查看搜索路径就好了。"
   ]
  },
  {
   "cell_type": "code",
   "execution_count": 1,
   "metadata": {},
   "outputs": [
    {
     "name": "stdout",
     "output_type": "stream",
     "text": [
      "['C:\\\\Users\\\\wangy\\\\Desktop\\\\Python', 'C:\\\\06_Anaconda\\\\software\\\\python37.zip', 'C:\\\\06_Anaconda\\\\software\\\\DLLs', 'C:\\\\06_Anaconda\\\\software\\\\lib', 'C:\\\\06_Anaconda\\\\software', '', 'C:\\\\06_Anaconda\\\\software\\\\lib\\\\site-packages', 'C:\\\\06_Anaconda\\\\software\\\\lib\\\\site-packages\\\\win32', 'C:\\\\06_Anaconda\\\\software\\\\lib\\\\site-packages\\\\win32\\\\lib', 'C:\\\\06_Anaconda\\\\software\\\\lib\\\\site-packages\\\\Pythonwin', 'C:\\\\06_Anaconda\\\\software\\\\lib\\\\site-packages\\\\IPython\\\\extensions', 'C:\\\\Users\\\\wangy\\\\.ipython']\n"
     ]
    }
   ],
   "source": [
    "import sys\n",
    "print(sys.path)"
   ]
  },
  {
   "cell_type": "markdown",
   "metadata": {},
   "source": [
    "# 2. 相对路径"
   ]
  },
  {
   "cell_type": "markdown",
   "metadata": {},
   "source": [
    "① 相对路径就是以当前文件为基准进行一级级目录指向被引用的资源文件。"
   ]
  },
  {
   "cell_type": "code",
   "execution_count": 2,
   "metadata": {},
   "outputs": [
    {
     "name": "stdout",
     "output_type": "stream",
     "text": [
      "我是小王同学\n",
      "我爱学习，哈哈哈\n"
     ]
    }
   ],
   "source": [
    "# 方法一：当前文件的目录下的C文件夹下读取文件b.txt\n",
    "with open('99_C\\\\b.txt','r',encoding='utf-8') as f:  # 一个\\是转义字符\n",
    "    print(f.read())                                # 每一行都读取"
   ]
  },
  {
   "cell_type": "code",
   "execution_count": 3,
   "metadata": {},
   "outputs": [
    {
     "name": "stdout",
     "output_type": "stream",
     "text": [
      "我是小王同学\n",
      "我爱学习，哈哈哈\n"
     ]
    }
   ],
   "source": [
    "# 方法二：当前文件的目录下的C文件夹下读取文件b.txt\n",
    "with open(r'99_C\\b.txt','r',encoding='utf-8') as f:  # 前面有r就不需要转义字符\\，表示里面的\\不是转义字符。\n",
    "    print(f.read())"
   ]
  },
  {
   "cell_type": "markdown",
   "metadata": {},
   "source": [
    "# 3. 绝对路径"
   ]
  },
  {
   "cell_type": "markdown",
   "metadata": {},
   "source": [
    "① 绝对路径就是文件的真正存在的路径，是指从硬盘的根目录开始，进行一级级目录指向文件。\n",
    "\n",
    "② 用绝对路径的方法会把路径写死了，如果把文件或文件夹拷贝到另外一个盘，路径就报错了。"
   ]
  },
  {
   "cell_type": "code",
   "execution_count": 4,
   "metadata": {},
   "outputs": [
    {
     "name": "stdout",
     "output_type": "stream",
     "text": [
      "我是小王同学\n",
      "我爱学习，哈哈哈\n"
     ]
    }
   ],
   "source": [
    "#coding=utf-8\n",
    "import os\n",
    "import sys\n",
    "\n",
    "# 方法一：\n",
    "with open(r'C:\\Users\\wangy\\Desktop\\Python\\99_C\\b.txt','r',encoding='utf-8') as f: # 文件夹中，复制该文件的路径，最后要加文件名字，记得要加r\n",
    "    print(f.read())"
   ]
  },
  {
   "cell_type": "code",
   "execution_count": 5,
   "metadata": {},
   "outputs": [
    {
     "data": {
      "text/plain": [
       "\"\\n#coding=utf-8\\nimport os\\nimport sys\\n\\n# 方法二：最好的方法 ( 字符拼接法，即使在linux系统也可用，因为\\\\在linux系统不可用，它用的是/ )\\n\\nprint(__file__) # 当前文件的路径\\ndir = os.path.dirname(__file__) # 当前文件的文件夹的路径\\npath = os.path.join(dir,'C','b.txt') # os.path.join() 合并路径，自动在字符串前加\\nwith open(path,'r',encoding='utf-8') as f: \\n    print(f.read())\\n\""
      ]
     },
     "execution_count": 5,
     "metadata": {},
     "output_type": "execute_result"
    }
   ],
   "source": [
    "'''\n",
    "不能在jupyter（或者其他交互式）中这样写。\n",
    "因为__file__属性只在.py文件里有。jupyter的文件不是.py文件\n",
    "把代码转移到pycharm或者直接xxx.py运行就可以了。\n",
    "'''\n",
    "\n",
    "'''\n",
    "#coding=utf-8\n",
    "import os\n",
    "import sys\n",
    "\n",
    "# 方法二：最好的方法 ( 字符拼接法，即使在linux系统也可用，因为\\在linux系统不可用，它用的是/ )\n",
    "\n",
    "print(__file__) # 当前文件的路径\n",
    "dir = os.path.dirname(__file__) # 当前文件的文件夹的路径\n",
    "path = os.path.join(dir,'C','b.txt') # os.path.join() 合并路径，自动在字符串前加\\\n",
    "\n",
    "with open(path,'r',encoding='utf-8') as f: \n",
    "    print(f.read())\n",
    "'''"
   ]
  },
  {
   "cell_type": "code",
   "execution_count": 6,
   "metadata": {},
   "outputs": [
    {
     "name": "stdout",
     "output_type": "stream",
     "text": [
      "['C:\\\\Users\\\\wangy\\\\Desktop\\\\Python', 'C:\\\\06_Anaconda\\\\software\\\\python37.zip', 'C:\\\\06_Anaconda\\\\software\\\\DLLs', 'C:\\\\06_Anaconda\\\\software\\\\lib', 'C:\\\\06_Anaconda\\\\software', '', 'C:\\\\06_Anaconda\\\\software\\\\lib\\\\site-packages', 'C:\\\\06_Anaconda\\\\software\\\\lib\\\\site-packages\\\\win32', 'C:\\\\06_Anaconda\\\\software\\\\lib\\\\site-packages\\\\win32\\\\lib', 'C:\\\\06_Anaconda\\\\software\\\\lib\\\\site-packages\\\\Pythonwin', 'C:\\\\06_Anaconda\\\\software\\\\lib\\\\site-packages\\\\IPython\\\\extensions', 'C:\\\\Users\\\\wangy\\\\.ipython']\n"
     ]
    }
   ],
   "source": [
    "import sys\n",
    "import os\n",
    "\n",
    "print(sys.path)  # 获得当前路径\n",
    "# print(__file__) # 获得当前文件路径名字，打印到当前文件的路径，末端为XXXXXX/某某.py文件\n",
    "# print(os.path.dirname(__file__)) # 获得当前文件的目录，没有末端的某某.py文件\n",
    "# print(os.path.dirname(os.path.dirname(__file__))) # 获得当前文件的上一层的目录\n",
    "# os.path.append(os.path.dirname(os.path.dirname(__file__)))  # 当前文件的上一层路径添加到os.path列表中，相当于os.path.append('..')\n",
    "# print(os.path) # os,path列表已添加该文件上一层文件的路径\n",
    "\n",
    "# 注：jupyter不是.py文件，.py文件里才有内置变量__file__。\n",
    "# 注：如果我想用，我就要先导入含有__file__变量的文件，才能用这个变量，要加模块名.。"
   ]
  },
  {
   "cell_type": "code",
   "execution_count": 7,
   "metadata": {},
   "outputs": [
    {
     "name": "stdout",
     "output_type": "stream",
     "text": [
      "['C:\\\\Users\\\\wangy\\\\Desktop\\\\Python', 'C:\\\\06_Anaconda\\\\software\\\\python37.zip', 'C:\\\\06_Anaconda\\\\software\\\\DLLs', 'C:\\\\06_Anaconda\\\\software\\\\lib', 'C:\\\\06_Anaconda\\\\software', '', 'C:\\\\06_Anaconda\\\\software\\\\lib\\\\site-packages', 'C:\\\\06_Anaconda\\\\software\\\\lib\\\\site-packages\\\\win32', 'C:\\\\06_Anaconda\\\\software\\\\lib\\\\site-packages\\\\win32\\\\lib', 'C:\\\\06_Anaconda\\\\software\\\\lib\\\\site-packages\\\\Pythonwin', 'C:\\\\06_Anaconda\\\\software\\\\lib\\\\site-packages\\\\IPython\\\\extensions', 'C:\\\\Users\\\\wangy\\\\.ipython']\n",
      "C:\\Users\\wangy\\Desktop\\Python\n",
      "C:\\Users\\wangy\\Desktop\n",
      "['C:\\\\Users\\\\wangy\\\\Desktop\\\\Python', 'C:\\\\06_Anaconda\\\\software\\\\python37.zip', 'C:\\\\06_Anaconda\\\\software\\\\DLLs', 'C:\\\\06_Anaconda\\\\software\\\\lib', 'C:\\\\06_Anaconda\\\\software', '', 'C:\\\\06_Anaconda\\\\software\\\\lib\\\\site-packages', 'C:\\\\06_Anaconda\\\\software\\\\lib\\\\site-packages\\\\win32', 'C:\\\\06_Anaconda\\\\software\\\\lib\\\\site-packages\\\\win32\\\\lib', 'C:\\\\06_Anaconda\\\\software\\\\lib\\\\site-packages\\\\Pythonwin', 'C:\\\\06_Anaconda\\\\software\\\\lib\\\\site-packages\\\\IPython\\\\extensions', 'C:\\\\Users\\\\wangy\\\\.ipython', 'C:\\\\Users\\\\wangy\\\\Desktop']\n"
     ]
    }
   ],
   "source": [
    "import sys\n",
    "import os\n",
    "\n",
    "print(sys.path)\n",
    "print(os.path.abspath('.')) # 得到当前文件所在目录的绝对路径\n",
    "print(os.path.abspath('..'))  # 得到当前文件所在目录的上一级目录的绝对路径\n",
    "\n",
    "sys.path.append(os.path.abspath('..'))  # 搜索路径的列表末尾添加上一级目录的绝对路径\n",
    "print(sys.path)  # 获得当前路径"
   ]
  }
 ],
 "metadata": {
  "kernelspec": {
   "display_name": "Python 3",
   "language": "python",
   "name": "python3"
  },
  "language_info": {
   "codemirror_mode": {
    "name": "ipython",
    "version": 3
   },
   "file_extension": ".py",
   "mimetype": "text/x-python",
   "name": "python",
   "nbconvert_exporter": "python",
   "pygments_lexer": "ipython3",
   "version": "3.7.4"
  },
  "toc": {
   "base_numbering": 1,
   "nav_menu": {},
   "number_sections": false,
   "sideBar": true,
   "skip_h1_title": false,
   "title_cell": "Table of Contents",
   "title_sidebar": "Contents",
   "toc_cell": false,
   "toc_position": {
    "height": "calc(100% - 180px)",
    "left": "10px",
    "top": "150px",
    "width": "277.983px"
   },
   "toc_section_display": true,
   "toc_window_display": true
  }
 },
 "nbformat": 4,
 "nbformat_minor": 4
}
