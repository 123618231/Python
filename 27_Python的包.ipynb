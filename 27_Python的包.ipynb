{
 "cells": [
  {
   "cell_type": "markdown",
   "metadata": {},
   "source": [
    "# Python的包"
   ]
  },
  {
   "cell_type": "markdown",
   "metadata": {},
   "source": [
    "# 1. Python的包"
   ]
  },
  {
   "cell_type": "markdown",
   "metadata": {},
   "source": [
    "① 包是一种管理Python模块命名空间的形式，采用 \"点模块名称\" 形式。比如一个模块的名称是A.B，那么他表示一个包A中的子模块B。\n",
    "\n",
    "② 包也是一种模块，可以包含其他模块。包是一个目录。要被Python视为包，目录必须包含\\_\\_init\\_\\_.py文件，包的导入会首先执行\\_\\_init.py\\_\\_文件(因此一定要在文件夹下写 \\_\\_init\\_\\_文件)。其他模块加入包中，放入包的目录即可。\n",
    "\n",
    "③ Python的每个模块的包中，都有一个\\_\\_init\\_\\_.py文件，有了这个文件，我们才能导入这个目录下的module，\\_\\_init\\_\\_.py的主要作用是Python中package的标识，不能删除。\n",
    "\n",
    "④ \\_\\_init\\_\\_.py 文件的作用是将文件夹变为一个Python模块，Python 中的每个模块的包中，都有\\_\\_init\\_\\_.py 文件。"
   ]
  },
  {
   "cell_type": "markdown",
   "metadata": {},
   "source": [
    "⑤ 在导入包的时候，Python会从sys.path中的目录来寻找这个包中包含的子目录。\n",
    "\n",
    "⑥ 包下文件要想全部能够使用，\\_\\_init\\_\\_.py文件得添加一句 from . import * ,意思是从当前包的目录导入所有的模块文件，因为包的导入会首先执行__init__.py。\n",
    "\n",
    "⑦ \\_\\_init\\_\\_文件控制包的导入行为。如果\\_\\_init\\_\\_文件为空的话，仅仅是把这个包导入，不会导入包中的模块。\\_\\_init\\_\\_文件中的\\_\\_all\\_\\_变量，是用来控制 from 包名 import * 时导入的模块，不是控制import包的导入的，包导入了就可以用包里的模块了。\n",
    "\n",
    "⑧ 可以在\\_\\_init\\_\\_文件中编写其他内容，在导入时，这些编写的内容就会被执行。"
   ]
  },
  {
   "cell_type": "markdown",
   "metadata": {},
   "source": [
    "09. 可以在\\_\\_init\\_\\_文件中向sys.path添加当前被调用模块路径。\n",
    "\n",
    "10. 当前文件的同等级的D包中导入a1.py文件，它首先会进入D文件夹下的\\_\\_init\\_\\_.py文件，\n",
    "\n",
    "11. 如果在\\_\\_init\\_\\_.py文件得添加一句 from . import * ，就会从当前包的目录导入所有的模块文件。"
   ]
  }
 ],
 "metadata": {
  "kernelspec": {
   "display_name": "Python 3",
   "language": "python",
   "name": "python3"
  },
  "language_info": {
   "codemirror_mode": {
    "name": "ipython",
    "version": 3
   },
   "file_extension": ".py",
   "mimetype": "text/x-python",
   "name": "python",
   "nbconvert_exporter": "python",
   "pygments_lexer": "ipython3",
   "version": "3.7.4"
  },
  "toc": {
   "base_numbering": 1,
   "nav_menu": {},
   "number_sections": false,
   "sideBar": true,
   "skip_h1_title": false,
   "title_cell": "Table of Contents",
   "title_sidebar": "Contents",
   "toc_cell": false,
   "toc_position": {
    "height": "calc(100% - 180px)",
    "left": "10px",
    "top": "150px",
    "width": "277.983px"
   },
   "toc_section_display": true,
   "toc_window_display": true
  }
 },
 "nbformat": 4,
 "nbformat_minor": 4
}
