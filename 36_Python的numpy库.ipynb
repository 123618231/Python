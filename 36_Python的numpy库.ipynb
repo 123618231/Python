{
 "cells": [
  {
   "cell_type": "markdown",
   "metadata": {},
   "source": [
    "# Python的numpy库"
   ]
  },
  {
   "cell_type": "markdown",
   "metadata": {},
   "source": [
    "# 1. numpy 简介"
   ]
  },
  {
   "cell_type": "markdown",
   "metadata": {},
   "source": [
    "① numpy是Python语言的一个扩展程序库，支持大量的维度数组与矩阵运算，此外也针对数组运算提供大量的数学函数库。\n",
    "\n",
    "② numpy是一个运行速度非常快的数学库，主要用于数组计算，包含：\n",
    "\n",
    "1. 一个强大的N维数组对象 ndarry\n",
    "2. 广播功能函数\n",
    "3. 整合 C/C++/Fortran 代码的工件\n",
    "\n",
    "③ Anaconda自带numpy库，纯python开发环境要安装numpy库，用anaconda的原因是因为它自带了大多数我们常用的包了。"
   ]
  },
  {
   "cell_type": "markdown",
   "metadata": {},
   "source": [
    "④ numpy最重要的一个特点是其N维\"数组\"对象ndarry，它是一系列 \"同类型数据\" 的集合，以0下标为开始进行集合中元素的索引。\n",
    "\n",
    "⑤ ndarray对象是用于存放同类型元素的多维数组。\n",
    "\n",
    "⑥ ndarray中每个元素在内存中都有相同存储大小的区域。"
   ]
  },
  {
   "cell_type": "code",
   "execution_count": 1,
   "metadata": {},
   "outputs": [
    {
     "name": "stdout",
     "output_type": "stream",
     "text": [
      "[[1 2 3]\n",
      " [4 5 6]]\n",
      "2\n",
      "(2, 3)\n",
      "6\n",
      "int32\n"
     ]
    }
   ],
   "source": [
    "import numpy as np\n",
    "a = np.array([[1,2,3],[4,5,6]])\n",
    "print(a)\n",
    "print(a.ndim)    # ndarry维度\n",
    "print(a.shape)   # ndarry形状\n",
    "print(a.size)    # ndarry元素个数\n",
    "print(a.dtype)   # ndarry元素类型"
   ]
  },
  {
   "cell_type": "code",
   "execution_count": 2,
   "metadata": {},
   "outputs": [
    {
     "name": "stdout",
     "output_type": "stream",
     "text": [
      "[[[1 2 3]\n",
      "  [4 5 6]]]\n",
      "3\n",
      "(1, 2, 3)\n",
      "6\n",
      "int32\n"
     ]
    }
   ],
   "source": [
    "import numpy as np\n",
    "a = np.array([[[1,2,3],[4,5,6]]])\n",
    "print(a)\n",
    "print(a.ndim)    # ndarry维度跟最外层括号[]有关\n",
    "                 # 第一个括号去掉，有一个元素，所以第一维为1，第二个括号去掉有两个元素，所以第二维为2\n",
    "print(a.shape)   \n",
    "print(a.size)   \n",
    "print(a.dtype)   # a中元素为int32"
   ]
  },
  {
   "cell_type": "code",
   "execution_count": 3,
   "metadata": {},
   "outputs": [
    {
     "name": "stdout",
     "output_type": "stream",
     "text": [
      "[[list([1, 2, 3, 8]) list([4, 5, 6])]]\n",
      "2\n",
      "(1, 2)\n",
      "2\n",
      "object\n"
     ]
    }
   ],
   "source": [
    "import numpy as np\n",
    "a = np.array([[[1,2,3,8],[4,5,6]]])\n",
    "print(a)          # 当不同长度时，np.array会将里面的数组转换为列表\n",
    "print(a.ndim)     # 只有两维，存的的是两个列表，所以减少一维\n",
    "print(a.shape)   \n",
    "print(a.size)   \n",
    "print(a.dtype)    # a中元素为对象了"
   ]
  },
  {
   "cell_type": "code",
   "execution_count": 4,
   "metadata": {},
   "outputs": [
    {
     "name": "stdout",
     "output_type": "stream",
     "text": [
      "[[[1. 2. 3.]\n",
      "  [4. 5. 6.]]]\n",
      "3\n",
      "(1, 2, 3)\n",
      "6\n",
      "float64\n"
     ]
    }
   ],
   "source": [
    "import numpy as np\n",
    "a = np.array([[[1,2.0,3],[4,5,6]]])  # 有一个浮点型 2.0\n",
    "print(a)                             # 全部变为浮点型了\n",
    "print(a.ndim)    \n",
    "print(a.shape)   \n",
    "print(a.size)   \n",
    "print(a.dtype)                       # 变为浮点型数据了"
   ]
  },
  {
   "cell_type": "markdown",
   "metadata": {},
   "source": [
    "# 2. numpy 数据类型"
   ]
  },
  {
   "cell_type": "markdown",
   "metadata": {},
   "source": [
    "① 创建numpy数组的时候可以通过属性dtype显示指定数据的类型。\n",
    "\n",
    "② 在不指定数据类型的情况下，numpy会自动推断出适合的数据类型。\n",
    "\n",
    "③ 如果需要更改一个已经存在的数组的数据类型，可以通过astype方法进行修改从而得到一个新数组。"
   ]
  },
  {
   "cell_type": "code",
   "execution_count": 5,
   "metadata": {},
   "outputs": [
    {
     "name": "stdout",
     "output_type": "stream",
     "text": [
      "int32\n",
      "int32\n",
      "[1 2 3 4]\n",
      "float64\n",
      "[1. 2. 3. 4.]\n"
     ]
    }
   ],
   "source": [
    "a2 = np.array([1,2,3,4])  # 自动推断出合适的数据类型，里面无浮点数，变为int32\n",
    "print(a2.dtype)\n",
    "a3 = a2.astype(float)     # astype得到的是一个新数组，原数组没有改变。\n",
    "print(a2.dtype)\n",
    "print(a2)\n",
    "print(a3.dtype)\n",
    "print(a3)"
   ]
  },
  {
   "cell_type": "markdown",
   "metadata": {},
   "source": [
    "# 3. numpy 常用方法"
   ]
  },
  {
   "cell_type": "markdown",
   "metadata": {},
   "source": [
    "① arange()函数：类似python的range函数，通过指定开始值、终值和步长来创建一个一维数组，注意：最终创建的数组不包含终值。\n",
    "\n",
    "② linspace()函数：通过指定开始值、终值和元素个数来创建一个一维数组，数组的数据元素符合等差数列，可以通过endpoint关键字指定是否包含终值，默认包含终值。\n",
    "\n",
    "③ logspace()函数：和linspace函数类似，不过创建的是等比数列数组。\n",
    "\n",
    "④ random()函数：创建0-1之间的随机元素，数组包含的元素数量由参数决定。"
   ]
  },
  {
   "cell_type": "code",
   "execution_count": 6,
   "metadata": {},
   "outputs": [
    {
     "data": {
      "text/plain": [
       "array([[1, 2],\n",
       "       [3, 4],\n",
       "       [5, 6]])"
      ]
     },
     "execution_count": 6,
     "metadata": {},
     "output_type": "execute_result"
    }
   ],
   "source": [
    "import numpy as np\n",
    "x = np.empty([3,2],dtype = np.int)    # 产生3行2列的二维数组，数组中每个元素都是随机数\n",
    "x  "
   ]
  },
  {
   "cell_type": "code",
   "execution_count": 7,
   "metadata": {},
   "outputs": [
    {
     "data": {
      "text/plain": [
       "array([0, 0, 0, 0, 0])"
      ]
     },
     "execution_count": 7,
     "metadata": {},
     "output_type": "execute_result"
    }
   ],
   "source": [
    "# 创建数组的时候，可以用列表或者元组指定它的形状\n",
    "x = np.zeros((5,),dtype = np.int)    # 等价于 x = np.zeros([5],dtype = np.int)\n",
    "x                                    # array是数组的意思，表示x是一个一维数组，数组里面每个元素都是0"
   ]
  },
  {
   "cell_type": "code",
   "execution_count": 8,
   "metadata": {},
   "outputs": [
    {
     "name": "stdout",
     "output_type": "stream",
     "text": [
      "object\n"
     ]
    },
    {
     "data": {
      "text/plain": [
       "array([(1, 2, 3), (4, 5)], dtype=object)"
      ]
     },
     "execution_count": 8,
     "metadata": {},
     "output_type": "execute_result"
    }
   ],
   "source": [
    "# 把一个数组转换为numpy,如果长度不相等，则存储的是元组对象\n",
    "b = [(1,2,3),(4,5)]\n",
    "a = np.asarray(b)\n",
    "print(a.dtype)                        # 变成对象了\n",
    "a"
   ]
  },
  {
   "cell_type": "code",
   "execution_count": 9,
   "metadata": {},
   "outputs": [
    {
     "data": {
      "text/plain": [
       "array([[1, 3],\n",
       "       [4, 5]])"
      ]
     },
     "execution_count": 9,
     "metadata": {},
     "output_type": "execute_result"
    }
   ],
   "source": [
    "# 如果长度相等，则把里面的元组转换为ndarray\n",
    "b = [(1,3),(4,5)]\n",
    "a = np.asarray(b)\n",
    "a"
   ]
  },
  {
   "cell_type": "code",
   "execution_count": 10,
   "metadata": {},
   "outputs": [
    {
     "data": {
      "text/plain": [
       "(2, 2)"
      ]
     },
     "execution_count": 10,
     "metadata": {},
     "output_type": "execute_result"
    }
   ],
   "source": [
    "b = np.asarray([1,2,3,4]).reshape(2,2)\n",
    "b.shape"
   ]
  },
  {
   "cell_type": "code",
   "execution_count": 11,
   "metadata": {},
   "outputs": [
    {
     "name": "stdout",
     "output_type": "stream",
     "text": [
      "[[[ 1  2  3]\n",
      "  [ 4  5  6]]\n",
      "\n",
      " [[ 7  8  9]\n",
      "  [10 11 12]]]\n",
      "[[ 1  2  3  4  5  6]\n",
      " [ 7  8  9 10 11 12]]\n",
      "[[[ 1  2]\n",
      "  [ 3  4]\n",
      "  [ 5  6]]\n",
      "\n",
      " [[ 7  8]\n",
      "  [ 9 10]\n",
      "  [11 12]]]\n"
     ]
    }
   ],
   "source": [
    "a = np.asarray([1,2,3,4,5,6,7,8,9,10,11,12]).reshape((-1,2,3))  # -1表示自动的，也就是所有的元素除以2除以3后的数据\n",
    "b = np.asarray([1,2,3,4,5,6,7,8,9,10,11,12]).reshape((2,-1))\n",
    "c = np.asarray([1,2,3,4,5,6,7,8,9,10,11,12]).reshape((2,-1,2))\n",
    "print(a)\n",
    "print(b)\n",
    "print(c)"
   ]
  },
  {
   "cell_type": "code",
   "execution_count": 12,
   "metadata": {},
   "outputs": [
    {
     "data": {
      "text/plain": [
       "array([0., 1., 2., 3., 4.])"
      ]
     },
     "execution_count": 12,
     "metadata": {},
     "output_type": "execute_result"
    }
   ],
   "source": [
    "x = np.arange(5, dtype = float)\n",
    "x                          # 产生一个0-4的浮点型数组"
   ]
  },
  {
   "cell_type": "code",
   "execution_count": 13,
   "metadata": {},
   "outputs": [
    {
     "name": "stdout",
     "output_type": "stream",
     "text": [
      "[ 0.          1.66666667  3.33333333  5.          6.66666667  8.33333333\n",
      " 10.        ]\n",
      "[ 0  1  3  5  6  8 10]\n",
      "[ 0.          1.66666667  3.33333333  5.          6.66666667  8.33333333\n",
      " 10.        ]\n"
     ]
    }
   ],
   "source": [
    "q = np.linspace(0,10,7)\n",
    "print(q)                   # 数组里有点.的的原因是linspace方法默认返回的数据类型是浮点型\n",
    "print(q.astype('int32'))   # q的复制品变为int32型\n",
    "print(q)                   # q并没有变化"
   ]
  },
  {
   "cell_type": "markdown",
   "metadata": {},
   "source": [
    "# 4. numpy 修改形状"
   ]
  },
  {
   "cell_type": "markdown",
   "metadata": {},
   "source": [
    "① 对于一个已经存在的ndarray数组对象而言，可以通过修改形状相关的参数/方法从而改变数组的形状。\n",
    "\n",
    "② 直接使用reshape函数创建一个改变尺寸的新数组，原数组的shape保持不变，但是新数组和原数组共享一个内存空间，也就是修改任何一个数组中的值都会对另外一个产生影响，另外要求新数组的元素个数和原数组一致。"
   ]
  },
  {
   "cell_type": "code",
   "execution_count": 14,
   "metadata": {},
   "outputs": [
    {
     "name": "stdout",
     "output_type": "stream",
     "text": [
      "7\n",
      "[7]\n"
     ]
    }
   ],
   "source": [
    "a = np.arange(10)\n",
    "b = a[-3]       # 索引获得的数值\n",
    "c = a[7:8]      # 切片获得的是数组\n",
    "print(b)\n",
    "print(c)"
   ]
  },
  {
   "cell_type": "code",
   "execution_count": 15,
   "metadata": {},
   "outputs": [
    {
     "name": "stdout",
     "output_type": "stream",
     "text": [
      "2\n",
      "0\n",
      "[6 9]\n",
      "1\n",
      "[[4 5]\n",
      " [7 8]]\n",
      "2\n"
     ]
    }
   ],
   "source": [
    "a = np.array([[1,2,3],[4,5,6],[7,8,9]])\n",
    "print(a.ndim)\n",
    "b = a[2,2]          # 用一次索引降低一个维度\n",
    "print(b.ndim)       # 用了两次索引，0维，为一个值\n",
    "c = a[1:,2]\n",
    "print(c)\n",
    "print(c.ndim)       # 用了一次索引，1维，为一维数组\n",
    "d = a[1:,:2]        # 中括号能触发魔术方法 \n",
    "print(d)\n",
    "print(d.ndim)       # 没有用索引，2维，为二维数组"
   ]
  },
  {
   "cell_type": "code",
   "execution_count": 16,
   "metadata": {},
   "outputs": [
    {
     "name": "stdout",
     "output_type": "stream",
     "text": [
      "[[1 2 3]\n",
      " [4 5 6]\n",
      " [7 8 9]]\n",
      "[[5 6]\n",
      " [8 9]]\n",
      "2\n",
      "[[5 6]\n",
      " [8 9]]\n",
      "2\n",
      "[[5 6]\n",
      " [8 9]]\n",
      "2\n",
      "[5 9]\n",
      "1\n"
     ]
    }
   ],
   "source": [
    "x = np.array([[1,2,3],[4,5,6],[7,8,9]])\n",
    "print(x)\n",
    "\n",
    "y = x[1:3,[1,2]]\n",
    "print(y)\n",
    "print(y.ndim)\n",
    "\n",
    "z = x[[1,2],1:3]\n",
    "print(z)\n",
    "print(z.ndim)\n",
    "\n",
    "m = x[1:3,1:3]\n",
    "print(m)\n",
    "print(m.ndim)\n",
    "\n",
    "n = x[[1,2],[1,2]]   # 都是数组时，取的是值，数组维数为一维\n",
    "print(n)\n",
    "print(n.ndim)"
   ]
  },
  {
   "cell_type": "code",
   "execution_count": 17,
   "metadata": {},
   "outputs": [
    {
     "name": "stdout",
     "output_type": "stream",
     "text": [
      "[[1 2 3]\n",
      " [4 5 6]\n",
      " [7 8 9]]\n",
      "2\n",
      "[[5 6]\n",
      " [8 9]]\n",
      "2\n",
      "[5 9]\n",
      "1\n"
     ]
    }
   ],
   "source": [
    "import numpy as np\n",
    "a = np.array([[1,2,3],[4,5,6],[7,8,9]])\n",
    "print(a)\n",
    "print(a.ndim)\n",
    "b = a[1:3,[1,2]]\n",
    "print(b)\n",
    "print(b.ndim)\n",
    "c = a[[1,2],[1,2]]\n",
    "print(c)\n",
    "print(c.ndim)"
   ]
  },
  {
   "cell_type": "code",
   "execution_count": 18,
   "metadata": {},
   "outputs": [
    {
     "name": "stdout",
     "output_type": "stream",
     "text": [
      "[2 5 8]\n",
      "[4 5 6]\n",
      "[7 8 9]\n"
     ]
    }
   ],
   "source": [
    "a = np.array([[1,2,3],[4,5,6],[7,8,9]])\n",
    "print(a[...,1])  # 取第二列\n",
    "print(a[1,...])  # 取第二行\n",
    "print(a[2])      # 取第三行\n",
    "\n",
    "# ...表示不进行任何操作，和冒号:一样的意思"
   ]
  },
  {
   "cell_type": "code",
   "execution_count": 19,
   "metadata": {},
   "outputs": [
    {
     "name": "stdout",
     "output_type": "stream",
     "text": [
      "[[1 2]\n",
      " [3 4]\n",
      " [5 6]]\n",
      "[1 4 5]\n"
     ]
    }
   ],
   "source": [
    "x = np.array([[1,2],[3,4],[5,6]])\n",
    "print(x)\n",
    "                               # 数组，数组 → 取行和列中对应元素，维度为1维\n",
    "y = x[[0,1,2],[0,1,0]]         # [0,1,2] 取的每行的所有，即第0行、第1行、第2行 此方法相对切片可以得到任意位置\n",
    "print(y)"
   ]
  },
  {
   "cell_type": "code",
   "execution_count": 20,
   "metadata": {},
   "outputs": [
    {
     "name": "stdout",
     "output_type": "stream",
     "text": [
      "[[1 2]\n",
      " [3 4]\n",
      " [5 6]]\n",
      "[[3 4]\n",
      " [5 6]]\n",
      "[[3 4 3]\n",
      " [5 6 5]]\n"
     ]
    }
   ],
   "source": [
    "x = np.array([[1,2],[3,4],[5,6]])\n",
    "print(x)\n",
    "                               # 切片，数组 → 取行对应元素，维度不变\n",
    "y = x[1:3,[0,1]]               # 取第0列、第1列元素\n",
    "z = x[1:3,[0,1,0]]             # 取第0列、第1列、第0列元素\n",
    "print(y)\n",
    "print(z)"
   ]
  },
  {
   "cell_type": "code",
   "execution_count": 21,
   "metadata": {},
   "outputs": [
    {
     "name": "stdout",
     "output_type": "stream",
     "text": [
      "[[1 2]\n",
      " [3 4]]\n"
     ]
    },
    {
     "data": {
      "text/plain": [
       "array([[1, 2],\n",
       "       [3, 4]])"
      ]
     },
     "execution_count": 21,
     "metadata": {},
     "output_type": "execute_result"
    }
   ],
   "source": [
    "x = np.array([[1,2],[3,4],[5,6]])\n",
    "y = x[[True,True,False]]       # 取第0行、第1行，第3行不取\n",
    "print(y)\n",
    "y                              # 相对print(y)，用y就有逗号"
   ]
  },
  {
   "cell_type": "code",
   "execution_count": 22,
   "metadata": {},
   "outputs": [
    {
     "name": "stdout",
     "output_type": "stream",
     "text": [
      "[[ 0  1  2  3]\n",
      " [ 4  5  6  7]\n",
      " [ 8  9 10 11]\n",
      " [12 13 14 15]\n",
      " [16 17 18 19]\n",
      " [20 21 22 23]\n",
      " [24 25 26 27]\n",
      " [28 29 30 31]]\n"
     ]
    },
    {
     "data": {
      "text/plain": [
       "array([[16, 17, 18, 19],\n",
       "       [24, 25, 26, 27],\n",
       "       [28, 29, 30, 31],\n",
       "       [ 4,  5,  6,  7]])"
      ]
     },
     "execution_count": 22,
     "metadata": {},
     "output_type": "execute_result"
    }
   ],
   "source": [
    "x = np.arange(32).reshape((8,4))\n",
    "print(x)\n",
    "x[[-4,-2,-1,-7]]                # 取-4列、-2列、-1列、-7列的数组"
   ]
  },
  {
   "cell_type": "markdown",
   "metadata": {},
   "source": [
    "# 5. numpy 广播"
   ]
  },
  {
   "cell_type": "markdown",
   "metadata": {},
   "source": [
    "① 广播是numpy对不同形状的数组进行数值计算的方式。\n",
    "\n",
    "② 如果两个数组a和b形状相同，即满足 a.shape == b.shape,那么 a*b的结果就是 a与b数组对应位相乘。这要求维数相同，且各维度的长度相同。\n",
    "\n",
    "③ 广播就是 a.shape != b.shape，但是数组a和b能进行运算，数组a通过广播与数组b兼容。\n",
    "\n",
    "④ 数组a和b能进行运算有两点情况：\n",
    "\n",
    "1. 要么两个数组的维度相同。\n",
    "2. 要么先比较最右边维度，看是否有一个为1，为1再看左边两个数组的维度是否相同或者为1。\n",
    "\n",
    "⑤ 多个维度，只看最短的维度是否触发广播机制。"
   ]
  },
  {
   "cell_type": "markdown",
   "metadata": {},
   "source": [
    "# 6. numpy 转置"
   ]
  },
  {
   "cell_type": "markdown",
   "metadata": {},
   "source": [
    "① 转置时重塑的一种特殊形式，它返回的是源数据的 视图(不会进行任何赋值操作)。\n",
    "\n",
    "② 数组不仅有transpose方法，还有一个特殊的T属性。"
   ]
  },
  {
   "cell_type": "code",
   "execution_count": 24,
   "metadata": {},
   "outputs": [
    {
     "name": "stdout",
     "output_type": "stream",
     "text": [
      "[[ 0  1  2  3  4]\n",
      " [ 5  6  7  8  9]\n",
      " [10 11 12 13 14]]\n",
      "[[ 0  5 10]\n",
      " [ 1  6 11]\n",
      " [ 2  7 12]\n",
      " [ 3  8 13]\n",
      " [ 4  9 14]]\n",
      "[[ 0  5 10]\n",
      " [ 1  6 11]\n",
      " [ 2  7 12]\n",
      " [ 3  8 13]\n",
      " [ 4  9 14]]\n",
      "[[ 0  5 10]\n",
      " [ 1  6 11]\n",
      " [ 2  7 12]\n",
      " [ 3  8 13]\n",
      " [ 4  9 14]]\n",
      "[[ 0  1  2  3  4]\n",
      " [ 5  6  7  8  9]\n",
      " [10 11 12 13 14]]\n"
     ]
    }
   ],
   "source": [
    "import numpy as np\n",
    "arr = np.arange(15).reshape((3,5))\n",
    "print(arr)\n",
    "\n",
    "# 方法一：\n",
    "print(arr.T)               # 用数组的T方法进行转置\n",
    "\n",
    "# 方法二：\n",
    "print(np.transpose(arr))   # 用transpose方法一进行转置\n",
    "\n",
    "# 方法三：\n",
    "print(arr.transpose(1,0))  # 用transpose方法二进行转置\n",
    "\n",
    "print(arr)                 # 源数据没有变化"
   ]
  },
  {
   "cell_type": "code",
   "execution_count": 25,
   "metadata": {},
   "outputs": [
    {
     "name": "stdout",
     "output_type": "stream",
     "text": [
      "[[[[  0   1   2   3   4]\n",
      "   [  5   6   7   8   9]\n",
      "   [ 10  11  12  13  14]\n",
      "   [ 15  16  17  18  19]]\n",
      "\n",
      "  [[ 20  21  22  23  24]\n",
      "   [ 25  26  27  28  29]\n",
      "   [ 30  31  32  33  34]\n",
      "   [ 35  36  37  38  39]]\n",
      "\n",
      "  [[ 40  41  42  43  44]\n",
      "   [ 45  46  47  48  49]\n",
      "   [ 50  51  52  53  54]\n",
      "   [ 55  56  57  58  59]]]\n",
      "\n",
      "\n",
      " [[[ 60  61  62  63  64]\n",
      "   [ 65  66  67  68  69]\n",
      "   [ 70  71  72  73  74]\n",
      "   [ 75  76  77  78  79]]\n",
      "\n",
      "  [[ 80  81  82  83  84]\n",
      "   [ 85  86  87  88  89]\n",
      "   [ 90  91  92  93  94]\n",
      "   [ 95  96  97  98  99]]\n",
      "\n",
      "  [[100 101 102 103 104]\n",
      "   [105 106 107 108 109]\n",
      "   [110 111 112 113 114]\n",
      "   [115 116 117 118 119]]]]\n",
      "(2, 3, 4, 5)\n",
      "[[[[  0  60]\n",
      "   [ 20  80]\n",
      "   [ 40 100]]\n",
      "\n",
      "  [[  5  65]\n",
      "   [ 25  85]\n",
      "   [ 45 105]]\n",
      "\n",
      "  [[ 10  70]\n",
      "   [ 30  90]\n",
      "   [ 50 110]]\n",
      "\n",
      "  [[ 15  75]\n",
      "   [ 35  95]\n",
      "   [ 55 115]]]\n",
      "\n",
      "\n",
      " [[[  1  61]\n",
      "   [ 21  81]\n",
      "   [ 41 101]]\n",
      "\n",
      "  [[  6  66]\n",
      "   [ 26  86]\n",
      "   [ 46 106]]\n",
      "\n",
      "  [[ 11  71]\n",
      "   [ 31  91]\n",
      "   [ 51 111]]\n",
      "\n",
      "  [[ 16  76]\n",
      "   [ 36  96]\n",
      "   [ 56 116]]]\n",
      "\n",
      "\n",
      " [[[  2  62]\n",
      "   [ 22  82]\n",
      "   [ 42 102]]\n",
      "\n",
      "  [[  7  67]\n",
      "   [ 27  87]\n",
      "   [ 47 107]]\n",
      "\n",
      "  [[ 12  72]\n",
      "   [ 32  92]\n",
      "   [ 52 112]]\n",
      "\n",
      "  [[ 17  77]\n",
      "   [ 37  97]\n",
      "   [ 57 117]]]\n",
      "\n",
      "\n",
      " [[[  3  63]\n",
      "   [ 23  83]\n",
      "   [ 43 103]]\n",
      "\n",
      "  [[  8  68]\n",
      "   [ 28  88]\n",
      "   [ 48 108]]\n",
      "\n",
      "  [[ 13  73]\n",
      "   [ 33  93]\n",
      "   [ 53 113]]\n",
      "\n",
      "  [[ 18  78]\n",
      "   [ 38  98]\n",
      "   [ 58 118]]]\n",
      "\n",
      "\n",
      " [[[  4  64]\n",
      "   [ 24  84]\n",
      "   [ 44 104]]\n",
      "\n",
      "  [[  9  69]\n",
      "   [ 29  89]\n",
      "   [ 49 109]]\n",
      "\n",
      "  [[ 14  74]\n",
      "   [ 34  94]\n",
      "   [ 54 114]]\n",
      "\n",
      "  [[ 19  79]\n",
      "   [ 39  99]\n",
      "   [ 59 119]]]]\n",
      "(5, 4, 3, 2)\n"
     ]
    }
   ],
   "source": [
    "import numpy as np\n",
    "arr = np.arange(120).reshape((2,3,4,5))\n",
    "print(arr)\n",
    "print(arr.shape)\n",
    "\n",
    "print(arr.T)             #  默认将第一个维度和第二个维度进行转换\n",
    "print(arr.T.shape)       #  第一个维度到最后一个维度，第二个维度到倒数第二个维度"
   ]
  },
  {
   "cell_type": "code",
   "execution_count": 26,
   "metadata": {},
   "outputs": [
    {
     "data": {
      "text/plain": [
       "(2, 5, 4, 3)"
      ]
     },
     "execution_count": 26,
     "metadata": {},
     "output_type": "execute_result"
    }
   ],
   "source": [
    "import numpy as np\n",
    "arr = np.arange(120).reshape((2,3,4,5))\n",
    "arr.transpose(0,3,2,1).shape        # 原本是arr.transpose(0,1,2,3) 因此指定第二个轴和第四个轴进行交换"
   ]
  },
  {
   "cell_type": "code",
   "execution_count": 27,
   "metadata": {},
   "outputs": [
    {
     "data": {
      "text/plain": [
       "(2, 5, 4, 3)"
      ]
     },
     "execution_count": 27,
     "metadata": {},
     "output_type": "execute_result"
    }
   ],
   "source": [
    "import numpy as np\n",
    "arr = np.arange(120).reshape((2,3,4,5))\n",
    "arr.swapaxes(1,3).shape             # 跟 arr.transpose(0,3,2,1).shape 等价，swapaxes方法直接填写第一轴和第三轴即可"
   ]
  },
  {
   "cell_type": "code",
   "execution_count": 28,
   "metadata": {},
   "outputs": [
    {
     "name": "stdout",
     "output_type": "stream",
     "text": [
      "[[[ 0  1  2  3]\n",
      "  [ 4  5  6  7]\n",
      "  [ 8  9 10 11]]\n",
      "\n",
      " [[12 13 14 15]\n",
      "  [16 17 18 19]\n",
      "  [20 21 22 23]]]\n",
      "[[[ 0  1  2  3]\n",
      "  [12 13 14 15]]\n",
      "\n",
      " [[ 4  5  6  7]\n",
      "  [16 17 18 19]]\n",
      "\n",
      " [[ 8  9 10 11]\n",
      "  [20 21 22 23]]]\n",
      "[[[ 0  4  8]\n",
      "  [ 1  5  9]\n",
      "  [ 2  6 10]\n",
      "  [ 3  7 11]]\n",
      "\n",
      " [[12 16 20]\n",
      "  [13 17 21]\n",
      "  [14 18 22]\n",
      "  [15 19 23]]]\n"
     ]
    }
   ],
   "source": [
    "# 元素0可表示为arr[0][0][0]，元素6可表示为 arr[0][1][2]  # 去掉一层括号，看它在哪个位置\n",
    "\n",
    "arr = np.arange(24).reshape((2,3,4))\n",
    "print(arr)\n",
    "print(arr.transpose((1,0,2)))   # 表示将轴1和0位置互换，轴2不变，即代表将轴0和1对换，轴2不变，亦即将arr[x][y][z]中x和y位置互换，整个数组将变换\n",
    "print(arr.swapaxes(1,2))        # 表示将轴1和轴2位置互换，轴0不变"
   ]
  },
  {
   "cell_type": "code",
   "execution_count": 29,
   "metadata": {},
   "outputs": [
    {
     "data": {
      "text/plain": [
       "array([[ 9, 12, 15],\n",
       "       [12, 17, 22],\n",
       "       [15, 22, 29]])"
      ]
     },
     "execution_count": 29,
     "metadata": {},
     "output_type": "execute_result"
    }
   ],
   "source": [
    "# 矩阵线性代数相乘\n",
    "arr = np.arange(6).reshape((2,3))\n",
    "np.dot(arr.T,arr)"
   ]
  },
  {
   "cell_type": "markdown",
   "metadata": {},
   "source": [
    "# 7. numpy 数组合并"
   ]
  },
  {
   "cell_type": "code",
   "execution_count": 30,
   "metadata": {},
   "outputs": [
    {
     "name": "stdout",
     "output_type": "stream",
     "text": [
      "[[0 1 2]\n",
      " [3 4 5]]\n",
      "[[0 1 2 0 1 2]\n",
      " [3 4 5 3 4 5]]\n",
      "[[0 1 2]\n",
      " [3 4 5]\n",
      " [0 1 2]\n",
      " [3 4 5]]\n",
      "[[0 1 2 0 1 2]\n",
      " [3 4 5 3 4 5]]\n",
      "[[0 1 2]\n",
      " [3 4 5]\n",
      " [0 1 2]\n",
      " [3 4 5]]\n"
     ]
    }
   ],
   "source": [
    "arr1 = np.arange(6).reshape((2,3))\n",
    "print(arr)\n",
    "print(np.hstack((arr1,arr1)))                # 水平方向合并\n",
    "print(np.vstack((arr1,arr1)))                # 垂直方向合并\n",
    "print(np.concatenate((arr1,arr1),axis = 1))  # 指定对x轴进行拼接\n",
    "print(np.concatenate((arr1,arr1),axis = 0))  # 指定对y轴进行拼接"
   ]
  },
  {
   "cell_type": "code",
   "execution_count": 31,
   "metadata": {},
   "outputs": [
    {
     "name": "stdout",
     "output_type": "stream",
     "text": [
      "(2, 3, 4)\n",
      "(2, 6, 4)\n",
      "(4, 3, 4)\n",
      "(2, 3, 8)\n"
     ]
    }
   ],
   "source": [
    "arr1 = np.arange(24).reshape((2,3,4))\n",
    "print(arr1.shape)\n",
    "print(np.concatenate((arr1,arr1),axis = 1).shape) # 对第二个维度进行拼接\n",
    "print(np.concatenate((arr1,arr1),axis = 0).shape) # 对第一个维度进行拼接\n",
    "print(np.concatenate((arr1,arr1),axis = 2).shape) # 对第三个维度进行拼接"
   ]
  },
  {
   "cell_type": "markdown",
   "metadata": {},
   "source": [
    "# 8. numpy 聚合函数"
   ]
  },
  {
   "cell_type": "markdown",
   "metadata": {},
   "source": [
    "① 聚合函数是对一组值(例如一个数组)进行操作，返回一个单一值作为结果的函数。\n",
    "\n",
    "② 聚合函数也可以指定对某个具体的轴进行数据聚合操作；常用的聚合操作有：平均值、最大值、最小值、方差等待。"
   ]
  },
  {
   "cell_type": "code",
   "execution_count": 32,
   "metadata": {},
   "outputs": [
    {
     "name": "stdout",
     "output_type": "stream",
     "text": [
      "[[1 2]\n",
      " [3 4]]\n",
      "[[1.                nan]\n",
      " [1.73205081 2.        ]]\n",
      "[[False False]\n",
      " [False False]]\n"
     ]
    },
    {
     "name": "stderr",
     "output_type": "stream",
     "text": [
      "C:\\06_Anaconda\\software\\lib\\site-packages\\ipykernel_launcher.py:4: RuntimeWarning: invalid value encountered in sqrt\n",
      "  after removing the cwd from sys.path.\n"
     ]
    }
   ],
   "source": [
    "import numpy as np\n",
    "arr1 = np.array([[1,-2],[3,4]])\n",
    "print(np.abs(arr1))    # 取绝对值\n",
    "print(np.sqrt(arr1))   # 负数不能开根号\n",
    "print(np.isnan(arr1))"
   ]
  },
  {
   "cell_type": "code",
   "execution_count": 33,
   "metadata": {},
   "outputs": [
    {
     "name": "stdout",
     "output_type": "stream",
     "text": [
      "[[ 1 -2  4]\n",
      " [ 3  4  5]\n",
      " [ 2  5  6]]\n",
      "[ 1 -2  4]\n",
      "[-2  3  2]\n"
     ]
    }
   ],
   "source": [
    "arr1 = np.array([[1,-2,4],[3,4,5],[2,5,6]])\n",
    "print(arr1)\n",
    "print(np.amin(arr1,0))  # 取列中最小的元素，等价 print(np.amin(arr1,axis = 0))\n",
    "print(np.amin(arr1,1))  # 取行中最小的元素，等价 print(np.amin(arr1,axis = 1))"
   ]
  },
  {
   "cell_type": "code",
   "execution_count": 34,
   "metadata": {},
   "outputs": [
    {
     "name": "stdout",
     "output_type": "stream",
     "text": [
      "[1 2 0]\n"
     ]
    }
   ],
   "source": [
    "x = np.array([3,1,2])\n",
    "y = np.argsort(x)\n",
    "print(y)                # 返回的是排序后 y 的索引"
   ]
  },
  {
   "cell_type": "code",
   "execution_count": 35,
   "metadata": {},
   "outputs": [
    {
     "name": "stdout",
     "output_type": "stream",
     "text": [
      "(array([2, 2, 2], dtype=int64), array([0, 1, 2], dtype=int64))\n",
      "[6 7 8]\n"
     ]
    }
   ],
   "source": [
    "import numpy as np\n",
    "x = np.arange(9,).reshape(3,3)\n",
    "y = np.where(x>5)       # 第一个数组为第一个轴的索引，第二个数组为第二个轴的索引\n",
    "print(y)                # 获得索引\n",
    "print(x[y])             # 获得索引对应的值"
   ]
  }
 ],
 "metadata": {
  "kernelspec": {
   "display_name": "Python 3",
   "language": "python",
   "name": "python3"
  },
  "language_info": {
   "codemirror_mode": {
    "name": "ipython",
    "version": 3
   },
   "file_extension": ".py",
   "mimetype": "text/x-python",
   "name": "python",
   "nbconvert_exporter": "python",
   "pygments_lexer": "ipython3",
   "version": "3.7.4"
  },
  "toc": {
   "base_numbering": 1,
   "nav_menu": {},
   "number_sections": false,
   "sideBar": true,
   "skip_h1_title": false,
   "title_cell": "Table of Contents",
   "title_sidebar": "Contents",
   "toc_cell": false,
   "toc_position": {
    "height": "calc(100% - 180px)",
    "left": "10px",
    "top": "150px",
    "width": "277.983px"
   },
   "toc_section_display": true,
   "toc_window_display": true
  }
 },
 "nbformat": 4,
 "nbformat_minor": 4
}
