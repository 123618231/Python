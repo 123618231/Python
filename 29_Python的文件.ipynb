{
 "cells": [
  {
   "cell_type": "markdown",
   "metadata": {},
   "source": [
    "# Python的文件"
   ]
  },
  {
   "cell_type": "markdown",
   "metadata": {},
   "source": [
    "# 1. 文件简介"
   ]
  },
  {
   "cell_type": "markdown",
   "metadata": {},
   "source": [
    "① Python文件后缀一般以 .py 结尾。\n",
    "\n",
    "② Python中，使用open函数，如果文件存在，则打开一个已经存在的文件，如果文件不存在，则新建一个文件。\n",
    "\n",
    "③ open函数用法：open(name[,mode[,buffering[,encoding]]])\n",
    "\n",
    "1. name：一个包含了你要访问的文件名称的字符串(区分绝对路径和相对路径)。\n",
    "2. mode：mode决定了打开文件的模式：只读，写入，追加等。这个参数是非强制的，默认模式为只读(r)。\n",
    "3. buffering：如果buffering的值被设为0，就不会有寄存。如果buffering的值取为1，访问文件时会寄存行。如果将buffering的值设为大于1的整数，表明了这就是寄存区的缓冲大小、如果取负值，寄存区的缓冲大小则为系统默认。\n",
    "4. encoding：为编码格式，我们一般使用uft-8\n",
    "\n",
    "④ 对文件的操作结束之后，使用close()来关闭文件，如果不关闭文件，就会一直占着内存。"
   ]
  },
  {
   "cell_type": "code",
   "execution_count": 1,
   "metadata": {},
   "outputs": [],
   "source": [
    "# coding=utf-8\n",
    "# 写文件                                  # 用写模式时，若有原文件，则内容会被清空，即写内容覆盖原内容\n",
    "file = open(r'99_C\\a.txt','w',encoding='utf-8') # 当前文件的同级路径下，新建(因为没有原文件)了一个 a.txt文件\n",
    "file.write('aaa')                         # a.txt 文件中写入了 aaa\n",
    "file.close()"
   ]
  },
  {
   "cell_type": "code",
   "execution_count": 2,
   "metadata": {},
   "outputs": [],
   "source": [
    "# 文件追加内容\n",
    "file = open(r'99_C\\a.txt','a',encoding='utf-8')\n",
    "file.write('bbb')                         # a.txt 文件中 aaa 末尾(不换行)追加了 bbb，变为 aaabbb\n",
    "file.close()"
   ]
  },
  {
   "cell_type": "code",
   "execution_count": 3,
   "metadata": {},
   "outputs": [
    {
     "name": "stdout",
     "output_type": "stream",
     "text": [
      "aaabbb\n"
     ]
    }
   ],
   "source": [
    "# 以只读方式打开文件\n",
    "file = open(r'99_C\\a.txt','r',encoding='utf-8')\n",
    "print(file.read())                        # 读出文件中的数据\n",
    "# print(file.write('小王'))               # 只读模式下，写的话会报错\n",
    "file.close()"
   ]
  },
  {
   "cell_type": "code",
   "execution_count": 4,
   "metadata": {},
   "outputs": [
    {
     "name": "stdout",
     "output_type": "stream",
     "text": [
      "aaabbb\n",
      "\n"
     ]
    }
   ],
   "source": [
    "# r+:读追加模式，先读，再追加\n",
    "file = open(r'99_C\\a.txt','r+',encoding='utf-8')\n",
    "print(file.read())\n",
    "file.write('小王')                        # 追加是在末尾追加，没有换行\n",
    "print(file.read())                        # 第二行没有打印出来，为空白行，r+模式，追加后不能再读      \n",
    "file.close()"
   ]
  },
  {
   "cell_type": "code",
   "execution_count": 5,
   "metadata": {},
   "outputs": [
    {
     "name": "stdout",
     "output_type": "stream",
     "text": [
      "\n"
     ]
    }
   ],
   "source": [
    "# w+：写读模式，先写，意味着原本内容丢失，只写不能读。\n",
    "# w+：创建新文件，打开并写入数据，如果文件已存在，则覆盖写\n",
    "file = open(r'99_C\\a.txt','w+',encoding='utf-8')\n",
    "file.write('小王')         # 原文件内容被覆盖，文件中内容仅有'小王'\n",
    "print(file.read())         # 空白行，因为不能读\n",
    "file.close()"
   ]
  },
  {
   "cell_type": "code",
   "execution_count": 6,
   "metadata": {},
   "outputs": [
    {
     "name": "stdout",
     "output_type": "stream",
     "text": [
      "小王\n"
     ]
    }
   ],
   "source": [
    "# 读取上面w+写入的数据\n",
    "file = open(r'99_C\\a.txt','r',encoding='utf-8')\n",
    "print(file.read()) \n",
    "file.close()"
   ]
  },
  {
   "cell_type": "markdown",
   "metadata": {},
   "source": [
    "# 2. 文件读写"
   ]
  },
  {
   "cell_type": "markdown",
   "metadata": {},
   "source": [
    "① read(num)：可以读取文件里面的内容。num表示要从文件中读取的数据的长度(单位是字节)，如果没有传入num，那么就表示读取文件中所有的数据。\n",
    "\n",
    "② readlines()：可以按照行的方式把整个文件中的内容进行一次性读取，并且返回的是一个列表，其中每一行的数据为一个元素。如果想在with代码块外访问文件，就用readlines()从文件中读取每一行，将其存储在一个列表中。\n",
    "\n",
    "③ 读取文本文件时，Python将其中的所有文本都解读成字符串。如果你读取的是数字，并要将其作为数值使用，就必须要使用函数int()将其转换成整数，或使用函数float()将其转换为浮点数。\n",
    "\n",
    "④ 如果你要写入的文件不存在，函数open()将会自动创建它。我们使用文件对象的方法write()将一个字符串写入文件，这个程序是没有终端输出函数write()不会在你写入的文本末尾添加换行符，需要手动添加\\n。\n",
    "\n",
    "⑤ Python只能将字符串写入文本文件。要将数值数据存储到文本文件中，必须先使用函数str()将其转换成字符串格式。"
   ]
  },
  {
   "cell_type": "markdown",
   "metadata": {},
   "source": [
    "⑥ flush()函数只与write()写文件有关，与读文件无关，flush()方法是用来刷新缓冲区的，即将缓冲区中的数据立刻写入文件，同时清空缓冲区，不需要是被动的等待输出缓冲区写入。一般情况下，文件关闭会自动刷新缓冲区，但有时你需要在关闭前刷新它，这时就可以使用flush()方法。\n",
    "\n",
    "⑦ tell()函数返回文件游标的当前位置，以文件的开头为原点，当用追加'a'时，游标位置在文件末尾。\n",
    "\n",
    "⑧ seek(offser[,whence]])函数：offset：一开始的偏移量，也就是代表需要偏移的字节数。whence：可选，默认值为0.给offset参数一个定义，表示要从哪个位置开始偏移；0代表从文件开头开始算起，1代表从当前位置开始算起，2代表从末尾算起。可以通过偏移在文件的任意位置写入数据。\n",
    "\n",
    "⑨ 用with open 创建的文件，编码格式为函数中的utf-8，但如果是自己在文件夹中创建的文件，编码格式不一定是utf-8，所以用两种方式读取的文件，可能文件常用函数运行的情况不一样。"
   ]
  },
  {
   "cell_type": "code",
   "execution_count": 7,
   "metadata": {},
   "outputs": [
    {
     "name": "stdout",
     "output_type": "stream",
     "text": [
      "['小王']\n"
     ]
    }
   ],
   "source": [
    "with open(r'99_C\\a.txt','r',encoding='utf-8') as f:   # 等同于 f = open('a.txt','r',encoding='utf-8')\n",
    "    print(f.readlines())"
   ]
  },
  {
   "cell_type": "code",
   "execution_count": 8,
   "metadata": {},
   "outputs": [
    {
     "name": "stdout",
     "output_type": "stream",
     "text": [
      "['小王\\n', 'aaa']\n"
     ]
    }
   ],
   "source": [
    "with open(r'99_C\\a.txt','a',encoding='utf-8') as f:   \n",
    "    f.write('\\naaa')   # 换行写入数据的用法，在写入数据前添加换行符，打印时换行符跟着上一行数据在列表中。\n",
    "\n",
    "with open(r'99_C\\a.txt','r',encoding='utf-8') as f:   \n",
    "    print(f.readlines())"
   ]
  },
  {
   "cell_type": "code",
   "execution_count": 9,
   "metadata": {},
   "outputs": [],
   "source": [
    "file = open(r'99_C\\a.txt','a',encoding='utf-8')\n",
    "file.write('\\n999') # write()    # 此语句运行完后，还没写入硬盘，也就是还没写进去\n",
    "file.flush()                     # flush()运行完后，写入硬盘(即a.txt文件)了，平常flush()只有当close()关闭文件后，才写入硬盘。\n",
    "file.close()"
   ]
  },
  {
   "cell_type": "code",
   "execution_count": 10,
   "metadata": {},
   "outputs": [
    {
     "name": "stdout",
     "output_type": "stream",
     "text": [
      "0\n",
      "['小王\\n', 'aaa\\n', '999']\n",
      "16\n",
      "a\n",
      "999\n",
      "16\n"
     ]
    }
   ],
   "source": [
    "#coding=utf-8\n",
    "with open(r'99_C\\a.txt','r',encoding='utf-8') as f:\n",
    "    print(f.tell())   # 游标初始位为0\n",
    "    print(f.readlines())\n",
    "    print(f.tell())   # 游标末尾位为16\n",
    "    f.seek(10,0)      # 设置游标初始位为10，引起前面的不读取\n",
    "    print(f.read())\n",
    "    print(f.tell())"
   ]
  },
  {
   "cell_type": "markdown",
   "metadata": {},
   "source": [
    "# 3. with open语句"
   ]
  },
  {
   "cell_type": "markdown",
   "metadata": {},
   "source": [
    "① 关键字with在不再需要访问文件后将其关闭，这可让Python去确定：你只管打开文件，并在需要时使用它，Python自会在合适的时候自动将其关闭。\n",
    "\n",
    "② 可以调用open()和close()来打开和关闭文件，但这样做时，如果程序存在bug，导致close语句未执行，文件将不会关闭。"
   ]
  },
  {
   "cell_type": "code",
   "execution_count": 11,
   "metadata": {},
   "outputs": [
    {
     "name": "stdout",
     "output_type": "stream",
     "text": [
      "小王\n",
      "aaa\n",
      "999\n"
     ]
    }
   ],
   "source": [
    "with open(r'99_C\\a.txt','r',encoding='utf-8') as f:   # 等同于 f = open('a.txt','r',encoding='utf-8')\n",
    "    print(f.read())"
   ]
  },
  {
   "cell_type": "markdown",
   "metadata": {},
   "source": [
    "# 4. 文件夹操作"
   ]
  },
  {
   "cell_type": "markdown",
   "metadata": {},
   "source": [
    "① python编程时，经常和文件、目录打交道，这就离不开os模块。os模块包含普遍的操作系统功能，与具体的平台无关，linux系统、windows系统都有。\n",
    "\n",
    "② os.getcwd()获得当前工作的目录。\n",
    "\n",
    "③ os.listdir()指定所有目录下所有的文件和目录名。以列表的形式全部列举出来，其中没有区分目录(文件夹)和文件(py文件)。\n",
    "\n",
    "④ os.remove()删除指定文件。\n",
    "\n",
    "⑤ os.rmdir()删除指定目录。删除目录时，必须该目录下没有文件或文件夹，即空目录才可删除，非空目录不可删除，会报错。"
   ]
  },
  {
   "cell_type": "code",
   "execution_count": 12,
   "metadata": {},
   "outputs": [
    {
     "name": "stdout",
     "output_type": "stream",
     "text": [
      "小王\n",
      "aaa\n",
      "999\n",
      "C:\\Users\\wangy\\Desktop\\Python\n",
      "['a.txt', 'b.txt', 'D']\n",
      "['.ipynb_checkpoints', '00_Python编辑器', '01_Python的注释.ipynb', '02_Python的缩进 - 副本.ipynb', '02_Python的缩进.ipynb', '03_Python的变量.ipynb', '04_Python的标识符.ipynb', '05_Python的字符串.ipynb', '06_Python的列表.ipynb', '07_Python的元组.ipynb', '08_Python的字典.ipynb', '09_Python的集合.ipynb', '10_Python的判断语句、循环语句.ipynb', '11_Python的递归.ipynb', '12_Python的拷贝.ipynb', '13_Python的列表推导式.ipynb', '14_Python的条件表达式.ipynb', '15_Python的函数.ipynb', '16_Python的传入参数.ipynb', '17_Python的返回值.ipynb', '18_Python的可变、不可变.ipynb', '19_Python的局域变量、全局变量.ipynb', '20_Python的迭代器.ipynb', '21_Python的生成器.ipynb', '22_Python的匿名函数.ipynb', '23_Python最常用的语句、函数.ipynb', '24_Python的面向对象.ipynb', '25_Python的类.ipynb', '26_Python的模块.ipynb', '27_Python的包.ipynb', '28_Python的搜索路径、相对路径、绝对路径.ipynb', '99_C']\n"
     ]
    }
   ],
   "source": [
    "import os\n",
    "\n",
    "with open(r'99_C\\a.txt','r',encoding='utf-8') as f:   # 当前文件的当前目录下有个   a.txt 文件\n",
    "    print(f.read())                             # 读取当前文件的当前目录下的 a.txt 文件中内容\n",
    "\n",
    "print(os.getcwd())                              # 获得当前文件的当前目录\n",
    "print(os.listdir('99_C'))                          # 查看当前文件的同级目录下的C文件夹下有哪些目录和文件\n",
    "print(os.listdir(os.getcwd()))                  # 查看当前文件的当前目录下有哪些目录和文件"
   ]
  },
  {
   "cell_type": "code",
   "execution_count": 13,
   "metadata": {},
   "outputs": [
    {
     "name": "stdout",
     "output_type": "stream",
     "text": [
      "['a.txt', 'b.txt', 'D']\n",
      "['b.txt', 'D']\n",
      "['b.txt']\n"
     ]
    }
   ],
   "source": [
    "import os\n",
    "file = open(r'99_C\\a.txt','w',encoding='utf-8')       # 当前文件的同级路径下，新建(因为没有原文件)了一个 a.txt文件\n",
    "file.write('aaa')                               # a.txt 文件中写入了 aaa\n",
    "file.close()                                    # 如果不写 file.close() 无法后续进行 os.remove('a.txt') 操作，会报错，显示 a.txt 在另一个程序中运行。\n",
    "\n",
    "os.chdir(\"99_C\" )  # 切换到 99_C 目录下\n",
    "print(os.listdir(os.getcwd()))                  # 查看当前文件的当前目录下有哪些目录和文件\n",
    "os.remove(r'a.txt')                              # 删除当前目录下的'a.txt'文件\n",
    "print(os.listdir(os.getcwd()))                  # 'a.txt'文件 已经被删除\n",
    "os.rmdir(r'D')                                   # 删除D文件夹，这里只能删除空文件夹，如果文件夹里有东西，例如C文件夹，就不可以删除\n",
    "print(os.listdir(os.getcwd()))                  # D文件夹 已经被删除"
   ]
  },
  {
   "cell_type": "code",
   "execution_count": 14,
   "metadata": {},
   "outputs": [
    {
     "name": "stdout",
     "output_type": "stream",
     "text": [
      "1\n",
      "['C:\\\\Users\\\\wangy\\\\Desktop\\\\Python\\\\99_C\\\\C']\n"
     ]
    }
   ],
   "source": [
    "# os.rmdir(r'modpython\\d')                 删除指定目录\n",
    "# os.mkdir(r'modpython\\d')                 创建目录,注意：这样只能建立一层，要想递归建立可用：os.makedirs()\n",
    "# os.makedirs(r'modpython\\d\\c\\v')          可以创建很多层文件夹，用的是递归创建的方法 \n",
    "# os.path.isfile(r'modpython\\d\\c\\v')       判断路径是否是一个文件，这是一个文件夹，所以不是文件\n",
    "# os.path.isdir(r'modpython\\d\\c\\v\\a.txt')  判断路径是否为目录\n",
    "# os.path.exists()                         判断文件或文件夹是否存在\n",
    "# os.path.spilt()                          返回路径的目录和文件名\n",
    "# os.system()                              执行shell命令，例如 os.system('cmd') 启动dos\n",
    "# os.chdir()                               改变目录到指定目录\n",
    "# os.path.getsize                          获取文件的大小，如果为目录，返回0\n",
    "# os.path.abspath(r'modpython\\d')          获得绝对路径，可以将相对路径补全\n",
    "# 获取某个文件夹下所有文件名(不包括文件夹名)\n",
    "import os\n",
    "path = []\n",
    "def check_file(dir_name):\n",
    "    if os.path.isdir(dir_name):                      # 判断路径是否为目录\n",
    "        for name in os.listdir(dir_name):            # 目录下所有文件和文件夹进行遍历，name 为输入目录下的文件和文件夹名称\n",
    "            new_name = os.path.join(dir_name,name)   # 要把上一层的路径加进去,要不然在当前目录下搜索不到下一级的文件名或文件夹名\n",
    "            \n",
    "            if os.path.isdir(new_name):              # 如果是文件夹就递归\n",
    "                check_file(new_name)\n",
    "            else:\n",
    "                path.append(os.path.abspath(new_name))\n",
    "    else:\n",
    "        path.append(os.path.abspath(dir_name))       # 如果该文件不是目录，则打印该文件的绝对路径\n",
    "\n",
    "check_file('C')                                      # 这是一个相对路径的目录\n",
    "print(len(path))                                     # 获得目录下有多少文件\n",
    "print(path)                                          # 获得目录下的所有文件的绝对路径"
   ]
  }
 ],
 "metadata": {
  "kernelspec": {
   "display_name": "Python 3",
   "language": "python",
   "name": "python3"
  },
  "language_info": {
   "codemirror_mode": {
    "name": "ipython",
    "version": 3
   },
   "file_extension": ".py",
   "mimetype": "text/x-python",
   "name": "python",
   "nbconvert_exporter": "python",
   "pygments_lexer": "ipython3",
   "version": "3.7.4"
  },
  "toc": {
   "base_numbering": 1,
   "nav_menu": {},
   "number_sections": false,
   "sideBar": true,
   "skip_h1_title": false,
   "title_cell": "Table of Contents",
   "title_sidebar": "Contents",
   "toc_cell": false,
   "toc_position": {
    "height": "calc(100% - 180px)",
    "left": "10px",
    "top": "150px",
    "width": "277.983px"
   },
   "toc_section_display": true,
   "toc_window_display": true
  }
 },
 "nbformat": 4,
 "nbformat_minor": 4
}
