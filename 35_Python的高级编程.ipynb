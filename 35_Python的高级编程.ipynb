{
 "cells": [
  {
   "cell_type": "markdown",
   "metadata": {},
   "source": [
    "# Python的高级编程"
   ]
  },
  {
   "cell_type": "markdown",
   "metadata": {},
   "source": [
    "# 1. 函数缓存"
   ]
  },
  {
   "cell_type": "markdown",
   "metadata": {},
   "source": [
    "① LRU(Least Recently Used) 把耗时的函数结果保存起来，避免传入相同的参数重复计算。函数的缓存不会无限储存，一段时间不用，或者数量超出一定限制，旧缓存就会扔掉。\n",
    "\n",
    "② from functools import lru-cache，从functools库导入lru-cache方法，方法参数maxsize为最多缓存的次数，如果为None，则无限制，设置为2n时，性能最佳；typed如果设置为True，表示不同参数类型结构分开保存，如(1和1.0)区分开。"
   ]
  },
  {
   "cell_type": "code",
   "execution_count": 2,
   "metadata": {},
   "outputs": [
    {
     "name": "stdout",
     "output_type": "stream",
     "text": [
      "calculating : 1 + 2\n",
      "3\n",
      "分隔符\n",
      "3\n",
      "分隔符\n",
      "calculating : 1 + 3\n",
      "4\n"
     ]
    }
   ],
   "source": [
    "from functools import lru_cache\n",
    "\n",
    "@lru_cache(maxsize=None,typed=False)\n",
    "def add(x,y):\n",
    "    print(\"calculating : %s + %s\" % (x, y))\n",
    "    return x + y\n",
    "\n",
    "print(add(1,2))\n",
    "print(\"分隔符\")\n",
    "print(add(1,2))  # 没有进入函数里面，直接获得返回值\n",
    "print(\"分隔符\")\n",
    "print(add(1,3))"
   ]
  },
  {
   "cell_type": "markdown",
   "metadata": {},
   "source": [
    "# 2. 二维列表"
   ]
  },
  {
   "cell_type": "code",
   "execution_count": 3,
   "metadata": {},
   "outputs": [
    {
     "name": "stdout",
     "output_type": "stream",
     "text": [
      "[[1, 2], [2, 4], [3, 6]]\n"
     ]
    }
   ],
   "source": [
    "# 方法一：生成二维列表 (普通方法)\n",
    "num = [1,2,3]\n",
    "myvec = []\n",
    "for x in num:\n",
    "    a = [ x , x * 2 ]\n",
    "    myvec.append(a)\n",
    "print(myvec)"
   ]
  },
  {
   "cell_type": "code",
   "execution_count": 4,
   "metadata": {},
   "outputs": [
    {
     "name": "stdout",
     "output_type": "stream",
     "text": [
      "[[1, 2], [2, 4], [3, 6]]\n"
     ]
    }
   ],
   "source": [
    "# 方法二：生成二维列表 ( 高级编程：列表推导式 )\n",
    "num = [1,2,3]\n",
    "myvec = [ [ x , x * 2 ] for x in num] # 列表里面生成一个列表\n",
    "print(myvec)"
   ]
  },
  {
   "cell_type": "code",
   "execution_count": 5,
   "metadata": {},
   "outputs": [
    {
     "name": "stdout",
     "output_type": "stream",
     "text": [
      "<generator object <genexpr> at 0x000001F68C5CFB48>\n",
      "[1, 2]\n",
      "[2, 4]\n",
      "[3, 6]\n",
      "<generator object <genexpr> at 0x000001F68C5CF848>\n",
      "[1, 2]\n",
      "[2, 4]\n",
      "[3, 6]\n"
     ]
    }
   ],
   "source": [
    "# 方法三：生成二维列表 ( 高级编程：生成器 )\n",
    "num = [1,2,3]\n",
    "myvec = ( [ x , x * 2 ] for x in num ) # 如果用方法一[]，所有数据都会加载到内存(变量myvec)中，\n",
    "print(myvec)                           # 此方法myvec为一个生成器，不会将所有数据加载到变量myvec中\n",
    "\n",
    "# 生成器获取元素，方法1：for循环\n",
    "for i in myvec:                        # 生成器也是一个迭代器，可以通过for循环把一个个元素取出来\n",
    "    print(i)\n",
    "\n",
    "# 方法三：生成二维列表 ( 高级编程：生成器 )\n",
    "num = [1,2,3]\n",
    "myvec = ( [ x , x * 2 ] for x in num ) # 列表生成器用的是中括号[]，生成器用的小括号()。\n",
    "print(myvec)                           # 此方法myvec为一个生成器，不会将所有数据加载到变量myvec中\n",
    "\n",
    "# 生成器获取元素，方法2：next()\n",
    "print(next(myvec))\n",
    "print(next(myvec))\n",
    "print(next(myvec))"
   ]
  },
  {
   "cell_type": "markdown",
   "metadata": {},
   "source": [
    "# 3. 拉链操作"
   ]
  },
  {
   "cell_type": "code",
   "execution_count": 6,
   "metadata": {},
   "outputs": [
    {
     "name": "stdout",
     "output_type": "stream",
     "text": [
      "([1], 'a', 'a1')\n",
      "(2, 'b', 'b2')\n",
      "(3, 'c', 'c3')\n",
      "(4, 'd', 'd4')\n",
      "(5, 'e', 'e5')\n"
     ]
    }
   ],
   "source": [
    "# 高级编程：zip拉链操作 ( 等长序列变量 )\n",
    "x = [  [1] ,  2,    3,    4,     5  ]   # 如果长度不相同[  [1] ,  2,    3,    4,    5,   6  ] 会把6忽略掉\n",
    "y = [  'a' , 'b',  'c',  'd' ,  'e' ]\n",
    "z = [  'a1', 'b2', 'c3', 'd4', 'e5' ]\n",
    "for i in zip(x,y,z):\n",
    "    print(i)"
   ]
  },
  {
   "cell_type": "code",
   "execution_count": 7,
   "metadata": {},
   "outputs": [
    {
     "name": "stdout",
     "output_type": "stream",
     "text": [
      "([1], 'a')\n",
      "(2, 'b')\n",
      "(3, 'c')\n",
      "(4, 'd')\n",
      "(5, 'e')\n",
      "(6, None)\n"
     ]
    }
   ],
   "source": [
    "# 高级编程：zip拉链操作 ( 不等长序列变量 )\n",
    "x = [  [1] ,  2,    3,    4,     5,   6  ]   # 如果不想丢失6这个元素，就用不等长遍历\n",
    "y = [  'a' , 'b',  'c',  'd' ,  'e' ]\n",
    "z = [  'a1', 'b2', 'c3', 'd4', 'e5' ]\n",
    "from itertools import zip_longest\n",
    "for i in zip_longest(x,y):   # 或者 zip_longest(x,y,z)\n",
    "    print(i)"
   ]
  },
  {
   "cell_type": "markdown",
   "metadata": {},
   "source": [
    "# 4. 拉平操作"
   ]
  },
  {
   "cell_type": "code",
   "execution_count": 8,
   "metadata": {},
   "outputs": [
    {
     "name": "stdout",
     "output_type": "stream",
     "text": [
      "[1, 2, 3, 4, 7, 8]\n"
     ]
    }
   ],
   "source": [
    "# 高级编程：拉平操作(列表中又有列表) (只能拉平一层)\n",
    "li = [[1,2],[3,4],[7,8]]\n",
    "from itertools import chain\n",
    "print(list(chain.from_iterable(li)))"
   ]
  },
  {
   "cell_type": "code",
   "execution_count": 9,
   "metadata": {},
   "outputs": [
    {
     "name": "stdout",
     "output_type": "stream",
     "text": [
      "[1, [1, 3], 3, [4, [5, 6]], 7, 8]\n",
      "[1, 1, 3, 3, 4, 5, 6, 7, 8]\n"
     ]
    }
   ],
   "source": [
    "# 高级编程：拉平操作(列表中又有列表) (拉平所有层)\n",
    "li = [[1,[1,3]],[3,[4,[5,6]]],[7,8]]  \n",
    "from itertools import chain\n",
    "print(list(chain.from_iterable(li)))  # 只能拉平一层\n",
    "\n",
    "# 用递归方法拉平所有层\n",
    "new_list = []\n",
    "def func(a):\n",
    "    if isinstance(a,list):           # 如果a是列表，就进入for语句\n",
    "        for i in a:\n",
    "            if isinstance(i,list):\n",
    "                func(i)\n",
    "            else:\n",
    "                new_list.append(i)\n",
    "func(li)\n",
    "print(new_list)"
   ]
  },
  {
   "cell_type": "markdown",
   "metadata": {},
   "source": [
    "# 5. 多层循环"
   ]
  },
  {
   "cell_type": "code",
   "execution_count": 10,
   "metadata": {},
   "outputs": [
    {
     "name": "stdout",
     "output_type": "stream",
     "text": [
      "a d m\n",
      "a d n\n",
      "a e m\n",
      "a e n\n",
      "a f m\n",
      "a f n\n",
      "b d m\n",
      "b d n\n",
      "b e m\n",
      "b e n\n",
      "b f m\n",
      "b f n\n",
      "c d m\n",
      "c d n\n",
      "c e m\n",
      "c e n\n",
      "c f m\n",
      "c f n\n"
     ]
    }
   ],
   "source": [
    "# 普通方法：多层循环\n",
    "for a in ['a','b','c']:\n",
    "    for b in ['d','e','f']:\n",
    "        for c in ['m','n']:\n",
    "            print (a,b,c)  # 18种排列方法"
   ]
  },
  {
   "cell_type": "code",
   "execution_count": 11,
   "metadata": {},
   "outputs": [
    {
     "name": "stdout",
     "output_type": "stream",
     "text": [
      "a d m\n",
      "a d n\n",
      "a e m\n",
      "a e n\n",
      "a f m\n",
      "a f n\n",
      "b d m\n",
      "b d n\n",
      "b e m\n",
      "b e n\n",
      "b f m\n",
      "b f n\n",
      "c d m\n",
      "c d n\n",
      "c e m\n",
      "c e n\n",
      "c f m\n",
      "c f n\n"
     ]
    }
   ],
   "source": [
    "# 高级编程：避免多层循环\n",
    "from itertools import product\n",
    "for x,y,z in product(['a','b','c'],['d','e','f'],['m','n']):\n",
    "    print(x,y,z)"
   ]
  },
  {
   "cell_type": "markdown",
   "metadata": {},
   "source": [
    "# 6. 冻结参数"
   ]
  },
  {
   "cell_type": "code",
   "execution_count": 12,
   "metadata": {},
   "outputs": [
    {
     "name": "stdout",
     "output_type": "stream",
     "text": [
      "24\n",
      "19\n"
     ]
    }
   ],
   "source": [
    "# 高级编程：冻结参数 functools.partial\n",
    "from operator import mul,add\n",
    "from functools import partial\n",
    "\n",
    "triple = partial(mul,3)   # 3已经固定住了，传进mul的一个参数里了，因此每次只需要传入一个参数就行了\n",
    "print(  triple(8)  )      # 等价 print(mul(3,8))\n",
    "\n",
    "triple1 = partial(add,10)\n",
    "print(  triple1(9) )      # 等价 print(add(10,9))"
   ]
  },
  {
   "cell_type": "markdown",
   "metadata": {},
   "source": [
    "# 7. map迭代器"
   ]
  },
  {
   "cell_type": "code",
   "execution_count": 13,
   "metadata": {},
   "outputs": [
    {
     "name": "stdout",
     "output_type": "stream",
     "text": [
      "[18, 23, 30, 39, 50]\n",
      "18\n",
      "23\n",
      "30\n",
      "39\n",
      "50\n"
     ]
    }
   ],
   "source": [
    "# 高级编程，map是一个迭代器，用map取元素\n",
    "\n",
    "list1 = [1,2,3,4,5]\n",
    "list2 = [6,7,8,9,10]\n",
    "list3 = [11,12,13,14,15]\n",
    "\n",
    "list_result = map(lambda x,y,z : x ** 2 + y + z,list1, list2, list3)\n",
    "print(list(list_result))\n",
    "\n",
    "for i in map(lambda x,y,z : x ** 2 + y + z,list1, list2, list3):\n",
    "    print(i)"
   ]
  },
  {
   "cell_type": "markdown",
   "metadata": {},
   "source": [
    "# 8. cython加密"
   ]
  },
  {
   "cell_type": "markdown",
   "metadata": {},
   "source": [
    "① Python代码缺陷，做成商业软件，别人就能看见你的源码，用cython把它弄成C语言、二进制文件，然后把源码删掉，cython使得python转换为C，不光可以用于加密还可以用于加速。\n",
    "\n",
    "② 用cython第一步安装包：pip install cython"
   ]
  }
 ],
 "metadata": {
  "kernelspec": {
   "display_name": "Python 3",
   "language": "python",
   "name": "python3"
  },
  "language_info": {
   "codemirror_mode": {
    "name": "ipython",
    "version": 3
   },
   "file_extension": ".py",
   "mimetype": "text/x-python",
   "name": "python",
   "nbconvert_exporter": "python",
   "pygments_lexer": "ipython3",
   "version": "3.7.4"
  },
  "toc": {
   "base_numbering": 1,
   "nav_menu": {},
   "number_sections": false,
   "sideBar": true,
   "skip_h1_title": false,
   "title_cell": "Table of Contents",
   "title_sidebar": "Contents",
   "toc_cell": false,
   "toc_position": {
    "height": "calc(100% - 180px)",
    "left": "10px",
    "top": "150px",
    "width": "277.983px"
   },
   "toc_section_display": true,
   "toc_window_display": true
  }
 },
 "nbformat": 4,
 "nbformat_minor": 4
}
