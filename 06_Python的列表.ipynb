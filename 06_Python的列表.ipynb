{
 "cells": [
  {
   "cell_type": "markdown",
   "metadata": {},
   "source": [
    "# Python的列表"
   ]
  },
  {
   "cell_type": "markdown",
   "metadata": {},
   "source": [
    "# 1. Python的列表"
   ]
  },
  {
   "cell_type": "markdown",
   "metadata": {},
   "source": [
    "## 1.1 列表简介"
   ]
  },
  {
   "cell_type": "markdown",
   "metadata": {},
   "source": [
    "① 列表 list 在方括号之间，元素用逗号隔开。\n",
    "\n",
    "② 列表 list 可以用索引和切片，和字符串一样。"
   ]
  },
  {
   "cell_type": "code",
   "execution_count": 16,
   "metadata": {},
   "outputs": [
    {
     "name": "stdout",
     "output_type": "stream",
     "text": [
      "[2, 6, 8]\n",
      "[6]\n"
     ]
    }
   ],
   "source": [
    "a = [2,6,8]\n",
    "print(a)\n",
    "print(a[1:2])"
   ]
  },
  {
   "cell_type": "markdown",
   "metadata": {},
   "source": [
    "## 1.2 增删元素"
   ]
  },
  {
   "cell_type": "markdown",
   "metadata": {},
   "source": [
    "① append()函数对列表的末尾添加元素。\n",
    "\n",
    "② extend()函数将列表末尾一次性追加另一个序列中的多个值(用新列表扩展原来的列表)。"
   ]
  },
  {
   "cell_type": "code",
   "execution_count": 14,
   "metadata": {},
   "outputs": [
    {
     "name": "stdout",
     "output_type": "stream",
     "text": [
      "[2, 6, 8, 7, 0, 4]\n"
     ]
    }
   ],
   "source": [
    "# 列表拼接\n",
    "a = [2,6,8]\n",
    "b = [7,0,4]\n",
    "a.extend(b)\n",
    "print(a)"
   ]
  },
  {
   "cell_type": "markdown",
   "metadata": {},
   "source": [
    "③ index(obj) 函数找出obj字符在列表中第一个匹配项的索引位置。\n",
    "\n",
    "④ insert(index,obj) 将对象插入列表，insert为插入的位置。\n",
    "\n",
    "⑤ list.pop(index=-1) 移除列表中的一个元素，默认为最后一个元素，并且返回该元素的值。"
   ]
  },
  {
   "cell_type": "code",
   "execution_count": 15,
   "metadata": {},
   "outputs": [
    {
     "name": "stdout",
     "output_type": "stream",
     "text": [
      "abc\n",
      "zara\n"
     ]
    }
   ],
   "source": [
    "aList = [123, 'xyz', 'zara', 'abc']\n",
    "print(aList.pop())\n",
    "print(aList.pop(2))"
   ]
  },
  {
   "cell_type": "markdown",
   "metadata": {},
   "source": [
    "⑥ list.romove(obj)移除列表中第一个匹配项。\n",
    "\n",
    "⑦ list.reverse()反向列表中元素。\n",
    "\n",
    "⑧ list.sort()、list.sorted()对列表进行排序，sort()对原列表修改，sorted()不对原列表修改。"
   ]
  },
  {
   "cell_type": "code",
   "execution_count": 18,
   "metadata": {},
   "outputs": [
    {
     "name": "stdout",
     "output_type": "stream",
     "text": [
      "None\n",
      "[['小李', 0.7], ['小吴', 0.5], ['小肖', 0.4], ['小王', 0.2], ['小红', 0.1]]\n",
      "[['张三', 0.3], ['李四', 0.4], ['王五', 0.8], ['谢大脚', 0.9], ['谢广坤', 0.1]]\n",
      "[['谢大脚', 0.9], ['王五', 0.8], ['李四', 0.4], ['张三', 0.3], ['谢广坤', 0.1]]\n"
     ]
    }
   ],
   "source": [
    "mylist1 = [['小王', 0.2], ['小李', 0.7], ['小吴', 0.5], ['小红', 0.1], ['小肖', 0.4]]\n",
    "mylist2 = [['张三', 0.3], ['李四', 0.4], ['王五', 0.8], ['谢大脚', 0.9], ['谢广坤', 0.1]]\n",
    "\n",
    "# sort是列表类的一种方法，只能与列表一起使用，所以只能是 列表.sort() 而不能是 mylist3 = sorted(mylist1,key=(lambda x:x[1]),reverse=True) \n",
    "mylist1.sort(key=(lambda x:x[1]),reverse=True) # 对列表进行按x[1]降序排列\n",
    "print(mylist1.sort(key=(lambda x:x[1]),reverse=True))   # mylist1调用sort方法的返回值为None\n",
    "print(mylist1)  # sort函数对原列表修改了\n",
    "\n",
    "mylist4 = sorted(mylist2,key=(lambda x:x[1]),reverse=True) # 对列表进行按x[1]降序排列\n",
    "print(mylist2)   # sorted函数不对原列表修改\n",
    "print(mylist4)"
   ]
  }
 ],
 "metadata": {
  "kernelspec": {
   "display_name": "Python 3",
   "language": "python",
   "name": "python3"
  },
  "language_info": {
   "codemirror_mode": {
    "name": "ipython",
    "version": 3
   },
   "file_extension": ".py",
   "mimetype": "text/x-python",
   "name": "python",
   "nbconvert_exporter": "python",
   "pygments_lexer": "ipython3",
   "version": "3.7.4"
  },
  "toc": {
   "base_numbering": 1,
   "nav_menu": {},
   "number_sections": false,
   "sideBar": true,
   "skip_h1_title": false,
   "title_cell": "Table of Contents",
   "title_sidebar": "Contents",
   "toc_cell": false,
   "toc_position": {
    "height": "calc(100% - 180px)",
    "left": "10px",
    "top": "150px",
    "width": "277.983px"
   },
   "toc_section_display": true,
   "toc_window_display": true
  }
 },
 "nbformat": 4,
 "nbformat_minor": 4
}
