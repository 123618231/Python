{
 "cells": [
  {
   "cell_type": "markdown",
   "metadata": {},
   "source": [
    "# Python的pandas库"
   ]
  },
  {
   "cell_type": "markdown",
   "metadata": {},
   "source": [
    "# 1. Pandas 简介"
   ]
  },
  {
   "cell_type": "markdown",
   "metadata": {},
   "source": [
    "① pandas一般解决表格型的数据、二维的。\n",
    "\n",
    "② pandas是专门为处理表格和混杂数据设计的，而Numpy更适合处理统一数值数据。\n",
    "\n",
    "③ pandas主要数据结构：Series 和 DataFrame"
   ]
  },
  {
   "cell_type": "markdown",
   "metadata": {},
   "source": [
    "# 2. Series 类型"
   ]
  },
  {
   "cell_type": "markdown",
   "metadata": {},
   "source": [
    "① 系列(Series)是能够保存任何类型的数据(整数，字符串，浮点数，Python对象等)的一维数组。\n",
    "\n",
    "② Series的表现形式为：索引在左边，值在右边。如果没有为数据指定索引，于是会自动创建一个0到N-1（N为数据长度）的整数型索引，可以为数据指定索引index。\n",
    "\n",
    "③ 可以通过Series的values和index属性获取其数组值和索引。\n",
    "\n",
    "④ Series 值的获取主要有两种方式：\n",
    "\n",
    "1. 通过方括号+索引名的方式读取对应索引的数，有可能返回多条数据。\n",
    "2. 通过方括号+下标值的方式读取对应下标值的数据，下标值的取值范围为：[0,len(Series.values)]，另外下标值也可以是负数，表示从右往左获取数据。\n",
    "\n",
    "⑤ Numpy中的数组运算，在Series中都保留了，都可以使用，并且Series进行数组运算的时候，索引与值之间的映射关系不会发生改变。\n",
    "\n",
    "⑥ 其实在操作Series的时候，基本上可以把Series看成Numpy中的ndarray数组进行操作，ndarray数组的绝大多数操作都可以应用到Series上。"
   ]
  },
  {
   "cell_type": "code",
   "execution_count": 1,
   "metadata": {},
   "outputs": [
    {
     "data": {
      "text/plain": [
       "0    4\n",
       "1    7\n",
       "2   -5\n",
       "3    3\n",
       "dtype: int64"
      ]
     },
     "execution_count": 1,
     "metadata": {},
     "output_type": "execute_result"
    }
   ],
   "source": [
    "import pandas as pd\n",
    "obj = pd.Series([4,7,-5,3])      # 自动创建一个0到N-1(N为数据长度)的整数型索引\n",
    "obj"
   ]
  },
  {
   "cell_type": "code",
   "execution_count": 2,
   "metadata": {},
   "outputs": [
    {
     "data": {
      "text/plain": [
       "d    4\n",
       "b    7\n",
       "a   -5\n",
       "c    3\n",
       "dtype: int64"
      ]
     },
     "execution_count": 2,
     "metadata": {},
     "output_type": "execute_result"
    }
   ],
   "source": [
    "import pandas as pd\n",
    "obj2 = pd.Series([4,7,-5,3],index = ['d','b','a','c'])  # 自定义索引\n",
    "obj2"
   ]
  },
  {
   "cell_type": "code",
   "execution_count": 3,
   "metadata": {},
   "outputs": [
    {
     "data": {
      "text/plain": [
       "4"
      ]
     },
     "execution_count": 3,
     "metadata": {},
     "output_type": "execute_result"
    }
   ],
   "source": [
    "import pandas as pd\n",
    "obj2 = pd.Series([4,7,-5,3],index = ['d','b','a','c'])\n",
    "obj2['d']    # 通过索引名获取里面的值"
   ]
  },
  {
   "cell_type": "code",
   "execution_count": 4,
   "metadata": {},
   "outputs": [
    {
     "name": "stdout",
     "output_type": "stream",
     "text": [
      "{'q': 0, 'w': 1, 'e': 2}\n",
      "q    0\n",
      "w    1\n",
      "e    2\n",
      "dtype: int64\n",
      "q    0\n",
      "dtype: int64\n",
      "0    q\n",
      "1    w\n",
      "2    e\n",
      "dtype: object 0    0\n",
      "1    1\n",
      "2    2\n",
      "dtype: int32 q    0\n",
      "w    1\n",
      "e    2\n",
      "dtype: int64\n"
     ]
    }
   ],
   "source": [
    "# 如何从列表、数组、字典创建Series\n",
    "import numpy as np\n",
    "mylist = list('qwe')               # 列表\n",
    "myarr = np.arange(3)               # 数组\n",
    "mydict = dict(zip(mylist,myarr))   # 字典\n",
    "print(mydict)\n",
    "\n",
    "# 构造方法\n",
    "ser1 = pd.Series(mylist)\n",
    "ser2 = pd.Series(myarr)\n",
    "ser3 = pd.Series(mydict)\n",
    "\n",
    "print(ser3.head())                  # 取 ser3 的前五行\n",
    "print(ser3.head(1))                 # 取 ser3 的第一行\n",
    "print(ser1,ser2,ser3)               # 打印 ser1,ser2,ser3"
   ]
  },
  {
   "cell_type": "code",
   "execution_count": 5,
   "metadata": {},
   "outputs": [
    {
     "name": "stdout",
     "output_type": "stream",
     "text": [
      "Ohio      35000\n",
      "Texax     71000\n",
      "Oregon    16000\n",
      "Utah       5000\n",
      "dtype: int64\n",
      "California        NaN\n",
      "Ohio          35000.0\n",
      "Oregon        16000.0\n",
      "Texax         71000.0\n",
      "dtype: float64\n"
     ]
    },
    {
     "data": {
      "text/plain": [
       "California     True\n",
       "Ohio          False\n",
       "Oregon        False\n",
       "Texax         False\n",
       "dtype: bool"
      ]
     },
     "execution_count": 5,
     "metadata": {},
     "output_type": "execute_result"
    }
   ],
   "source": [
    "import pandas as pd\n",
    "sdata  = {'Ohio':35000,'Texax':71000,'Oregon':16000,'Utah':5000}\n",
    "states = ['California','Ohio','Oregon','Texax']\n",
    "obj3   = pd.Series(sdata)\n",
    "print(obj3)\n",
    "obj4   = pd.Series(sdata,index = states)   # 将有索引的赋值，否则为空\n",
    "print(obj4)\n",
    "pd.isnull(obj4)                            # 为空的 为True"
   ]
  },
  {
   "cell_type": "code",
   "execution_count": 6,
   "metadata": {},
   "outputs": [
    {
     "name": "stdout",
     "output_type": "stream",
     "text": [
      "[ 4  7 -5  3]\n",
      "Index(['d', 'b', 'a', 'c'], dtype='object')\n",
      "int64\n"
     ]
    }
   ],
   "source": [
    "import pandas as pd\n",
    "obj2 = pd.Series([4,7,-5,3],index = ['d','b','a','c'])\n",
    "print(obj2.values)  # 获得Series的值\n",
    "print(obj2.index)   # 获得Series的索引\n",
    "print(obj2.dtype)   # 获得Series的值的类型"
   ]
  },
  {
   "cell_type": "code",
   "execution_count": 7,
   "metadata": {},
   "outputs": [
    {
     "name": "stdout",
     "output_type": "stream",
     "text": [
      "a   -5\n",
      "a    3\n",
      "dtype: int64\n",
      "d    4\n",
      "b    7\n",
      "dtype: int64\n",
      "4\n",
      "3\n"
     ]
    }
   ],
   "source": [
    "obj2 = pd.Series([4,7,-5,3],index = ['d','b','a','a'])\n",
    "print(obj2['a'])  # 用索引名a，获得2个对应的值\n",
    "print(obj2[0:2])\n",
    "print(obj2[0])\n",
    "print(obj2[-1])   # 字符串为索引时可以用负索引"
   ]
  },
  {
   "cell_type": "code",
   "execution_count": 8,
   "metadata": {},
   "outputs": [
    {
     "name": "stdout",
     "output_type": "stream",
     "text": [
      "100    4\n",
      "200    7\n",
      "dtype: int64\n"
     ]
    }
   ],
   "source": [
    "obj2 = pd.Series([4,7,-5,3],index = [100,200,300,400])\n",
    "print(obj2[0:2])\n",
    "# print(obj2[0])    # 报错，指定数值作为索引时不能用数值索引\n",
    "# print(obj2[-1])   # 报错，指定数值作为索引时不能用负索引"
   ]
  },
  {
   "cell_type": "code",
   "execution_count": 9,
   "metadata": {},
   "outputs": [
    {
     "name": "stdout",
     "output_type": "stream",
     "text": [
      "0    4\n",
      "1    7\n",
      "dtype: int64\n",
      "4\n"
     ]
    }
   ],
   "source": [
    "obj2 = pd.Series([4,7,-5,3])\n",
    "print(obj2[0:2])\n",
    "print(obj2[0])     # 不报错，不指定索引时可以用数值索引\n",
    "# print(obj2[-1])  # 报错，不指定索引时不能用负索引"
   ]
  },
  {
   "cell_type": "code",
   "execution_count": 10,
   "metadata": {},
   "outputs": [
    {
     "name": "stdout",
     "output_type": "stream",
     "text": [
      "d      4\n",
      "b    200\n",
      "a    100\n",
      "a    100\n",
      "dtype: int64\n"
     ]
    }
   ],
   "source": [
    "obj2 = pd.Series([4,7,-5,3],index = ['d','b','a','a'])\n",
    "obj2['a'] = 100\n",
    "obj2[1]   = 200\n",
    "print(obj2)       # 通过索引修改值"
   ]
  },
  {
   "cell_type": "code",
   "execution_count": 11,
   "metadata": {},
   "outputs": [
    {
     "name": "stdout",
     "output_type": "stream",
     "text": [
      "aa      4\n",
      "bb    200\n",
      "cc     -5\n",
      "dd      3\n",
      "dtype: int64\n"
     ]
    }
   ],
   "source": [
    "obj2 = pd.Series([4,7,-5,3],index = ['d','b','a','a'])\n",
    "obj2.index = ['aa','bb','cc','dd']  # 修改索引\n",
    "obj2[1]   = 200                     # 修改值\n",
    "print(obj2)"
   ]
  },
  {
   "cell_type": "code",
   "execution_count": 12,
   "metadata": {},
   "outputs": [
    {
     "name": "stdout",
     "output_type": "stream",
     "text": [
      "d    4.0\n",
      "b    7.0\n",
      "a   -5.0\n",
      "a    3.0\n",
      "dtype: float32\n"
     ]
    }
   ],
   "source": [
    "import numpy as np\n",
    "obj2 = pd.Series([4,7,-5,3],dtype = np.float32,index = ['d','b','a','a'])  # 修改值类型\n",
    "print(obj2)"
   ]
  },
  {
   "cell_type": "code",
   "execution_count": 13,
   "metadata": {},
   "outputs": [
    {
     "name": "stdout",
     "output_type": "stream",
     "text": [
      "d    104.0\n",
      "b    107.0\n",
      "a     95.0\n",
      "a    103.0\n",
      "dtype: float32\n"
     ]
    }
   ],
   "source": [
    "import numpy as np\n",
    "obj2 = pd.Series([4,7,-5,3],dtype = np.float32,index = ['d','b','a','a'])\n",
    "print(obj2+100)  # 元素都进行加100"
   ]
  },
  {
   "cell_type": "markdown",
   "metadata": {},
   "source": [
    "# 3. DataFrame 类型"
   ]
  },
  {
   "cell_type": "markdown",
   "metadata": {},
   "source": [
    "① DataFrame是一个表格型的数据结构，它含有一组有序的列，每列可以是不同的值类型(数值、字符串、布尔值等)。DataFrame既有行索引也有列索引。\n",
    "\n",
    "② DataFrame中的数据是一个或多个二维块存放的(而不是列表、字典或别的一维数据结构)。"
   ]
  },
  {
   "cell_type": "code",
   "execution_count": 14,
   "metadata": {},
   "outputs": [
    {
     "name": "stdout",
     "output_type": "stream",
     "text": [
      "    state  year  pop\n",
      "0    Ohio  2000  1.5\n",
      "1    Ohio  2001  1.7\n",
      "2    Ohio  2002  3.6\n",
      "3  Nevada  2003  2.4\n"
     ]
    },
    {
     "data": {
      "text/html": [
       "<div>\n",
       "<style scoped>\n",
       "    .dataframe tbody tr th:only-of-type {\n",
       "        vertical-align: middle;\n",
       "    }\n",
       "\n",
       "    .dataframe tbody tr th {\n",
       "        vertical-align: top;\n",
       "    }\n",
       "\n",
       "    .dataframe thead th {\n",
       "        text-align: right;\n",
       "    }\n",
       "</style>\n",
       "<table border=\"1\" class=\"dataframe\">\n",
       "  <thead>\n",
       "    <tr style=\"text-align: right;\">\n",
       "      <th></th>\n",
       "      <th>year</th>\n",
       "      <th>state</th>\n",
       "      <th>pop</th>\n",
       "    </tr>\n",
       "  </thead>\n",
       "  <tbody>\n",
       "    <tr>\n",
       "      <td>0</td>\n",
       "      <td>2000</td>\n",
       "      <td>Ohio</td>\n",
       "      <td>1.5</td>\n",
       "    </tr>\n",
       "    <tr>\n",
       "      <td>1</td>\n",
       "      <td>2001</td>\n",
       "      <td>Ohio</td>\n",
       "      <td>1.7</td>\n",
       "    </tr>\n",
       "    <tr>\n",
       "      <td>2</td>\n",
       "      <td>2002</td>\n",
       "      <td>Ohio</td>\n",
       "      <td>3.6</td>\n",
       "    </tr>\n",
       "    <tr>\n",
       "      <td>3</td>\n",
       "      <td>2003</td>\n",
       "      <td>Nevada</td>\n",
       "      <td>2.4</td>\n",
       "    </tr>\n",
       "  </tbody>\n",
       "</table>\n",
       "</div>"
      ],
      "text/plain": [
       "   year   state  pop\n",
       "0  2000    Ohio  1.5\n",
       "1  2001    Ohio  1.7\n",
       "2  2002    Ohio  3.6\n",
       "3  2003  Nevada  2.4"
      ]
     },
     "execution_count": 14,
     "metadata": {},
     "output_type": "execute_result"
    }
   ],
   "source": [
    "data = {'state':['Ohio','Ohio','Ohio','Nevada'],\n",
    "       'year':[2000,2001,2002,2003],\n",
    "       'pop':[1.5,1.7,3.6,2.4]}\n",
    "frame = pd.DataFrame(data)\n",
    "print(frame)\n",
    "pd1 = pd.DataFrame(data,columns=['year','state','pop'])   # 修改列索引\n",
    "pd1                                                       # 表格形式打印"
   ]
  },
  {
   "cell_type": "code",
   "execution_count": 15,
   "metadata": {},
   "outputs": [
    {
     "name": "stdout",
     "output_type": "stream",
     "text": [
      "    state  year  pop\n",
      "0    Ohio  2000  1.5\n",
      "1    Ohio  2001  1.7\n",
      "2    Ohio  2002  3.6\n",
      "3  Nevada  2003  2.4\n"
     ]
    },
    {
     "data": {
      "text/html": [
       "<div>\n",
       "<style scoped>\n",
       "    .dataframe tbody tr th:only-of-type {\n",
       "        vertical-align: middle;\n",
       "    }\n",
       "\n",
       "    .dataframe tbody tr th {\n",
       "        vertical-align: top;\n",
       "    }\n",
       "\n",
       "    .dataframe thead th {\n",
       "        text-align: right;\n",
       "    }\n",
       "</style>\n",
       "<table border=\"1\" class=\"dataframe\">\n",
       "  <thead>\n",
       "    <tr style=\"text-align: right;\">\n",
       "      <th></th>\n",
       "      <th>year</th>\n",
       "      <th>state</th>\n",
       "      <th>pop</th>\n",
       "    </tr>\n",
       "  </thead>\n",
       "  <tbody>\n",
       "    <tr>\n",
       "      <td>one</td>\n",
       "      <td>2000</td>\n",
       "      <td>Ohio</td>\n",
       "      <td>1.5</td>\n",
       "    </tr>\n",
       "    <tr>\n",
       "      <td>two</td>\n",
       "      <td>2001</td>\n",
       "      <td>Ohio</td>\n",
       "      <td>1.7</td>\n",
       "    </tr>\n",
       "    <tr>\n",
       "      <td>three</td>\n",
       "      <td>2002</td>\n",
       "      <td>Ohio</td>\n",
       "      <td>3.6</td>\n",
       "    </tr>\n",
       "    <tr>\n",
       "      <td>four</td>\n",
       "      <td>2003</td>\n",
       "      <td>Nevada</td>\n",
       "      <td>2.4</td>\n",
       "    </tr>\n",
       "  </tbody>\n",
       "</table>\n",
       "</div>"
      ],
      "text/plain": [
       "       year   state  pop\n",
       "one    2000    Ohio  1.5\n",
       "two    2001    Ohio  1.7\n",
       "three  2002    Ohio  3.6\n",
       "four   2003  Nevada  2.4"
      ]
     },
     "execution_count": 15,
     "metadata": {},
     "output_type": "execute_result"
    }
   ],
   "source": [
    "import pandas as pd\n",
    "data = {'state':['Ohio','Ohio','Ohio','Nevada'],\n",
    "       'year':[2000,2001,2002,2003],\n",
    "       'pop':[1.5,1.7,3.6,2.4]}\n",
    "frame = pd.DataFrame(data)\n",
    "print(frame)\n",
    "pd1 = pd.DataFrame(data,columns=['year','state','pop'],index=['one','two','three','four'])   # 修改行索引、列索引\n",
    "pd1            "
   ]
  },
  {
   "cell_type": "code",
   "execution_count": 16,
   "metadata": {},
   "outputs": [
    {
     "data": {
      "text/plain": [
       "Index(['year', 'state', 'pop'], dtype='object')"
      ]
     },
     "execution_count": 16,
     "metadata": {},
     "output_type": "execute_result"
    }
   ],
   "source": [
    "import pandas as pd\n",
    "data = {'state':['Ohio','Ohio','Ohio','Nevada'],\n",
    "       'year':[2000,2001,2002,2003],\n",
    "       'pop':[1.5,1.7,3.6,2.4]}\n",
    "\n",
    "pd1 = pd.DataFrame(data,columns=['year','state','pop'],index=['one','two','three','four'])   \n",
    "pd1.columns"
   ]
  },
  {
   "cell_type": "code",
   "execution_count": 17,
   "metadata": {},
   "outputs": [
    {
     "name": "stdout",
     "output_type": "stream",
     "text": [
      "<class 'pandas.core.series.Series'>\n"
     ]
    },
    {
     "data": {
      "text/plain": [
       "one      2000\n",
       "two      2001\n",
       "three    2002\n",
       "four     2003\n",
       "Name: year, dtype: int64"
      ]
     },
     "execution_count": 17,
     "metadata": {},
     "output_type": "execute_result"
    }
   ],
   "source": [
    "import pandas as pd\n",
    "data = {'state':['Ohio','Ohio','Ohio','Nevada'],\n",
    "       'year':[2000,2001,2002,2003],\n",
    "       'pop':[1.5,1.7,3.6,2.4]}\n",
    "\n",
    "pd1 = pd.DataFrame(data,columns=['year','state','pop'],index=['one','two','three','four'])   \n",
    "print(type(pd1.year))   # 是一个 Series 类型\n",
    "pd1.year                # 方法一：获得year列数据和索引"
   ]
  },
  {
   "cell_type": "code",
   "execution_count": 18,
   "metadata": {},
   "outputs": [
    {
     "name": "stdout",
     "output_type": "stream",
     "text": [
      "<class 'pandas.core.series.Series'>\n"
     ]
    },
    {
     "data": {
      "text/plain": [
       "one      2000\n",
       "two      2001\n",
       "three    2002\n",
       "four     2003\n",
       "Name: year, dtype: int64"
      ]
     },
     "execution_count": 18,
     "metadata": {},
     "output_type": "execute_result"
    }
   ],
   "source": [
    "import pandas as pd\n",
    "data = {'state':['Ohio','Ohio','Ohio','Nevada'],\n",
    "       'year':[2000,2001,2002,2003],\n",
    "       'pop':[1.5,1.7,3.6,2.4]}\n",
    "\n",
    "pd1 = pd.DataFrame(data,columns=['year','state','pop'],index=['one','two','three','four'])   \n",
    "print(type(pd1.year))   # 是一个 Series 类型\n",
    "pd1['year']             # 方法二：获得year列数据和索引"
   ]
  },
  {
   "cell_type": "code",
   "execution_count": 19,
   "metadata": {},
   "outputs": [
    {
     "data": {
      "text/html": [
       "<div>\n",
       "<style scoped>\n",
       "    .dataframe tbody tr th:only-of-type {\n",
       "        vertical-align: middle;\n",
       "    }\n",
       "\n",
       "    .dataframe tbody tr th {\n",
       "        vertical-align: top;\n",
       "    }\n",
       "\n",
       "    .dataframe thead th {\n",
       "        text-align: right;\n",
       "    }\n",
       "</style>\n",
       "<table border=\"1\" class=\"dataframe\">\n",
       "  <thead>\n",
       "    <tr style=\"text-align: right;\">\n",
       "      <th></th>\n",
       "      <th>year</th>\n",
       "      <th>state</th>\n",
       "    </tr>\n",
       "  </thead>\n",
       "  <tbody>\n",
       "    <tr>\n",
       "      <td>one</td>\n",
       "      <td>2000</td>\n",
       "      <td>Ohio</td>\n",
       "    </tr>\n",
       "    <tr>\n",
       "      <td>two</td>\n",
       "      <td>2001</td>\n",
       "      <td>Ohio</td>\n",
       "    </tr>\n",
       "    <tr>\n",
       "      <td>three</td>\n",
       "      <td>2002</td>\n",
       "      <td>Ohio</td>\n",
       "    </tr>\n",
       "    <tr>\n",
       "      <td>four</td>\n",
       "      <td>2003</td>\n",
       "      <td>Nevada</td>\n",
       "    </tr>\n",
       "  </tbody>\n",
       "</table>\n",
       "</div>"
      ],
      "text/plain": [
       "       year   state\n",
       "one    2000    Ohio\n",
       "two    2001    Ohio\n",
       "three  2002    Ohio\n",
       "four   2003  Nevada"
      ]
     },
     "execution_count": 19,
     "metadata": {},
     "output_type": "execute_result"
    }
   ],
   "source": [
    "import pandas as pd\n",
    "data = {'state':['Ohio','Ohio','Ohio','Nevada'],\n",
    "       'year':[2000,2001,2002,2003],\n",
    "       'pop':[1.5,1.7,3.6,2.4]}\n",
    "\n",
    "pd1 = pd.DataFrame(data,columns=['year','state','pop'],index=['one','two','three','four'])   \n",
    "pd1[['year','state']]  # 获得多列数据，里面用列表"
   ]
  },
  {
   "cell_type": "code",
   "execution_count": 20,
   "metadata": {},
   "outputs": [
    {
     "data": {
      "text/html": [
       "<div>\n",
       "<style scoped>\n",
       "    .dataframe tbody tr th:only-of-type {\n",
       "        vertical-align: middle;\n",
       "    }\n",
       "\n",
       "    .dataframe tbody tr th {\n",
       "        vertical-align: top;\n",
       "    }\n",
       "\n",
       "    .dataframe thead th {\n",
       "        text-align: right;\n",
       "    }\n",
       "</style>\n",
       "<table border=\"1\" class=\"dataframe\">\n",
       "  <thead>\n",
       "    <tr style=\"text-align: right;\">\n",
       "      <th></th>\n",
       "      <th>year</th>\n",
       "      <th>state</th>\n",
       "      <th>pop</th>\n",
       "    </tr>\n",
       "  </thead>\n",
       "  <tbody>\n",
       "    <tr>\n",
       "      <td>one</td>\n",
       "      <td>2000</td>\n",
       "      <td>Ohio</td>\n",
       "      <td>1.5</td>\n",
       "    </tr>\n",
       "    <tr>\n",
       "      <td>two</td>\n",
       "      <td>2001</td>\n",
       "      <td>Ohio</td>\n",
       "      <td>1.7</td>\n",
       "    </tr>\n",
       "  </tbody>\n",
       "</table>\n",
       "</div>"
      ],
      "text/plain": [
       "     year state  pop\n",
       "one  2000  Ohio  1.5\n",
       "two  2001  Ohio  1.7"
      ]
     },
     "execution_count": 20,
     "metadata": {},
     "output_type": "execute_result"
    }
   ],
   "source": [
    "import pandas as pd\n",
    "data = {'state':['Ohio','Ohio','Ohio','Nevada'],\n",
    "       'year':[2000,2001,2002,2003],\n",
    "       'pop':[1.5,1.7,3.6,2.4]}\n",
    "\n",
    "pd1 = pd.DataFrame(data,columns=['year','state','pop'],index=['one','two','three','four'])   \n",
    "pd1[:2]  # 切片行"
   ]
  },
  {
   "cell_type": "code",
   "execution_count": 21,
   "metadata": {},
   "outputs": [
    {
     "data": {
      "text/html": [
       "<div>\n",
       "<style scoped>\n",
       "    .dataframe tbody tr th:only-of-type {\n",
       "        vertical-align: middle;\n",
       "    }\n",
       "\n",
       "    .dataframe tbody tr th {\n",
       "        vertical-align: top;\n",
       "    }\n",
       "\n",
       "    .dataframe thead th {\n",
       "        text-align: right;\n",
       "    }\n",
       "</style>\n",
       "<table border=\"1\" class=\"dataframe\">\n",
       "  <thead>\n",
       "    <tr style=\"text-align: right;\">\n",
       "      <th></th>\n",
       "      <th>year</th>\n",
       "      <th>state</th>\n",
       "      <th>pop</th>\n",
       "    </tr>\n",
       "  </thead>\n",
       "  <tbody>\n",
       "    <tr>\n",
       "      <td>two</td>\n",
       "      <td>2001</td>\n",
       "      <td>Ohio</td>\n",
       "      <td>1.7</td>\n",
       "    </tr>\n",
       "    <tr>\n",
       "      <td>three</td>\n",
       "      <td>2002</td>\n",
       "      <td>Ohio</td>\n",
       "      <td>3.6</td>\n",
       "    </tr>\n",
       "    <tr>\n",
       "      <td>four</td>\n",
       "      <td>2003</td>\n",
       "      <td>Nevada</td>\n",
       "      <td>2.4</td>\n",
       "    </tr>\n",
       "  </tbody>\n",
       "</table>\n",
       "</div>"
      ],
      "text/plain": [
       "       year   state  pop\n",
       "two    2001    Ohio  1.7\n",
       "three  2002    Ohio  3.6\n",
       "four   2003  Nevada  2.4"
      ]
     },
     "execution_count": 21,
     "metadata": {},
     "output_type": "execute_result"
    }
   ],
   "source": [
    "import pandas as pd\n",
    "data = {'state':['Ohio','Ohio','Ohio','Nevada'],\n",
    "       'year':[2000,2001,2002,2003],\n",
    "       'pop':[1.5,1.7,3.6,2.4]}\n",
    "\n",
    "pd1 = pd.DataFrame(data,columns=['year','state','pop'],index=['one','two','three','four'])   \n",
    "pd1[pd1['year']>2000]  # 筛选满足条件的数据，获得满足条件的行 "
   ]
  },
  {
   "cell_type": "code",
   "execution_count": 22,
   "metadata": {},
   "outputs": [
    {
     "name": "stdout",
     "output_type": "stream",
     "text": [
      "<class 'pandas.core.series.Series'>\n"
     ]
    },
    {
     "data": {
      "text/plain": [
       "one      False\n",
       "two       True\n",
       "three     True\n",
       "four      True\n",
       "Name: year, dtype: bool"
      ]
     },
     "execution_count": 22,
     "metadata": {},
     "output_type": "execute_result"
    }
   ],
   "source": [
    "import pandas as pd\n",
    "data = {'state':['Ohio','Ohio','Ohio','Nevada'],\n",
    "       'year':[2000,2001,2002,2003],\n",
    "       'pop':[1.5,1.7,3.6,2.4]}\n",
    "\n",
    "pd1 = pd.DataFrame(data,columns=['year','state','pop'],index=['one','two','three','four'])   \n",
    "print(type(pd1['year']>2000))\n",
    "pd1['year']>2000  # 获得的是Series，布尔类型的Series"
   ]
  },
  {
   "cell_type": "code",
   "execution_count": 23,
   "metadata": {},
   "outputs": [
    {
     "data": {
      "text/plain": [
       "two        Ohio\n",
       "three      Ohio\n",
       "four     Nevada\n",
       "Name: state, dtype: object"
      ]
     },
     "execution_count": 23,
     "metadata": {},
     "output_type": "execute_result"
    }
   ],
   "source": [
    "import pandas as pd\n",
    "data = {'state':['Ohio','Ohio','Ohio','Nevada'],\n",
    "       'year':[2000,2001,2002,2003],\n",
    "       'pop':[1.5,1.7,3.6,2.4]}\n",
    "\n",
    "pd1 = pd.DataFrame(data,columns=['year','state','pop'],index=['one','two','three','four'])   \n",
    "pd1[pd1['year']>2000].state  # 筛选满足条件的数据，获得满足条件的列"
   ]
  },
  {
   "cell_type": "code",
   "execution_count": 24,
   "metadata": {},
   "outputs": [
    {
     "name": "stdout",
     "output_type": "stream",
     "text": [
      "       year   state  pop\n",
      "one    2000    Ohio  1.5\n",
      "two    2001    Ohio  1.7\n",
      "three  2002    Ohio  3.6\n",
      "four   2003  Nevada  2.4\n"
     ]
    },
    {
     "data": {
      "text/html": [
       "<div>\n",
       "<style scoped>\n",
       "    .dataframe tbody tr th:only-of-type {\n",
       "        vertical-align: middle;\n",
       "    }\n",
       "\n",
       "    .dataframe tbody tr th {\n",
       "        vertical-align: top;\n",
       "    }\n",
       "\n",
       "    .dataframe thead th {\n",
       "        text-align: right;\n",
       "    }\n",
       "</style>\n",
       "<table border=\"1\" class=\"dataframe\">\n",
       "  <thead>\n",
       "    <tr style=\"text-align: right;\">\n",
       "      <th></th>\n",
       "      <th>year</th>\n",
       "      <th>state</th>\n",
       "      <th>pop</th>\n",
       "    </tr>\n",
       "  </thead>\n",
       "  <tbody>\n",
       "    <tr>\n",
       "      <td>one</td>\n",
       "      <td>2000</td>\n",
       "      <td>Ohio</td>\n",
       "      <td>1.5</td>\n",
       "    </tr>\n",
       "    <tr>\n",
       "      <td>two</td>\n",
       "      <td>5</td>\n",
       "      <td>5</td>\n",
       "      <td>5.0</td>\n",
       "    </tr>\n",
       "    <tr>\n",
       "      <td>three</td>\n",
       "      <td>5</td>\n",
       "      <td>5</td>\n",
       "      <td>5.0</td>\n",
       "    </tr>\n",
       "    <tr>\n",
       "      <td>four</td>\n",
       "      <td>5</td>\n",
       "      <td>5</td>\n",
       "      <td>5.0</td>\n",
       "    </tr>\n",
       "  </tbody>\n",
       "</table>\n",
       "</div>"
      ],
      "text/plain": [
       "       year state  pop\n",
       "one    2000  Ohio  1.5\n",
       "two       5     5  5.0\n",
       "three     5     5  5.0\n",
       "four      5     5  5.0"
      ]
     },
     "execution_count": 24,
     "metadata": {},
     "output_type": "execute_result"
    }
   ],
   "source": [
    "import pandas as pd\n",
    "data = {'state':['Ohio','Ohio','Ohio','Nevada'],\n",
    "       'year':[2000,2001,2002,2003],\n",
    "       'pop':[1.5,1.7,3.6,2.4]}\n",
    "\n",
    "pd1 = pd.DataFrame(data,columns=['year','state','pop'],index=['one','two','three','four'])   \n",
    "print(pd1)\n",
    "pd1[pd1['year']>2000]=5  # 取year列大于2000的行，把行中所有元素赋值为5\n",
    "pd1"
   ]
  },
  {
   "cell_type": "code",
   "execution_count": 25,
   "metadata": {},
   "outputs": [
    {
     "data": {
      "text/plain": [
       "year     2000\n",
       "state    Ohio\n",
       "Name: one, dtype: object"
      ]
     },
     "execution_count": 25,
     "metadata": {},
     "output_type": "execute_result"
    }
   ],
   "source": [
    "import pandas as pd\n",
    "data = {'state':['Ohio','Ohio','Ohio','Nevada'],\n",
    "       'year':[2000,2001,2002,2003],\n",
    "       'pop':[1.5,1.7,3.6,2.4]}\n",
    "\n",
    "pd1 = pd.DataFrame(data,columns=['year','state','pop'],index=['one','two','three','four'])   \n",
    "pd1.loc['one',['year','state']]  # 选择一行多列"
   ]
  },
  {
   "cell_type": "code",
   "execution_count": 26,
   "metadata": {},
   "outputs": [
    {
     "data": {
      "text/html": [
       "<div>\n",
       "<style scoped>\n",
       "    .dataframe tbody tr th:only-of-type {\n",
       "        vertical-align: middle;\n",
       "    }\n",
       "\n",
       "    .dataframe tbody tr th {\n",
       "        vertical-align: top;\n",
       "    }\n",
       "\n",
       "    .dataframe thead th {\n",
       "        text-align: right;\n",
       "    }\n",
       "</style>\n",
       "<table border=\"1\" class=\"dataframe\">\n",
       "  <thead>\n",
       "    <tr style=\"text-align: right;\">\n",
       "      <th></th>\n",
       "      <th>year</th>\n",
       "      <th>state</th>\n",
       "    </tr>\n",
       "  </thead>\n",
       "  <tbody>\n",
       "    <tr>\n",
       "      <td>one</td>\n",
       "      <td>2000</td>\n",
       "      <td>Ohio</td>\n",
       "    </tr>\n",
       "    <tr>\n",
       "      <td>two</td>\n",
       "      <td>2001</td>\n",
       "      <td>Ohio</td>\n",
       "    </tr>\n",
       "  </tbody>\n",
       "</table>\n",
       "</div>"
      ],
      "text/plain": [
       "     year state\n",
       "one  2000  Ohio\n",
       "two  2001  Ohio"
      ]
     },
     "execution_count": 26,
     "metadata": {},
     "output_type": "execute_result"
    }
   ],
   "source": [
    "import pandas as pd\n",
    "data = {'state':['Ohio','Ohio','Ohio','Nevada'],\n",
    "       'year':[2000,2001,2002,2003],\n",
    "       'pop':[1.5,1.7,3.6,2.4]}\n",
    "\n",
    "pd1 = pd.DataFrame(data,columns=['year','state','pop'],index=['one','two','three','four'])   \n",
    "pd1.loc[['one','two'],['year','state']]  # 选择多行多列"
   ]
  },
  {
   "cell_type": "code",
   "execution_count": 27,
   "metadata": {},
   "outputs": [
    {
     "data": {
      "text/html": [
       "<div>\n",
       "<style scoped>\n",
       "    .dataframe tbody tr th:only-of-type {\n",
       "        vertical-align: middle;\n",
       "    }\n",
       "\n",
       "    .dataframe tbody tr th {\n",
       "        vertical-align: top;\n",
       "    }\n",
       "\n",
       "    .dataframe thead th {\n",
       "        text-align: right;\n",
       "    }\n",
       "</style>\n",
       "<table border=\"1\" class=\"dataframe\">\n",
       "  <thead>\n",
       "    <tr style=\"text-align: right;\">\n",
       "      <th></th>\n",
       "      <th>year</th>\n",
       "      <th>state</th>\n",
       "    </tr>\n",
       "  </thead>\n",
       "  <tbody>\n",
       "    <tr>\n",
       "      <td>one</td>\n",
       "      <td>2000</td>\n",
       "      <td>Ohio</td>\n",
       "    </tr>\n",
       "    <tr>\n",
       "      <td>two</td>\n",
       "      <td>2001</td>\n",
       "      <td>Ohio</td>\n",
       "    </tr>\n",
       "    <tr>\n",
       "      <td>three</td>\n",
       "      <td>2002</td>\n",
       "      <td>Ohio</td>\n",
       "    </tr>\n",
       "    <tr>\n",
       "      <td>four</td>\n",
       "      <td>2003</td>\n",
       "      <td>Nevada</td>\n",
       "    </tr>\n",
       "  </tbody>\n",
       "</table>\n",
       "</div>"
      ],
      "text/plain": [
       "       year   state\n",
       "one    2000    Ohio\n",
       "two    2001    Ohio\n",
       "three  2002    Ohio\n",
       "four   2003  Nevada"
      ]
     },
     "execution_count": 27,
     "metadata": {},
     "output_type": "execute_result"
    }
   ],
   "source": [
    "import pandas as pd\n",
    "data = {'state':['Ohio','Ohio','Ohio','Nevada'],\n",
    "       'year':[2000,2001,2002,2003],\n",
    "       'pop':[1.5,1.7,3.6,2.4]}\n",
    "\n",
    "pd1 = pd.DataFrame(data,columns=['year','state','pop'],index=['one','two','three','four'])   \n",
    "pd1[['year','state']]  # 选择多列的所有行"
   ]
  },
  {
   "cell_type": "code",
   "execution_count": 28,
   "metadata": {},
   "outputs": [
    {
     "data": {
      "text/html": [
       "<div>\n",
       "<style scoped>\n",
       "    .dataframe tbody tr th:only-of-type {\n",
       "        vertical-align: middle;\n",
       "    }\n",
       "\n",
       "    .dataframe tbody tr th {\n",
       "        vertical-align: top;\n",
       "    }\n",
       "\n",
       "    .dataframe thead th {\n",
       "        text-align: right;\n",
       "    }\n",
       "</style>\n",
       "<table border=\"1\" class=\"dataframe\">\n",
       "  <thead>\n",
       "    <tr style=\"text-align: right;\">\n",
       "      <th></th>\n",
       "      <th>pop</th>\n",
       "      <th>year</th>\n",
       "      <th>state</th>\n",
       "    </tr>\n",
       "  </thead>\n",
       "  <tbody>\n",
       "    <tr>\n",
       "      <td>one</td>\n",
       "      <td>1.5</td>\n",
       "      <td>2000</td>\n",
       "      <td>Ohio</td>\n",
       "    </tr>\n",
       "    <tr>\n",
       "      <td>three</td>\n",
       "      <td>3.6</td>\n",
       "      <td>2002</td>\n",
       "      <td>Ohio</td>\n",
       "    </tr>\n",
       "  </tbody>\n",
       "</table>\n",
       "</div>"
      ],
      "text/plain": [
       "       pop  year state\n",
       "one    1.5  2000  Ohio\n",
       "three  3.6  2002  Ohio"
      ]
     },
     "execution_count": 28,
     "metadata": {},
     "output_type": "execute_result"
    }
   ],
   "source": [
    "import pandas as pd\n",
    "data = {'state':['Ohio','Ohio','Ohio','Nevada'],\n",
    "       'year':[2000,2001,2002,2003],\n",
    "       'pop':[1.5,1.7,3.6,2.4]}\n",
    "\n",
    "pd1 = pd.DataFrame(data,columns=['year','state','pop'],index=['one','two','three','four'])   \n",
    "pd1.iloc[[0,2],[2,0,1]]  # 选择某些行的某些列"
   ]
  },
  {
   "cell_type": "code",
   "execution_count": 29,
   "metadata": {},
   "outputs": [
    {
     "data": {
      "text/html": [
       "<div>\n",
       "<style scoped>\n",
       "    .dataframe tbody tr th:only-of-type {\n",
       "        vertical-align: middle;\n",
       "    }\n",
       "\n",
       "    .dataframe tbody tr th {\n",
       "        vertical-align: top;\n",
       "    }\n",
       "\n",
       "    .dataframe thead th {\n",
       "        text-align: right;\n",
       "    }\n",
       "</style>\n",
       "<table border=\"1\" class=\"dataframe\">\n",
       "  <thead>\n",
       "    <tr style=\"text-align: right;\">\n",
       "      <th></th>\n",
       "      <th>pop</th>\n",
       "      <th>year</th>\n",
       "      <th>state</th>\n",
       "    </tr>\n",
       "  </thead>\n",
       "  <tbody>\n",
       "    <tr>\n",
       "      <td>two</td>\n",
       "      <td>1.7</td>\n",
       "      <td>2001</td>\n",
       "      <td>Ohio</td>\n",
       "    </tr>\n",
       "    <tr>\n",
       "      <td>three</td>\n",
       "      <td>3.6</td>\n",
       "      <td>2002</td>\n",
       "      <td>Ohio</td>\n",
       "    </tr>\n",
       "  </tbody>\n",
       "</table>\n",
       "</div>"
      ],
      "text/plain": [
       "       pop  year state\n",
       "two    1.7  2001  Ohio\n",
       "three  3.6  2002  Ohio"
      ]
     },
     "execution_count": 29,
     "metadata": {},
     "output_type": "execute_result"
    }
   ],
   "source": [
    "import pandas as pd\n",
    "data = {'state':['Ohio','Ohio','Ohio','Nevada'],\n",
    "       'year':[2000,2001,2002,2003],\n",
    "       'pop':[1.5,1.7,3.6,2.4]}\n",
    "\n",
    "pd1 = pd.DataFrame(data,columns=['year','state','pop'],index=['one','two','three','four'])   \n",
    "pd1.iloc[1:3,[2,0,1]]  # 选择某些行的某些列"
   ]
  },
  {
   "cell_type": "code",
   "execution_count": 30,
   "metadata": {},
   "outputs": [
    {
     "data": {
      "text/html": [
       "<div>\n",
       "<style scoped>\n",
       "    .dataframe tbody tr th:only-of-type {\n",
       "        vertical-align: middle;\n",
       "    }\n",
       "\n",
       "    .dataframe tbody tr th {\n",
       "        vertical-align: top;\n",
       "    }\n",
       "\n",
       "    .dataframe thead th {\n",
       "        text-align: right;\n",
       "    }\n",
       "</style>\n",
       "<table border=\"1\" class=\"dataframe\">\n",
       "  <thead>\n",
       "    <tr style=\"text-align: right;\">\n",
       "      <th></th>\n",
       "      <th>year</th>\n",
       "      <th>state</th>\n",
       "    </tr>\n",
       "  </thead>\n",
       "  <tbody>\n",
       "    <tr>\n",
       "      <td>two</td>\n",
       "      <td>2001</td>\n",
       "      <td>Ohio</td>\n",
       "    </tr>\n",
       "    <tr>\n",
       "      <td>three</td>\n",
       "      <td>2002</td>\n",
       "      <td>Ohio</td>\n",
       "    </tr>\n",
       "  </tbody>\n",
       "</table>\n",
       "</div>"
      ],
      "text/plain": [
       "       year state\n",
       "two    2001  Ohio\n",
       "three  2002  Ohio"
      ]
     },
     "execution_count": 30,
     "metadata": {},
     "output_type": "execute_result"
    }
   ],
   "source": [
    "import pandas as pd\n",
    "data = {'state':['Ohio','Ohio','Ohio','Nevada'],\n",
    "       'year':[2000,2001,2002,2003],\n",
    "       'pop':[1.5,1.7,3.6,2.4]}\n",
    "\n",
    "pd1 = pd.DataFrame(data,columns=['year','state','pop'],index=['one','two','three','four'])   \n",
    "pd1.iloc[1:3,0:2]  # 选择某些行的某些列"
   ]
  },
  {
   "cell_type": "code",
   "execution_count": 31,
   "metadata": {},
   "outputs": [
    {
     "name": "stdout",
     "output_type": "stream",
     "text": [
      "       pop  year state\n",
      "one    1.5  2000  Ohio\n",
      "three  3.6  2002  Ohio\n"
     ]
    },
    {
     "name": "stderr",
     "output_type": "stream",
     "text": [
      "C:\\06_Anaconda\\software\\lib\\site-packages\\ipykernel_launcher.py:8: UserWarning: Boolean Series key will be reindexed to match DataFrame index.\n",
      "  \n"
     ]
    },
    {
     "data": {
      "text/html": [
       "<div>\n",
       "<style scoped>\n",
       "    .dataframe tbody tr th:only-of-type {\n",
       "        vertical-align: middle;\n",
       "    }\n",
       "\n",
       "    .dataframe tbody tr th {\n",
       "        vertical-align: top;\n",
       "    }\n",
       "\n",
       "    .dataframe thead th {\n",
       "        text-align: right;\n",
       "    }\n",
       "</style>\n",
       "<table border=\"1\" class=\"dataframe\">\n",
       "  <thead>\n",
       "    <tr style=\"text-align: right;\">\n",
       "      <th></th>\n",
       "      <th>pop</th>\n",
       "      <th>year</th>\n",
       "      <th>state</th>\n",
       "    </tr>\n",
       "  </thead>\n",
       "  <tbody>\n",
       "    <tr>\n",
       "      <td>three</td>\n",
       "      <td>3.6</td>\n",
       "      <td>2002</td>\n",
       "      <td>Ohio</td>\n",
       "    </tr>\n",
       "  </tbody>\n",
       "</table>\n",
       "</div>"
      ],
      "text/plain": [
       "       pop  year state\n",
       "three  3.6  2002  Ohio"
      ]
     },
     "execution_count": 31,
     "metadata": {},
     "output_type": "execute_result"
    }
   ],
   "source": [
    "import pandas as pd\n",
    "data = {'state':['Ohio','Ohio','Ohio','Nevada'],\n",
    "       'year':[2000,2001,2002,2003],\n",
    "       'pop':[1.5,1.7,3.6,2.4]}\n",
    "\n",
    "pd1 = pd.DataFrame(data,columns=['year','state','pop'],index=['one','two','three','four'])   \n",
    "print(pd1.iloc[[0,2],[2,0,1]])           # 警告无需理会，正确运行了\n",
    "pd1.iloc[[0,2],[2,0,1]][pd1['pop']>1.6]  # 选择某些行的某些列，然后用条件进行进行过滤"
   ]
  },
  {
   "cell_type": "code",
   "execution_count": 32,
   "metadata": {},
   "outputs": [
    {
     "data": {
      "text/plain": [
       "one    2000\n",
       "two    2001\n",
       "Name: year, dtype: int64"
      ]
     },
     "execution_count": 32,
     "metadata": {},
     "output_type": "execute_result"
    }
   ],
   "source": [
    "import pandas as pd\n",
    "data = {'state':['Ohio','Ohio','Ohio','Nevada'],\n",
    "       'year':[2000,2001,2002,2003],\n",
    "       'pop':[1.5,1.7,3.6,2.4]}\n",
    "\n",
    "pd1 = pd.DataFrame(data,columns=['year','state','pop'],index=['one','two','three','four'])   \n",
    "pd1.loc[:'two','year']  # 首行到two行，取year列"
   ]
  },
  {
   "cell_type": "code",
   "execution_count": 33,
   "metadata": {},
   "outputs": [
    {
     "data": {
      "text/html": [
       "<div>\n",
       "<style scoped>\n",
       "    .dataframe tbody tr th:only-of-type {\n",
       "        vertical-align: middle;\n",
       "    }\n",
       "\n",
       "    .dataframe tbody tr th {\n",
       "        vertical-align: top;\n",
       "    }\n",
       "\n",
       "    .dataframe thead th {\n",
       "        text-align: right;\n",
       "    }\n",
       "</style>\n",
       "<table border=\"1\" class=\"dataframe\">\n",
       "  <thead>\n",
       "    <tr style=\"text-align: right;\">\n",
       "      <th></th>\n",
       "      <th>pop</th>\n",
       "      <th>year</th>\n",
       "    </tr>\n",
       "  </thead>\n",
       "  <tbody>\n",
       "    <tr>\n",
       "      <td>one</td>\n",
       "      <td>1.5</td>\n",
       "      <td>2000</td>\n",
       "    </tr>\n",
       "    <tr>\n",
       "      <td>two</td>\n",
       "      <td>1.7</td>\n",
       "      <td>2001</td>\n",
       "    </tr>\n",
       "    <tr>\n",
       "      <td>three</td>\n",
       "      <td>3.6</td>\n",
       "      <td>2002</td>\n",
       "    </tr>\n",
       "  </tbody>\n",
       "</table>\n",
       "</div>"
      ],
      "text/plain": [
       "       pop  year\n",
       "one    1.5  2000\n",
       "two    1.7  2001\n",
       "three  3.6  2002"
      ]
     },
     "execution_count": 33,
     "metadata": {},
     "output_type": "execute_result"
    }
   ],
   "source": [
    "import pandas as pd\n",
    "data = {'state':['Ohio','Ohio','Ohio','Nevada'],\n",
    "       'year':[2000,2001,2002,2003],\n",
    "       'pop':[1.5,1.7,3.6,2.4]}\n",
    "\n",
    "pd1 = pd.DataFrame(data,columns=['year','state','pop'],index=['one','two','three','four'])   \n",
    "pd1[:3][['pop','year']]  # 先筛选行，再筛选列"
   ]
  },
  {
   "cell_type": "code",
   "execution_count": 34,
   "metadata": {},
   "outputs": [
    {
     "name": "stdout",
     "output_type": "stream",
     "text": [
      "<class 'pandas.core.series.Series'>\n"
     ]
    },
    {
     "data": {
      "text/plain": [
       "year       2003\n",
       "state    Nevada\n",
       "pop         2.4\n",
       "Name: four, dtype: object"
      ]
     },
     "execution_count": 34,
     "metadata": {},
     "output_type": "execute_result"
    }
   ],
   "source": [
    "import pandas as pd\n",
    "data = {'state':['Ohio','Ohio','Ohio','Nevada'],\n",
    "       'year':[2000,2001,2002,2003],\n",
    "       'pop':[1.5,1.7,3.6,2.4]}\n",
    "\n",
    "pd1 = pd.DataFrame(data,columns=['year','state','pop'],index=['one','two','three','four'])   \n",
    "print(type(pd1.loc['four']))  # 是一个 Series 类型\n",
    "pd1.loc['four']               # 获得行数据，不能用pd1.four来读取"
   ]
  },
  {
   "cell_type": "code",
   "execution_count": 35,
   "metadata": {},
   "outputs": [
    {
     "name": "stdout",
     "output_type": "stream",
     "text": [
      "   Ohio  Texas  California\n",
      "a     0      1           2\n",
      "c     3      4           5\n",
      "d     6      7           8\n",
      "    Ohio  Texas  California\n",
      "aa   NaN    NaN         NaN\n",
      "bb   NaN    NaN         NaN\n",
      "cc   NaN    NaN         NaN\n",
      "   Ohio  Texas  California\n",
      "c   3.0    4.0         5.0\n",
      "b   NaN    NaN         NaN\n",
      "a   0.0    1.0         2.0\n",
      "d   6.0    7.0         8.0\n"
     ]
    }
   ],
   "source": [
    "frame = pd.DataFrame(np.arange(9).reshape((3,3)),index=['a','c','d'],\n",
    "                    columns=['Ohio','Texas','California'])\n",
    "print(frame)\n",
    "frame2 = frame.reindex(['aa','bb','cc'])  # 重命名索引，若没有原索引，则为空\n",
    "print(frame2)  \n",
    "\n",
    "frame2 = frame.reindex(['c','b','a','d'])  # 重命名索引，若有原索引，则修改顺序\n",
    "print(frame2)  "
   ]
  },
  {
   "cell_type": "code",
   "execution_count": 36,
   "metadata": {},
   "outputs": [
    {
     "name": "stdout",
     "output_type": "stream",
     "text": [
      "   Ohio  Texas  California\n",
      "c   3.0    4.0         5.0\n",
      "b   NaN    NaN         NaN\n",
      "a   0.0    1.0         2.0\n",
      "d   6.0    7.0         8.0\n",
      "   Ohio  Texas  California\n",
      "c   3.0    4.0         5.0\n",
      "b   NaN    NaN         NaN\n",
      "a   0.0    1.0         2.0\n"
     ]
    }
   ],
   "source": [
    "frame = pd.DataFrame(np.arange(9).reshape((3,3)),index=['a','c','d'],\n",
    "                    columns=['Ohio','Texas','California'])\n",
    "\n",
    "frame2 = frame.reindex(['c','b','a','d'])  # 重命名索引，若有原索引，则修改顺序\n",
    "print(frame2)  \n",
    "\n",
    "data = frame2.drop(['d'])  # 删除d行\n",
    "print(data)  "
   ]
  },
  {
   "cell_type": "code",
   "execution_count": 37,
   "metadata": {},
   "outputs": [
    {
     "name": "stdout",
     "output_type": "stream",
     "text": [
      "   Ohio  Texas  California\n",
      "c   3.0    4.0         5.0\n",
      "b   NaN    NaN         NaN\n",
      "a   0.0    1.0         2.0\n",
      "d   6.0    7.0         8.0\n",
      "   Ohio  Texas  California\n",
      "c   3.0    4.0         5.0\n",
      "b   NaN    NaN         NaN\n",
      "a   0.0    1.0         2.0\n"
     ]
    }
   ],
   "source": [
    "frame = pd.DataFrame(np.arange(9).reshape((3,3)),index=['a','c','d'],\n",
    "                    columns=['Ohio','Texas','California'])\n",
    "\n",
    "frame2 = frame.reindex(['c','b','a','d'])  # 重命名索引，若有原索引，则修改顺序\n",
    "print(frame2)  \n",
    "\n",
    "data = frame2.drop('d',axis=0)  # 删除d行\n",
    "print(data)  "
   ]
  },
  {
   "cell_type": "code",
   "execution_count": 38,
   "metadata": {},
   "outputs": [
    {
     "name": "stdout",
     "output_type": "stream",
     "text": [
      "   Ohio  Texas  California\n",
      "c   3.0    4.0         5.0\n",
      "b   NaN    NaN         NaN\n",
      "a   0.0    1.0         2.0\n",
      "d   6.0    7.0         8.0\n",
      "   Texas  California\n",
      "c    4.0         5.0\n",
      "b    NaN         NaN\n",
      "a    1.0         2.0\n",
      "d    7.0         8.0\n"
     ]
    }
   ],
   "source": [
    "frame = pd.DataFrame(np.arange(9).reshape((3,3)),index=['a','c','d'],\n",
    "                    columns=['Ohio','Texas','California'])\n",
    "\n",
    "frame2 = frame.reindex(['c','b','a','d'])  # 重命名索引，若有原索引，则修改顺序\n",
    "print(frame2)  \n",
    "\n",
    "data = frame2.drop('Ohio',axis=1)  # 删除Ohio列\n",
    "print(data)  "
   ]
  },
  {
   "cell_type": "code",
   "execution_count": 39,
   "metadata": {},
   "outputs": [
    {
     "name": "stdout",
     "output_type": "stream",
     "text": [
      "       year   state  pop\n",
      "one    2000    Ohio  1.5\n",
      "two    2001    Ohio  1.7\n",
      "three  2002    Ohio  3.6\n",
      "four   2003  Nevada  2.4\n"
     ]
    },
    {
     "data": {
      "text/html": [
       "<div>\n",
       "<style scoped>\n",
       "    .dataframe tbody tr th:only-of-type {\n",
       "        vertical-align: middle;\n",
       "    }\n",
       "\n",
       "    .dataframe tbody tr th {\n",
       "        vertical-align: top;\n",
       "    }\n",
       "\n",
       "    .dataframe thead th {\n",
       "        text-align: right;\n",
       "    }\n",
       "</style>\n",
       "<table border=\"1\" class=\"dataframe\">\n",
       "  <thead>\n",
       "    <tr style=\"text-align: right;\">\n",
       "      <th></th>\n",
       "      <th>year</th>\n",
       "      <th>state</th>\n",
       "      <th>pop</th>\n",
       "    </tr>\n",
       "  </thead>\n",
       "  <tbody>\n",
       "    <tr>\n",
       "      <td>one</td>\n",
       "      <td>4000</td>\n",
       "      <td>OhioOhio</td>\n",
       "      <td>3.0</td>\n",
       "    </tr>\n",
       "    <tr>\n",
       "      <td>two</td>\n",
       "      <td>4002</td>\n",
       "      <td>OhioOhio</td>\n",
       "      <td>3.4</td>\n",
       "    </tr>\n",
       "    <tr>\n",
       "      <td>three</td>\n",
       "      <td>4004</td>\n",
       "      <td>OhioOhio</td>\n",
       "      <td>7.2</td>\n",
       "    </tr>\n",
       "    <tr>\n",
       "      <td>four</td>\n",
       "      <td>4006</td>\n",
       "      <td>NevadaNevada</td>\n",
       "      <td>4.8</td>\n",
       "    </tr>\n",
       "  </tbody>\n",
       "</table>\n",
       "</div>"
      ],
      "text/plain": [
       "       year         state  pop\n",
       "one    4000      OhioOhio  3.0\n",
       "two    4002      OhioOhio  3.4\n",
       "three  4004      OhioOhio  7.2\n",
       "four   4006  NevadaNevada  4.8"
      ]
     },
     "execution_count": 39,
     "metadata": {},
     "output_type": "execute_result"
    }
   ],
   "source": [
    "import pandas as pd\n",
    "data = {'state':['Ohio','Ohio','Ohio','Nevada'],\n",
    "       'year':[2000,2001,2002,2003],\n",
    "       'pop':[1.5,1.7,3.6,2.4]}\n",
    "\n",
    "pd1 = pd.DataFrame(data,columns=['year','state','pop'],index=['one','two','three','four'])   \n",
    "print(pd1)\n",
    "pd1+pd1   # 里面的元素相加"
   ]
  },
  {
   "cell_type": "code",
   "execution_count": 40,
   "metadata": {},
   "outputs": [
    {
     "name": "stdout",
     "output_type": "stream",
     "text": [
      "            b    c    d\n",
      "Ohio      0.0  1.0  2.0\n",
      "Texas     3.0  4.0  5.0\n",
      "Coloradp  6.0  7.0  8.0\n",
      "          b    c    d\n",
      "Ohio    0.0  1.0  2.0\n",
      "Texas   3.0  4.0  5.0\n",
      "Oregon  6.0  7.0  8.0\n"
     ]
    },
    {
     "data": {
      "text/html": [
       "<div>\n",
       "<style scoped>\n",
       "    .dataframe tbody tr th:only-of-type {\n",
       "        vertical-align: middle;\n",
       "    }\n",
       "\n",
       "    .dataframe tbody tr th {\n",
       "        vertical-align: top;\n",
       "    }\n",
       "\n",
       "    .dataframe thead th {\n",
       "        text-align: right;\n",
       "    }\n",
       "</style>\n",
       "<table border=\"1\" class=\"dataframe\">\n",
       "  <thead>\n",
       "    <tr style=\"text-align: right;\">\n",
       "      <th></th>\n",
       "      <th>b</th>\n",
       "      <th>c</th>\n",
       "      <th>d</th>\n",
       "    </tr>\n",
       "  </thead>\n",
       "  <tbody>\n",
       "    <tr>\n",
       "      <td>Coloradp</td>\n",
       "      <td>NaN</td>\n",
       "      <td>NaN</td>\n",
       "      <td>NaN</td>\n",
       "    </tr>\n",
       "    <tr>\n",
       "      <td>Ohio</td>\n",
       "      <td>0.0</td>\n",
       "      <td>2.0</td>\n",
       "      <td>4.0</td>\n",
       "    </tr>\n",
       "    <tr>\n",
       "      <td>Oregon</td>\n",
       "      <td>NaN</td>\n",
       "      <td>NaN</td>\n",
       "      <td>NaN</td>\n",
       "    </tr>\n",
       "    <tr>\n",
       "      <td>Texas</td>\n",
       "      <td>6.0</td>\n",
       "      <td>8.0</td>\n",
       "      <td>10.0</td>\n",
       "    </tr>\n",
       "  </tbody>\n",
       "</table>\n",
       "</div>"
      ],
      "text/plain": [
       "            b    c     d\n",
       "Coloradp  NaN  NaN   NaN\n",
       "Ohio      0.0  2.0   4.0\n",
       "Oregon    NaN  NaN   NaN\n",
       "Texas     6.0  8.0  10.0"
      ]
     },
     "execution_count": 40,
     "metadata": {},
     "output_type": "execute_result"
    }
   ],
   "source": [
    "import numpy as np\n",
    "df1 = pd.DataFrame(np.arange(9.).reshape(3,3),columns=list('bcd'),index=['Ohio','Texas','Coloradp'])\n",
    "df2 = pd.DataFrame(np.arange(9.).reshape(3,3),columns=list('bcd'),index=['Ohio','Texas','Oregon'])\n",
    "print(df1)\n",
    "print(df2)\n",
    "df1 + df2  # 另外一个表格没有值时，相加为空"
   ]
  }
 ],
 "metadata": {
  "kernelspec": {
   "display_name": "Python 3",
   "language": "python",
   "name": "python3"
  },
  "language_info": {
   "codemirror_mode": {
    "name": "ipython",
    "version": 3
   },
   "file_extension": ".py",
   "mimetype": "text/x-python",
   "name": "python",
   "nbconvert_exporter": "python",
   "pygments_lexer": "ipython3",
   "version": "3.7.4"
  },
  "toc": {
   "base_numbering": 1,
   "nav_menu": {},
   "number_sections": false,
   "sideBar": true,
   "skip_h1_title": false,
   "title_cell": "Table of Contents",
   "title_sidebar": "Contents",
   "toc_cell": false,
   "toc_position": {
    "height": "calc(100% - 180px)",
    "left": "10px",
    "top": "150px",
    "width": "277.983px"
   },
   "toc_section_display": true,
   "toc_window_display": true
  }
 },
 "nbformat": 4,
 "nbformat_minor": 4
}
