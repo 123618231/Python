{
 "cells": [
  {
   "cell_type": "markdown",
   "metadata": {},
   "source": [
    "# Python的闭包"
   ]
  },
  {
   "cell_type": "markdown",
   "metadata": {},
   "source": [
    "# 1. Python的闭包"
   ]
  },
  {
   "cell_type": "markdown",
   "metadata": {},
   "source": [
    "① 普通函数的返回值为整数、字符串、列表，但是闭包的外层函数(outer_func)的返回值是内层函数(inner_func)的对象，也可以是内部函数，如果是对象，则可以被调用，通过 对象(参数) 调用，如果是内部函数，则调用装饰器则直接调用内部函数。\n",
    "\n",
    "② 闭包是一个嵌套函数，内嵌函数可以使用外部函数的入口参数，可以引用外层函数变量，这种内部函数调用外部变量的行为，就叫做闭包。\n",
    "\n",
    "③ 变量生命周期被延长时因为闭包会使用python中一个魔法属性__closure__，它负责把外部变量生命周期延长，内置函数.__closure__ 有返回值表示该外层函数为闭包，无返回值则不为闭包。\n",
    "\n",
    "④ 跟普通函数的不同，内嵌函数用了外部函数的变量，使外部变量生命周期被延长了，而普通函数的变量，在进入其他函数时，变量无法再用了。"
   ]
  },
  {
   "cell_type": "code",
   "execution_count": 1,
   "metadata": {},
   "outputs": [
    {
     "name": "stdout",
     "output_type": "stream",
     "text": [
      "(<cell at 0x00000253F92343D8: str object at 0x00000253F9232870>,)\n",
      "I am Tony\n"
     ]
    }
   ],
   "source": [
    "# 使用外部函数的的入口参数\n",
    "# 闭包外层函数的返回值为内层函数\n",
    "\n",
    "def print_func(name):\n",
    "    def p_name():\n",
    "        print( \"I am \" + name )\n",
    "    print(p_name.__closure__)   # 调用的是内部函数的__closure__，而不是外部函数的__closure__\n",
    "    return p_name()             \n",
    "\n",
    "if __name__  ==  '__main__':\n",
    "    print_func('Tony')    # 直接调用内部函数"
   ]
  },
  {
   "cell_type": "code",
   "execution_count": 2,
   "metadata": {},
   "outputs": [
    {
     "name": "stdout",
     "output_type": "stream",
     "text": [
      "(<cell at 0x00000253F9234228: str object at 0x00000253F92412F0>,)\n",
      "(<cell at 0x00000253F9234228: str object at 0x00000253F92412F0>,)\n",
      "<function print_func.<locals>.p_name at 0x00000253F9213DC8>\n",
      "(<cell at 0x00000253F9234228: str object at 0x00000253F9236270>,)\n",
      "I am 宝贝入怀\n"
     ]
    }
   ],
   "source": [
    "# 使用外部函数的的入口参数\n",
    "# 闭包外层函数的返回值为内存函数对象\n",
    "\n",
    "def print_func(name):\n",
    "    def p_name():\n",
    "        print( \"I am \" + name )\n",
    "    print(p_name.__closure__)\n",
    "    return p_name  # 返回内层函数对象\n",
    "\n",
    "if __name__  ==  '__main__':\n",
    "    print_func('Tony')             # 并不会调用p_name():\n",
    "    print(print_func('Tony'))      # 打印返回的对象\n",
    "    \n",
    "    t = print_func('宝贝入怀')\n",
    "    t()                            # 此时才会调用内层函数\n",
    "    \n",
    "# python处处是对象，函数也可以作为对象，比如t和p_name是指向同一个函数的引用。\n",
    "# 如果不理解引用，那你就把t跟p_name当成同一个东西，没加括号为函数对象本身，加上括号则代表在此调用方法。\n",
    "# 调用t即t()则相当于p_name()"
   ]
  },
  {
   "cell_type": "code",
   "execution_count": 3,
   "metadata": {},
   "outputs": [
    {
     "name": "stdout",
     "output_type": "stream",
     "text": [
      "(<cell at 0x00000253F9234CD8: list object at 0x00000253F9185408>,)\n",
      "<function outer_func.<locals>.inner_func at 0x00000253F9213EE8>\n",
      "a loc_list = [1]\n",
      "b loc_list = [1, 2]\n",
      "c loc_list = [1, 2, 3]\n",
      "(<cell at 0x00000253F924A348: list object at 0x00000253F9185448>,)\n",
      "n loc_list = [1, 2, 3, 4]\n",
      "h loc_list = [1, 2, 3, 4, 5]\n",
      "j loc_list = [1, 2, 3, 4, 5, 6]\n"
     ]
    }
   ],
   "source": [
    "# 闭包引用外层函数变量\n",
    "\n",
    "def outer_func():\n",
    "    loc_list = []\n",
    "    def inner_func(name):\n",
    "        loc_list.append(len(loc_list)+1)\n",
    "        print(\"%s loc_list = %s\" %(name,loc_list))\n",
    "    print(inner_func.__closure__)\n",
    "    return inner_func\n",
    "\n",
    "clo_func_0 = outer_func()   # 将内层函数对象 重命名为 clo_func_0\n",
    "print(clo_func_0)\n",
    "clo_func_0('a')  # 调用一次\n",
    "clo_func_0('b')  # 调用二次\n",
    "clo_func_0('c')  # 调用三次  \n",
    "clo_func_1 = outer_func()\n",
    "clo_func_0('n')  # 调用一次\n",
    "clo_func_0('h')  # 调用二次  这些调用都在外层变量 los_list 上运行属性\n",
    "clo_func_0('j')  # 调用三次"
   ]
  },
  {
   "cell_type": "code",
   "execution_count": 4,
   "metadata": {},
   "outputs": [
    {
     "name": "stdout",
     "output_type": "stream",
     "text": [
      "(<cell at 0x00000253F924A378: list object at 0x00000253F92327C8>,)\n",
      "['1']\n",
      "['1', '1']\n",
      "['1', '1', '1']\n",
      "None\n",
      "['1']\n",
      "['1']\n",
      "['1']\n"
     ]
    }
   ],
   "source": [
    "def outer_func1():\n",
    "    loc_list = []\n",
    "    def inner_func(name):\n",
    "        list1 = loc_list   # 每回函数调用，每回都继承原有外部变量 loc_list，这是一个闭包\n",
    "        list1.append('1')\n",
    "        print(list1)\n",
    "    print(inner_func.__closure__)  # 有返回值为闭包\n",
    "    return inner_func\n",
    "\n",
    "def outer_func2():\n",
    "    loc_list = []\n",
    "    def inner_func(name):\n",
    "        list1 = []      # 每回函数调用，直接调用这个普通函数，所以每次list1都被初始化为空，而不是继承上一次的list1\n",
    "        list1.append('1')\n",
    "        print(list1)\n",
    "    print(inner_func.__closure__)  # 无返回值为闭包\n",
    "    return inner_func\n",
    "\n",
    "f1 = outer_func1() # f1就是内部函数了\n",
    "f1('dd')  # 每当调用一次，就会往里添加一次1\n",
    "f1('dd')  # 每当调用一次，就会往里添加一次1\n",
    "f1('dd')  # 每当调用一次，就会往里添加一次1\n",
    "\n",
    "\n",
    "f2 = outer_func2()\n",
    "f2('dd')  # 每当调用一次，就会往里添加一次1\n",
    "f2('dd')  # 每当调用一次，就会往里添加一次1\n",
    "f2('dd')  # 每当调用一次，就会往里添加一次1"
   ]
  },
  {
   "cell_type": "code",
   "execution_count": 5,
   "metadata": {},
   "outputs": [
    {
     "name": "stdout",
     "output_type": "stream",
     "text": [
      "hello\n",
      "world\n",
      "程序总耗时，1.0062108039855957\n",
      "(<cell at 0x00000253F924A1F8: function object at 0x00000253F92421F8>, <cell at 0x00000253F924A378: function object at 0x00000253F9084CA8>)\n",
      "hello\n",
      "hello\n",
      "world\n",
      "程序总耗时，3.00880765914917\n",
      "(<cell at 0x00000253F91FFFA8: function object at 0x00000253F9213AF8>, <cell at 0x00000253F91FFA38: function object at 0x00000253F9084EE8>)\n"
     ]
    }
   ],
   "source": [
    "# 闭包：函数里面定义了一个函数\n",
    "\n",
    "import time\n",
    "\n",
    "def f():\n",
    "    start_time = time.time()\n",
    "    print(\"hello\")\n",
    "    time.sleep(1)\n",
    "    print(\"world\")\n",
    "    return 100\n",
    "    \n",
    "def f1():\n",
    "    start_time = time.time()\n",
    "    print(\"hello\")\n",
    "    print(\"hello\")\n",
    "    time.sleep(3)\n",
    "    print(\"world\")\n",
    "    return 1000\n",
    "\n",
    "    \n",
    "def cal_time(func):\n",
    "    def wrapper():\n",
    "        start_time = time.time()\n",
    "        a = func()                   # 用了外部的变量、参数\n",
    "        print(\"程序总耗时，{}\".format(time.time()-start_time))\n",
    "        print(wrapper.__closure__)   # 是闭包\n",
    "    return wrapper\n",
    "        \n",
    "func1 = cal_time(f)   # 对第一个函数统计时间\n",
    "func1()\n",
    "\n",
    "func2 = cal_time(f1)  # 对第二个函数统计时间\n",
    "func2()"
   ]
  },
  {
   "cell_type": "code",
   "execution_count": 6,
   "metadata": {},
   "outputs": [
    {
     "name": "stdout",
     "output_type": "stream",
     "text": [
      "(<cell at 0x00000253F924A0D8: function object at 0x00000253F92423A8>,)\n",
      "hello\n",
      "world\n",
      "程序总耗时，1.008488416671753\n",
      "hello\n",
      "world\n",
      "程序总耗时，1.0043680667877197\n",
      "None\n",
      "(<cell at 0x00000253F9234F78: function object at 0x00000253F924C0D8>,)\n",
      "hello\n",
      "hello\n",
      "world\n",
      "程序总耗时，3.00726056098938\n",
      "hello\n",
      "hello\n",
      "world\n",
      "程序总耗时，3.006143808364868\n",
      "1000\n"
     ]
    }
   ],
   "source": [
    "# 函数运行完有返回值，没有返回值就打印空\n",
    "\n",
    "import time\n",
    " \n",
    "def f():\n",
    "    start_time = time.time()\n",
    "    print(\"hello\")\n",
    "    time.sleep(1)\n",
    "    print(\"world\")\n",
    "#    return 100\n",
    "    \n",
    "def f1():\n",
    "    start_time = time.time()\n",
    "    print(\"hello\")\n",
    "    print(\"hello\")\n",
    "    time.sleep(3)\n",
    "    print(\"world\")\n",
    "    return 1000\n",
    "\n",
    "    \n",
    "def cal_time(func):\n",
    "    def wrapper():\n",
    "        start_time = time.time()\n",
    "        a = func()               # 用了外部的变量、参数\n",
    "        print(\"程序总耗时，{}\".format(time.time()-start_time))\n",
    "        return a\n",
    "    print(wrapper.__closure__)   # 是闭包\n",
    "    return wrapper\n",
    "        \n",
    "func1 = cal_time(f)              # 对第一个函数统计时间\n",
    "func1()\n",
    "print(func1())\n",
    "\n",
    "func2 = cal_time(f1)             # 对第二个函数统计时间\n",
    "func2()\n",
    "print(func2())"
   ]
  },
  {
   "cell_type": "code",
   "execution_count": 7,
   "metadata": {},
   "outputs": [
    {
     "name": "stdout",
     "output_type": "stream",
     "text": [
      "(<cell at 0x00000253F924AF48: function object at 0x00000253F924C5E8>,)\n",
      "hello\n",
      "world\n",
      "程序总耗时，1.0029902458190918\n",
      "hello\n",
      "world\n",
      "程序总耗时，1.0046665668487549\n",
      "19\n"
     ]
    }
   ],
   "source": [
    "# 函数有传入参数的情况\n",
    "\n",
    "import time\n",
    "\n",
    "def f(a):\n",
    "    start_time = time.time()\n",
    "    print(\"hello\")\n",
    "    time.sleep(1)\n",
    "    print(\"world\")\n",
    "    return a+9\n",
    "    \n",
    "def f1(a,b,c):\n",
    "    start_time = time.time()\n",
    "    print(\"hello\")\n",
    "    print(\"hello\")\n",
    "    time.sleep(3)\n",
    "    print(\"world\")\n",
    "    return a+b+c+1000\n",
    "\n",
    "    \n",
    "def cal_time(func):\n",
    "    def wrapper(a):\n",
    "        start_time = time.time()\n",
    "        result = func(a)         # 用了外部的变量、参数\n",
    "        print(\"程序总耗时，{}\".format(time.time()-start_time))\n",
    "        return result\n",
    "    print(wrapper.__closure__)   # 是闭包\n",
    "    return wrapper\n",
    "        \n",
    "func1 = cal_time(f)              # 对第一个函数统计时间\n",
    "func1(10)\n",
    "print(func1(10))"
   ]
  },
  {
   "cell_type": "code",
   "execution_count": 8,
   "metadata": {},
   "outputs": [
    {
     "name": "stdout",
     "output_type": "stream",
     "text": [
      "(<cell at 0x00000253F924A8B8: function object at 0x00000253F9242EE8>,)\n",
      "hello\n",
      "world\n",
      "程序总耗时，1.0104401111602783\n",
      "hello\n",
      "world\n",
      "程序总耗时，1.011256456375122\n",
      "19\n",
      "(<cell at 0x00000253F9234D38: function object at 0x00000253F924C048>,)\n",
      "hello\n",
      "hello\n",
      "world\n",
      "程序总耗时，3.0024991035461426\n",
      "hello\n",
      "hello\n",
      "world\n",
      "程序总耗时，3.008516311645508\n",
      "2110\n"
     ]
    }
   ],
   "source": [
    "# 函数传入不定长参数\n",
    "\n",
    "import time\n",
    " \n",
    "# 如果有一百个这样的函数要统计时间，就比较麻烦\n",
    "def f(a):\n",
    "    start_time = time.time()\n",
    "    print(\"hello\")\n",
    "    time.sleep(1)\n",
    "    print(\"world\")\n",
    "    return a+9\n",
    "    \n",
    "def f1(a,b,c):\n",
    "    start_time = time.time()\n",
    "    print(\"hello\")\n",
    "    print(\"hello\")\n",
    "    time.sleep(3)\n",
    "    print(\"world\")\n",
    "    return a+b+c+1000\n",
    "\n",
    "    \n",
    "def cal_time(func):\n",
    "    def wrapper(*a):\n",
    "        start_time = time.time()\n",
    "        result = func(*a) # 用了外部的变量、参数\n",
    "        print(\"程序总耗时，{}\".format(time.time()-start_time))\n",
    "        return result\n",
    "    print(wrapper.__closure__)   # 是闭包\n",
    "    return wrapper\n",
    "        \n",
    "func1 = cal_time(f)   # 对第一个函数统计时间\n",
    "func1(10)\n",
    "print(func1(10))\n",
    "\n",
    "func2 = cal_time(f1)  # 对第二个函数统计时间\n",
    "func2(10,100,1000)\n",
    "print(func2(10,100,1000))"
   ]
  },
  {
   "cell_type": "code",
   "execution_count": 9,
   "metadata": {},
   "outputs": [
    {
     "name": "stdout",
     "output_type": "stream",
     "text": [
      "(<cell at 0x00000253F924A2E8: int object at 0x00007FFCE768A170>,)\n",
      "(<cell at 0x00000253F924A2E8: int object at 0x00007FFCE768A190>,)\n",
      "(<cell at 0x00000253F924A2E8: int object at 0x00007FFCE768A1B0>,)\n",
      "<function my_func.<locals>.func at 0x00000253F924C678>\n",
      "<function my_func.<locals>.func at 0x00000253F924C558>\n",
      "<function my_func.<locals>.func at 0x00000253F924CCA8>\n",
      "4\n",
      "4\n",
      "4\n"
     ]
    }
   ],
   "source": [
    "# 闭包陷阱，看似闭包，实际上是闭包\n",
    "\n",
    "def my_func(*args):\n",
    "    fs = []\n",
    "    for i in range(3):\n",
    "        def func():\n",
    "            return i * i         # 内部函数使用了外部变量 i，所以是闭包。\n",
    "        print(func.__closure__)  # 有返回值，是闭包\n",
    "        fs.append(func)\n",
    "    return fs\n",
    " \n",
    "fs1,fs2,fs3 = my_func()          # 表示 my_func() 运行一次，由于for循环了三次，所以fs中有三个元素，这三个元素赋值为fs1、fs2、fs3\n",
    "                                 # my_func() 运行中，不会进入 return i * i ，仅仅运行添加函数地址 fs.append(func)\n",
    "\n",
    "print(fs1)\n",
    "print(fs2)\n",
    "print(fs3)                       # 相当于实例化了三次，三个不同的实例化对象，所以地址不一样\n",
    "\n",
    "print(fs1())                     # fs1、fs2、fs3 相当于都是内置函数 func 对象，因此fs1()为直接调用内置函数方法\n",
    "print(fs2())                     # 当运行内置函数方法时，此时的 i 在前面的循环结束后 值为2\n",
    "print(fs3())                     # 此时调用fs1()相当于调用"
   ]
  },
  {
   "cell_type": "code",
   "execution_count": 10,
   "metadata": {},
   "outputs": [
    {
     "name": "stdout",
     "output_type": "stream",
     "text": [
      "None\n",
      "None\n",
      "None\n",
      "0\n",
      "2559685479448\n",
      "1\n",
      "2559685476712\n",
      "4\n",
      "2559685439352\n"
     ]
    }
   ],
   "source": [
    "# 闭包陷阱，看似闭包，实际上不是闭包\n",
    "\n",
    "def my_func(*args):\n",
    "    fs = []\n",
    "    for i in range(3):\n",
    "        def func(_i = i):        # i 作为值传入给_i变量，内部函数实际上没有用外部变量 i\n",
    "            return _i * _i\n",
    "        print(func.__closure__)  # 无返回值，不是闭包。\n",
    "        fs.append(func)\n",
    "    return fs\n",
    " \n",
    "fs1,fs2,fs3 = my_func()  \n",
    "\n",
    "print(fs1())     \n",
    "print(id(fs1))   \n",
    "print(fs2())\n",
    "print(id(fs2))\n",
    "print(fs3())  \n",
    "print(id(fs3))"
   ]
  }
 ],
 "metadata": {
  "kernelspec": {
   "display_name": "Python 3",
   "language": "python",
   "name": "python3"
  },
  "language_info": {
   "codemirror_mode": {
    "name": "ipython",
    "version": 3
   },
   "file_extension": ".py",
   "mimetype": "text/x-python",
   "name": "python",
   "nbconvert_exporter": "python",
   "pygments_lexer": "ipython3",
   "version": "3.7.4"
  },
  "toc": {
   "base_numbering": 1,
   "nav_menu": {},
   "number_sections": false,
   "sideBar": true,
   "skip_h1_title": false,
   "title_cell": "Table of Contents",
   "title_sidebar": "Contents",
   "toc_cell": false,
   "toc_position": {
    "height": "calc(100% - 180px)",
    "left": "10px",
    "top": "150px",
    "width": "277.983px"
   },
   "toc_section_display": true,
   "toc_window_display": true
  }
 },
 "nbformat": 4,
 "nbformat_minor": 4
}
