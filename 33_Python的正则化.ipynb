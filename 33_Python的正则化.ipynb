{
 "cells": [
  {
   "cell_type": "markdown",
   "metadata": {},
   "source": [
    "# Python的正则化"
   ]
  },
  {
   "cell_type": "markdown",
   "metadata": {},
   "source": [
    "# 1. Python的正则化"
   ]
  },
  {
   "cell_type": "markdown",
   "metadata": {},
   "source": [
    "① 正则表达式是一个特殊的字符序列，它能帮助你方便的检查一个字符串是否与某种模式匹配。\n",
    "\n",
    "② 正则表达式中包含两个部分，一个是正则语法对应的字符，二个是普通字符，例如：fullmatch(正则表达式字符串，字符串) - - > 判断正则表达式和字符串是否完全匹配。\n",
    "\n",
    "③ 正则表达式字符串：就是一个字符串，字符串中是正则表达式语法，即 r'正则表达式'。\n",
    "\n",
    "④ 正则表达式检查字符串满不满足条件，满足的话就返回对象，不满足条件就为空。"
   ]
  },
  {
   "cell_type": "markdown",
   "metadata": {},
   "source": [
    "⑤ 正则表达式的用处：\n",
    "\n",
    "1. 判断字符串是否满足某个条件.....判断输入的字符是否是邮箱/手机号码。是否是ip地址。\n",
    "2. 提取满足条件的字符串。\n",
    "3. 字符串替换。\n",
    "\n",
    "⑥ compile函数根据一个模式字符串和可选的标志参数生成一个正则表达式对象。该对象拥有一系列方法用于正则表达式匹配和替换。\n",
    "\n",
    "⑦ re模块提供了与这些方法功能完全一致的函数，这些函数使用一个模式字符串做为它们的第一个参数，re模块使Python语言拥有全部的正则表达式功能，\n",
    "\n",
    "⑧ re.match()尝试从字符串的起始位置匹配一个模式，如果不是起始位置匹配成功的话，match()就返回none。\n",
    "\n",
    "参考文献：https://www.linuxidc.com/Linux/2019-03/157765.htm"
   ]
  },
  {
   "cell_type": "code",
   "execution_count": 1,
   "metadata": {},
   "outputs": [
    {
     "name": "stdout",
     "output_type": "stream",
     "text": [
      "<re.Match object; span=(0, 3), match='a|b'>\n",
      "None\n",
      "<class 're.Match'>\n",
      "<class 'NoneType'>\n",
      "<re.Match object; span=(0, 3), match='a|b'> (0, 3) a|b\n"
     ]
    }
   ],
   "source": [
    "#coding=utf-8\n",
    "import re\n",
    "\n",
    "# 一个 .(点)为只能匹配一个任意字符\n",
    "pattern = r'a.b'                              # 匹配三个字符，左边是a，右边是b，中间为任意字符(除换行符以外，都可以)，如果是四个字符就匹配不成功\n",
    "result1  = re.fullmatch(pattern,'a|b')        # fullmatch()为完全匹配，即正则表达式与需要匹配的字符串，模式要完全相等\n",
    "result2  = re.fullmatch(pattern,'a|b1')       \n",
    "print(result1)                                # 字符串满足正则表达式返回对象，不满足为空。\n",
    "print(result2)                                # span = [0,3) 是一个左闭右开的索引，result1.span() 为索引两端元素组成的元组\n",
    "print(type(result1))\n",
    "print(type(result2))\n",
    "print(result1,result1.span(),result1.group()) # result1.group()为匹配的结果，它是一个字符串类型"
   ]
  },
  {
   "cell_type": "code",
   "execution_count": 2,
   "metadata": {},
   "outputs": [
    {
     "name": "stdout",
     "output_type": "stream",
     "text": [
      "<re.Match object; span=(0, 4), match='a*cb'> (0, 4) a*cb\n",
      "<re.Match object; span=(0, 4), match='4\\\\nb'> (0, 4) 4\\nb\n",
      "<re.Match object; span=(0, 4), match='_(qb'> (0, 4) _(qb\n",
      "None\n"
     ]
    }
   ],
   "source": [
    "#coding=utf-8\n",
    "import re\n",
    "\n",
    "# 一个\\w匹配一个字符是字母或数字或下划线的字符 \n",
    "pattern = r'\\w...'\n",
    "result1 = re.fullmatch(pattern,r'a*cb')\n",
    "result2 = re.fullmatch(pattern,r'4\\nb')\n",
    "result3 = re.fullmatch(pattern,r'_(qb')\n",
    "result4 = re.fullmatch(pattern,r'*\\nb')\n",
    "if result1:\n",
    "    print(result1,result1.span(),result1.group())\n",
    "else:\n",
    "    print(result1)\n",
    "    \n",
    "if result2:\n",
    "    print(result2,result2.span(),result2.group())\n",
    "else:\n",
    "    print(result2)\n",
    "\n",
    "if result3:\n",
    "    print(result3,result3.span(),result3.group())\n",
    "else:\n",
    "    print(result3)\n",
    "    \n",
    "if result4:\n",
    "    print(result4,result4.span(),result4.group())\n",
    "else:\n",
    "    print(result4)"
   ]
  },
  {
   "cell_type": "code",
   "execution_count": 3,
   "metadata": {},
   "outputs": [
    {
     "name": "stdout",
     "output_type": "stream",
     "text": [
      "None\n",
      "None\n",
      "None\n",
      "<re.Match object; span=(0, 4), match='*\\\\nb'> (0, 4) *\\nb\n"
     ]
    }
   ],
   "source": [
    "#coding=utf-8\n",
    "import re\n",
    "\n",
    "# 一个\\W匹配一个字符是非字母或非数字或非下划线的字符  \n",
    "pattern = r'\\W...'\n",
    "result1 = re.fullmatch(pattern,r'a*cb')\n",
    "result2 = re.fullmatch(pattern,r'4\\nb')\n",
    "result3 = re.fullmatch(pattern,r'_(qb')\n",
    "result4 = re.fullmatch(pattern,r'*\\nb')\n",
    "if result1:\n",
    "    print(result1,result1.span(),result1.group())\n",
    "else:\n",
    "    print(result1)\n",
    "    \n",
    "if result2:\n",
    "    print(result2,result2.span(),result2.group())\n",
    "else:\n",
    "    print(result2)\n",
    "\n",
    "if result3:\n",
    "    print(result3,result3.span(),result3.group())\n",
    "else:\n",
    "    print(result3)\n",
    "    \n",
    "if result4:\n",
    "    print(result4,result4.span(),result4.group())\n",
    "else:\n",
    "    print(result4)"
   ]
  },
  {
   "cell_type": "code",
   "execution_count": 4,
   "metadata": {},
   "outputs": [
    {
     "name": "stdout",
     "output_type": "stream",
     "text": [
      "None\n",
      "<re.Match object; span=(0, 7), match='abc aaa'>\n"
     ]
    }
   ],
   "source": [
    "#coding=utf-8\n",
    "\n",
    "# 一个\\b不会去匹配一个字符，而是单纯的检测\\b出现的位置是否是单词边界\n",
    "# 单词边界: 字符串开始和结尾、空格、换行、标点符号等，可以将两个单词隔开的字符都单词边界\n",
    "\n",
    "pattern1 = r'\\babc'                            # 匹配字符串abc中的a为单词边界，abc是拿来匹配的单词\n",
    "pattern2 = r'abc\\b\\saaa'                       # 匹配字符串abc中的c为单词边界,因为后接空格，没有单词\n",
    "                                               # 一个 \\s 字符匹配一个空白字符，空白字符: 空格、制表符(\\t)、回车(换行\\n)等，都输入空白字符\n",
    "\n",
    "result1 = re.fullmatch(pattern1, 'abc aaa')    # 虽然abc出现字符串的开头，但是由于用fullmatch，没有完全匹配的字符串，返回也是空\n",
    "result2 = re.fullmatch(pattern2, 'abc aaa')    # 用 pattern = r'abc\\saaa' 也可以匹配到\n",
    "print(result1)\n",
    "print(result2)"
   ]
  },
  {
   "cell_type": "code",
   "execution_count": 5,
   "metadata": {},
   "outputs": [
    {
     "name": "stdout",
     "output_type": "stream",
     "text": [
      "<re.Match object; span=(0, 3), match='aac'> (0, 3) aac\n",
      "<re.Match object; span=(0, 3), match='abc'> (0, 3) abc\n",
      "<re.Match object; span=(0, 3), match='acc'> (0, 3) acc\n",
      "None\n"
     ]
    }
   ],
   "source": [
    "import re \n",
    "\n",
    "# []表示匹配括号中出现的任意一个字符\n",
    "pattern = r'a[abc]c'       # 把中括号里面当做一个字符，只要是a或b或c，都可以匹配到\n",
    "result1 = re.fullmatch(pattern,'aac')\n",
    "result2 = re.fullmatch(pattern,'abc')\n",
    "result3 = re.fullmatch(pattern,'acc')\n",
    "result4 = re.fullmatch(pattern,'adc')\n",
    "\n",
    "if result1:\n",
    "    print(result1,result1.span(),result1.group())\n",
    "else:\n",
    "    print(result1)\n",
    "\n",
    "if result2:\n",
    "    print(result2,result2.span(),result2.group())\n",
    "else:\n",
    "    print(result2)\n",
    "\n",
    "if result3:\n",
    "    print(result3,result3.span(),result3.group())\n",
    "else:\n",
    "    print(result3)\n",
    "    \n",
    "if result4:\n",
    "    print(result4,result4.span(),result4.group())\n",
    "else:\n",
    "    print(result4)"
   ]
  },
  {
   "cell_type": "code",
   "execution_count": 6,
   "metadata": {},
   "outputs": [
    {
     "name": "stdout",
     "output_type": "stream",
     "text": [
      "<re.Match object; span=(0, 3), match='a4c'> (0, 3) a4c\n",
      "<re.Match object; span=(0, 3), match='abc'> (0, 3) abc\n",
      "None\n"
     ]
    }
   ],
   "source": [
    "import re \n",
    "\n",
    "# []表示匹配括号中出现的任意一个字符\n",
    "pattern = r'a[ab\\dc]c'      # \\d表示任意数字，只要是a或b或c或任意数字，都可以匹配到\n",
    "result1 = re.fullmatch(pattern,'a4c')\n",
    "result2 = re.fullmatch(pattern,'abc')\n",
    "result3 = re.fullmatch(pattern,'a*c')\n",
    "\n",
    "if result1:\n",
    "    print(result1,result1.span(),result1.group())\n",
    "else:\n",
    "    print(result1)\n",
    "\n",
    "if result2:\n",
    "    print(result2,result2.span(),result2.group())\n",
    "else:\n",
    "    print(result2)\n",
    "\n",
    "if result3:\n",
    "    print(result3,result3.span(),result3.group())\n",
    "else:\n",
    "    print(result3)"
   ]
  },
  {
   "cell_type": "code",
   "execution_count": 7,
   "metadata": {},
   "outputs": [
    {
     "name": "stdout",
     "output_type": "stream",
     "text": [
      "<re.Match object; span=(0, 7), match='a42323c'> (0, 7) a42323c\n"
     ]
    }
   ],
   "source": [
    "# +号表示一个或以上个字符，都可以匹配到\n",
    "pattern = r'a[\\d]+c'  \n",
    "result1 = re.fullmatch(pattern,'a42323c')\n",
    "\n",
    "if result1:\n",
    "    print(result1,result1.span(),result1.group())\n",
    "else:\n",
    "    print(result1)"
   ]
  },
  {
   "cell_type": "code",
   "execution_count": 8,
   "metadata": {},
   "outputs": [
    {
     "name": "stdout",
     "output_type": "stream",
     "text": [
      "<re.Match object; span=(0, 3), match='a4c'> (0, 3) a4c\n",
      "<re.Match object; span=(0, 3), match='a+c'> (0, 3) a+c\n",
      "None\n"
     ]
    }
   ],
   "source": [
    "pattern = r'a[\\d+]c'  # 表示数字或+号，都可以匹配到\n",
    "result1 = re.fullmatch(pattern,'a4c')\n",
    "result2 = re.fullmatch(pattern,'a+c')\n",
    "result3 = re.fullmatch(pattern,'a4+c')\n",
    "\n",
    "if result1:\n",
    "    print(result1,result1.span(),result1.group())\n",
    "else:\n",
    "    print(result1)\n",
    "    \n",
    "if result2:\n",
    "    print(result2,result2.span(),result2.group())\n",
    "else:\n",
    "    print(result2)\n",
    "    \n",
    "if result3:\n",
    "    print(result3,result3.span(),result3.group())\n",
    "else:\n",
    "    print(result3)"
   ]
  },
  {
   "cell_type": "code",
   "execution_count": 9,
   "metadata": {},
   "outputs": [
    {
     "name": "stdout",
     "output_type": "stream",
     "text": [
      "<re.Match object; span=(0, 5), match='adddc'> (0, 5) adddc\n",
      "<re.Match object; span=(0, 6), match='a3dddc'> (0, 6) a3dddc\n",
      "<re.Match object; span=(0, 8), match='a348dddc'> (0, 8) a348dddc\n"
     ]
    }
   ],
   "source": [
    "# {} 表示指定次数，{N}为匹配N次，{M,N}为匹配M到N次，{M,}为至少匹配M次，{,M}为最多匹配N次\n",
    "\n",
    "pattern = r'a\\d*d{3}c'  # *号表示零个或以上个字符，都可以匹配到，这里指匹配到3次d\n",
    "result1 = re.fullmatch(pattern,'adddc')     # 零个数字字符\n",
    "result2 = re.fullmatch(pattern,'a3dddc')    # 一个数字字符\n",
    "result3 = re.fullmatch(pattern,'a348dddc')  # 三个数字字符\n",
    "\n",
    "if result1:\n",
    "    print(result1,result1.span(),result1.group())\n",
    "else:\n",
    "    print(result1)\n",
    "    \n",
    "if result2:\n",
    "    print(result2,result2.span(),result2.group())\n",
    "else:\n",
    "    print(result2)\n",
    "    \n",
    "if result3:\n",
    "    print(result3,result3.span(),result3.group())\n",
    "else:\n",
    "    print(result3)"
   ]
  },
  {
   "cell_type": "code",
   "execution_count": 10,
   "metadata": {},
   "outputs": [
    {
     "name": "stdout",
     "output_type": "stream",
     "text": [
      "<re.Match object; span=(0, 7), match='3A2s9ua'> (0, 7) 3A2s9ua\n",
      "None\n"
     ]
    }
   ],
   "source": [
    "# () 表示分组，它有以下三个特点：\n",
    "# 1. 组合，将括号中的内容作为一个整体进行操作\n",
    "# 2. 捕获，使用带括号的正则表达式匹配成功后，只获取括号中的内容。\n",
    "# 3. 重复，在正则表达式中可以通过\\数字来重复前面()中匹配到的结果。数字代表前第几个分组。\n",
    "\n",
    "# 组合\n",
    "import re\n",
    "pattern = r'(\\d[a-zA-Z]){3}a'              # 这里将数字字母当做一个整体，匹配三次\n",
    "result1 = re.fullmatch(pattern,'3A2s9ua')  # 当运用fullmatch时，正则表达式和匹配的字符串，模式要完全相同\n",
    "\n",
    "if result1:\n",
    "    print(result1,result1.span(),result1.group())\n",
    "else:\n",
    "    print(result1)\n",
    "\n",
    "    \n",
    "pattern = r'(\\d[a-zA-Z]){3}a'              \n",
    "result2 = re.fullmatch(pattern,'3A2s9uac') # 不匹配，当运用fullmatch时，正则表达式和匹配的字符串，模式要完全相同，这里多了一个字符\n",
    "\n",
    "if result2:\n",
    "    print(result2,result2.span(),result2.group())\n",
    "else:\n",
    "    print(result2)"
   ]
  },
  {
   "cell_type": "code",
   "execution_count": 11,
   "metadata": {},
   "outputs": [
    {
     "name": "stdout",
     "output_type": "stream",
     "text": [
      "<re.Match object; span=(0, 6), match='773abc'>\n",
      "['873', '235', '432']\n"
     ]
    }
   ],
   "source": [
    "# () 表示分组，它有以下三个特点：\n",
    "# 1. 组合，将括号中的内容作为一个整体进行操作\n",
    "# 2. 捕获，使用带括号的正则表达式匹配成功后，只获取括号中的内容。\n",
    "# 3. 重复，在正则表达式中可以通过\\数字来重复前面()中匹配到的结果。数字代表前第几个分组。\n",
    "\n",
    "# 捕获\n",
    "import re\n",
    "re_str = r'(\\d{3})abc'\n",
    "print(re.fullmatch(re_str, '773abc'))\n",
    "print(re.findall(re_str, 'euhasdhf873abcssjsja235abcu-03s834432abcjjsks'))   # 只提取括号内的内容，组成一个列表"
   ]
  },
  {
   "cell_type": "code",
   "execution_count": 12,
   "metadata": {},
   "outputs": [
    {
     "name": "stdout",
     "output_type": "stream",
     "text": [
      "<re.Match object; span=(0, 8), match='hsn-2323'>\n"
     ]
    }
   ],
   "source": [
    "# () 表示分组，它有以下三个特点：\n",
    "# 1. 组合，将括号中的内容作为一个整体进行操作\n",
    "# 2. 捕获，使用带括号的正则表达式匹配成功后，只获取括号中的内容。\n",
    "# 3. 重复，在正则表达式中可以通过\\数字来重复前面()中匹配到的结果。数字代表前第几个分组。\n",
    "\n",
    "# 重复\n",
    "import re\n",
    "re_str = r'([a-z]{3})-(\\d{2})\\2'  # \\2替换第二组内容，也就是相当于 re_str = r'([a-z]{3})-(\\d{2})(\\d{2})' \n",
    "print(re.fullmatch(re_str, 'hsn-2323'))"
   ]
  },
  {
   "cell_type": "code",
   "execution_count": 13,
   "metadata": {},
   "outputs": [
    {
     "name": "stdout",
     "output_type": "stream",
     "text": [
      "<re.Match object; span=(0, 13), match='hsn-2323hsn23'> (0, 13) hsn-2323hsn23\n"
     ]
    }
   ],
   "source": [
    "import re\n",
    "pattern = r'([a-z]{3})-(\\d{2})\\2\\1\\2'  # \\2表示(\\d{2})再重复一次，\"-\"仅只是一个匹配的减号符号\n",
    "result1 = re.fullmatch(pattern,'hsn-2323hsn23')\n",
    "if result1:\n",
    "    print(result1,result1.span(),result1.group())\n",
    "else:\n",
    "    print(result1)"
   ]
  },
  {
   "cell_type": "code",
   "execution_count": 14,
   "metadata": {},
   "outputs": [
    {
     "name": "stdout",
     "output_type": "stream",
     "text": [
      "<re.Match object; span=(0, 4), match='+b>\\\\'> (0, 4) +b>\\\n"
     ]
    }
   ],
   "source": [
    "# \\表示转义符号\n",
    "# 正则表达式中可以通过在特殊的符号前加\\，来让特殊的符号没有意义.\n",
    "# 中括号中有特殊功能的符号，只代表符号本身，不需要转义字符\\\n",
    "# ()需要转义\n",
    "\n",
    "import re\n",
    "pattern = r'\\+b\\>\\\\'                      # \\就是使得\\后面的字符为需要匹配的字符，即要匹配 +b>\\ 的形式的字符\n",
    "result1 = re.fullmatch(pattern,'+b>\\\\')   # 这里同样需要在字符串\\前面加\\\n",
    "\n",
    "if result1:\n",
    "    print(result1,result1.span(),result1.group())\n",
    "else:\n",
    "    print(result1)"
   ]
  },
  {
   "cell_type": "code",
   "execution_count": 15,
   "metadata": {},
   "outputs": [
    {
     "name": "stdout",
     "output_type": "stream",
     "text": [
      "<re.Match object; span=(0, 1), match=')'> (0, 1) )\n"
     ]
    }
   ],
   "source": [
    "import re\n",
    "pattern = r'\\)'                       # \\就是使得\\后面的字符为需要匹配的字符\n",
    "result2 = re.fullmatch(pattern,')')   # 非\\的字符串时，不能再在前面加\\，如果加转义字符\\会报错\n",
    "\n",
    "if result2:\n",
    "    print(result2,result2.span(),result2.group())\n",
    "else:\n",
    "    print(result2)"
   ]
  },
  {
   "cell_type": "code",
   "execution_count": 16,
   "metadata": {},
   "outputs": [
    {
     "name": "stdout",
     "output_type": "stream",
     "text": [
      "www.163\n",
      "com\n",
      "www.163\\ncom\n",
      "I'm a student\n"
     ]
    }
   ],
   "source": [
    "print('www.163\\ncom')\n",
    "print('www.163\\\\ncom')   # 只有加\\，字符串里面的后面的\\没有意义，\\n才会都显示出来。\n",
    "\n",
    "print('I\\'m a student')  # 不报错\n",
    "#print('I'm a student')  # 报错，两个单引号结束字符串内容"
   ]
  },
  {
   "cell_type": "code",
   "execution_count": 17,
   "metadata": {},
   "outputs": [
    {
     "name": "stdout",
     "output_type": "stream",
     "text": [
      "re.compile('\\\\d+')\n",
      "<re.Match object; span=(0, 5), match='23456'>\n"
     ]
    }
   ],
   "source": [
    "# compile(正则表达式字符串) 将正则表达式字符串转换成正则表达式对象，可以直接调用正则表达式对象的方法\n",
    "pattern = re.compile(r'\\d+')  \n",
    "print(pattern)\n",
    "print(pattern.fullmatch('23456'))  # 不是用re.fullmatch 因为compile把它正则表达式字符串转换为对象了，对象就有一系列方法了"
   ]
  },
  {
   "cell_type": "code",
   "execution_count": 18,
   "metadata": {},
   "outputs": [
    {
     "name": "stdout",
     "output_type": "stream",
     "text": [
      "<re.Match object; span=(0, 7), match='2sdAc12'> (0, 7) 2sdAc12\n",
      "None\n"
     ]
    }
   ],
   "source": [
    "# fullmatch(正则表达式字符串，字符串)\n",
    "# 用正则表达式完全匹配字符串(匹配整个字符串)，返回匹配对象或None\n",
    "\n",
    "# match(正则表达式字符串，字符串)\n",
    "# 用正则表达式匹配字符串开头，返回匹配对象或者None\n",
    "\n",
    "pattern = r'\\d([a-zA-Z]+)12'  \n",
    "result1 = re.match(pattern,'2sdAc123') # 返回的是匹配到的对象\n",
    "result2 = re.match(pattern,'h2sdAc123') # 没有匹配到，第一个字符都没匹配到，后面就不会看了\n",
    "\n",
    "if result1:\n",
    "    print(result1,result1.span(),result1.group())\n",
    "else:\n",
    "    print(result1)\n",
    "    \n",
    "if result2:\n",
    "    print(result2,result2.span(),result2.group())\n",
    "else:\n",
    "    print(result2)"
   ]
  },
  {
   "cell_type": "code",
   "execution_count": 19,
   "metadata": {},
   "outputs": [
    {
     "name": "stdout",
     "output_type": "stream",
     "text": [
      "['__class__', '__copy__', '__deepcopy__', '__delattr__', '__dir__', '__doc__', '__eq__', '__format__', '__ge__', '__getattribute__', '__getitem__', '__gt__', '__hash__', '__init__', '__init_subclass__', '__le__', '__lt__', '__ne__', '__new__', '__reduce__', '__reduce_ex__', '__repr__', '__setattr__', '__sizeof__', '__str__', '__subclasshook__', 'end', 'endpos', 'expand', 'group', 'groupdict', 'groups', 'lastgroup', 'lastindex', 'pos', 're', 'regs', 'span', 'start', 'string']\n"
     ]
    }
   ],
   "source": [
    "import re\n",
    "result1 = re.match(r'\\d([a-zA-Z]+)12','2sdAc123') \n",
    "print(dir(result1))     # 可以查询对象有哪些方法"
   ]
  },
  {
   "cell_type": "code",
   "execution_count": 20,
   "metadata": {},
   "outputs": [
    {
     "name": "stdout",
     "output_type": "stream",
     "text": [
      "<re.Match object; span=(0, 9), match='2hjdsh123'>\n",
      "(0, 9)\n",
      "1\n",
      "6\n"
     ]
    }
   ],
   "source": [
    "import re\n",
    "result = re.fullmatch(r'\\d([a-zA-Z]+)123', '2hjdsh123')\n",
    "print(result)\n",
    "\n",
    "print(result.span(0))  # span(group=0) 获取整个字符串匹配成功的区间(左闭右开区间)\n",
    "print(result.start(1)) # 里面的1表示与第一个分组匹配到的开始下标，也就是子表达式闭区间的值\n",
    "print(result.end(1))   # 里面的1表示与第一个分组匹配到的结束下标，也就是子表达式开区间的值"
   ]
  },
  {
   "cell_type": "code",
   "execution_count": 21,
   "metadata": {},
   "outputs": [
    {
     "name": "stdout",
     "output_type": "stream",
     "text": [
      "<re.Match object; span=(0, 9), match='2hjdsh123'>\n",
      "0: 2hjdsh123\n",
      "1: hjdsh\n"
     ]
    }
   ],
   "source": [
    "# group()/group(0) --> 获取正则表达式完全匹配的结果\n",
    "# group(index>0)   --> 获取正则表达式中第group个分组匹配到的结果\n",
    "\n",
    "import re\n",
    "result = re.fullmatch(r'\\d([a-zA-Z]+)123', '2hjdsh123')\n",
    "print(result)\n",
    "\n",
    "print('0:',result.group())\n",
    "print('1:',result.group(1))"
   ]
  },
  {
   "cell_type": "code",
   "execution_count": 22,
   "metadata": {},
   "outputs": [
    {
     "name": "stdout",
     "output_type": "stream",
     "text": [
      "match: <re.Match object; span=(0, 8), match='2hjdh123'>\n",
      "2hjdh123ABC\n"
     ]
    }
   ],
   "source": [
    "# 对象.string --> 获取被匹配的原字符串\n",
    "\n",
    "import re\n",
    "result = re.match(r'\\d([a-zA-Z]+)123', '2hjdh123ABC')\n",
    "print('match:',result)\n",
    "print(result.string)"
   ]
  },
  {
   "cell_type": "code",
   "execution_count": 23,
   "metadata": {},
   "outputs": [
    {
     "name": "stdout",
     "output_type": "stream",
     "text": [
      "<re.Match object; span=(3, 12), match='2cdADCd12'>\n"
     ]
    }
   ],
   "source": [
    "# search：查找字符串中满足正则表达式的第一个字符串，返回值是匹配对象或者None。\n",
    "import re\n",
    "result1 = re.search(r'\\d([a-zA-Z]+)12','eee2cdADCd1223') # 返回的是匹配到的对象\n",
    "if result1:\n",
    "    print(result1)"
   ]
  },
  {
   "cell_type": "code",
   "execution_count": 24,
   "metadata": {},
   "outputs": [
    {
     "name": "stdout",
     "output_type": "stream",
     "text": [
      "['cdADCd', 'mkKSD']\n"
     ]
    }
   ],
   "source": [
    "# findall：获取字符串中字符串中满足正则表达式的所有的子串，返回一个列表。\n",
    "# 如果正则表达式中有分组，取值的时候只取分组中匹配到的结果。\n",
    "# 如果有多个分组，会将每个分组匹配到的结果作为一个元组的元素。\n",
    "\n",
    "import re\n",
    "result1 = re.findall(r'\\d([a-zA-Z]+)12','eee2cdADCd1223mkKSD129s') # 有一个分组，仅返回分组中匹配到的对象\n",
    "if result1:\n",
    "    print(result1)"
   ]
  },
  {
   "cell_type": "code",
   "execution_count": 25,
   "metadata": {},
   "outputs": [
    {
     "name": "stdout",
     "output_type": "stream",
     "text": [
      "['2cdADCd12', '3mkKSD12']\n"
     ]
    }
   ],
   "source": [
    "import re\n",
    "result1 = re.findall(r'\\d[a-zA-Z]+12','eee2cdADCd1223mkKSD129s') # 没有分组，返回的是匹配到的对象\n",
    "if result1:\n",
    "    print(result1)"
   ]
  },
  {
   "cell_type": "code",
   "execution_count": 26,
   "metadata": {},
   "outputs": [
    {
     "name": "stdout",
     "output_type": "stream",
     "text": [
      "<callable_iterator object at 0x000002216B4F9C48>\n",
      "<re.Match object; span=(3, 12), match='2cdADCd12'> (3, 12) 2cdADCd12\n",
      "<re.Match object; span=(13, 21), match='3mkKSD12'> (13, 21) 3mkKSD12\n"
     ]
    }
   ],
   "source": [
    "# finditer：查找所有满足正则条件的子串，返回值是迭代器，迭代器中的元素是匹配对象\n",
    "import re\n",
    "result1 = re.finditer(r'\\d[a-zA-Z]+12','eee2cdADCd1223mkKSD129s') \n",
    "if result1:\n",
    "    print(result1)      # result1 是一个迭代器\n",
    "for i in result1:       # i 不是一个迭代器，是迭代器里面的元素，元素为对象\n",
    "    print(i,i.span(),i.group(0))"
   ]
  },
  {
   "cell_type": "code",
   "execution_count": 27,
   "metadata": {},
   "outputs": [
    {
     "name": "stdout",
     "output_type": "stream",
     "text": [
      "['adsd23d2DS', 'DSAD2dsd', 'dsn2', 'dsa2DFaw1']\n"
     ]
    }
   ],
   "source": [
    "# split(正则表达式,字符串) 将字符串按照满足正则表达式条件的子串进行分割\n",
    "str1 = 'adsd23d2DS-DSAD2dsd+dsn2-dsa2DFaw1'\n",
    "result1 = re.split(r'[-+]',str1) # 用+或-来切分，如果直接用字符串的str1.split('+') 则只能用一种形式来切分\n",
    "print(result1) "
   ]
  },
  {
   "cell_type": "code",
   "execution_count": 28,
   "metadata": {},
   "outputs": [
    {
     "name": "stdout",
     "output_type": "stream",
     "text": [
      "hsj*jskfh*ssjj*hshh\n"
     ]
    }
   ],
   "source": [
    "# sub(正则表达式,repl,字符串) --> 将字符串中满足正则表达式条件的子串替换成repl。返回替换后的字符串\n",
    "str1 = 'hsj8jskfh98ssjj8hshh'\n",
    "result = re.sub(r'\\d+','*', str1)\n",
    "print(result)"
   ]
  }
 ],
 "metadata": {
  "kernelspec": {
   "display_name": "Python 3",
   "language": "python",
   "name": "python3"
  },
  "language_info": {
   "codemirror_mode": {
    "name": "ipython",
    "version": 3
   },
   "file_extension": ".py",
   "mimetype": "text/x-python",
   "name": "python",
   "nbconvert_exporter": "python",
   "pygments_lexer": "ipython3",
   "version": "3.7.4"
  },
  "toc": {
   "base_numbering": 1,
   "nav_menu": {},
   "number_sections": false,
   "sideBar": true,
   "skip_h1_title": false,
   "title_cell": "Table of Contents",
   "title_sidebar": "Contents",
   "toc_cell": false,
   "toc_position": {
    "height": "calc(100% - 180px)",
    "left": "10px",
    "top": "150px",
    "width": "277.983px"
   },
   "toc_section_display": true,
   "toc_window_display": true
  }
 },
 "nbformat": 4,
 "nbformat_minor": 4
}
