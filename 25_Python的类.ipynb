{
 "cells": [
  {
   "cell_type": "markdown",
   "metadata": {},
   "source": [
    "# Python的类"
   ]
  },
  {
   "cell_type": "markdown",
   "metadata": {},
   "source": [
    "# 1. 类的构成"
   ]
  },
  {
   "cell_type": "markdown",
   "metadata": {},
   "source": [
    "① 类由三个部分构成：\n",
    "\n",
    "1. 类名称：类型。\n",
    "2. 类属性：对象的属性。\n",
    "3. 类方法：对象的方法。\n",
    "\n",
    "② 类定义形式(代码)，如下所示。"
   ]
  },
  {
   "cell_type": "code",
   "execution_count": null,
   "metadata": {},
   "outputs": [],
   "source": [
    "class 类名：\n",
    "   \n",
    "   属性列表：\n",
    "\n",
    "   方法列表："
   ]
  },
  {
   "cell_type": "markdown",
   "metadata": {},
   "source": [
    "③ 类是对象的类型，具有相同属性和行为事物的统称。类是抽象的，在使用的时候通常会找到这个类的一个具体存在。"
   ]
  },
  {
   "cell_type": "code",
   "execution_count": 5,
   "metadata": {},
   "outputs": [
    {
     "name": "stdout",
     "output_type": "stream",
     "text": [
      "张三正在睡觉，性别为nan\n",
      "21\n"
     ]
    },
    {
     "data": {
      "text/plain": [
       "'\\n不报错\\npeople1.sleep()\\npeople1.bb()\\n'"
      ]
     },
     "execution_count": 5,
     "metadata": {},
     "output_type": "execute_result"
    }
   ],
   "source": [
    "# 定义类\n",
    "class People:\n",
    "    # 类属性 \n",
    "    sex = 'nan' \n",
    "    # 构造函数：魔术方法\n",
    "    def __init__(self,name,age):\n",
    "        # 实例化属性\n",
    "        self.name = name # self代表对象本身\n",
    "        self.age = age\n",
    "        \n",
    "    # 实例化方法\n",
    "    def sleep(self):\n",
    "        self.aa = 1\n",
    "        print('{}正在睡觉，性别为{}'.format(self.name,People.sex))\n",
    "    \n",
    "    def bb(self):\n",
    "        print(self.aa)\n",
    "        \n",
    "# 实例化对象        \n",
    "people1 = People('张三',21) # 属性赋予实例化对象\n",
    "people1.sleep()             # 调用实例化对象方法\n",
    "print(people1.age)          # 可以直接打印实例化对象的属性\n",
    "\n",
    "'''\n",
    "不报错\n",
    "people1.bb()       # 可以不先调用具有实例化属性的实例化对象方法\n",
    "people1.sleep()\n",
    "'''\n",
    "\n",
    "'''\n",
    "不报错\n",
    "people1.sleep()\n",
    "people1.bb()\n",
    "'''"
   ]
  },
  {
   "cell_type": "markdown",
   "metadata": {},
   "source": [
    "# 2. 类的属性"
   ]
  },
  {
   "cell_type": "markdown",
   "metadata": {},
   "source": [
    "① 类变量：类变量在整个实例化的对象中是公用的。\n",
    "\n",
    "② 类变量定义在类中且在函数体之外。\n",
    "\n",
    "③ 类变量通常不作为实例变量使用。如果需要用在类外函数中使用，用 类名.类属性。"
   ]
  },
  {
   "cell_type": "code",
   "execution_count": 6,
   "metadata": {},
   "outputs": [
    {
     "name": "stdout",
     "output_type": "stream",
     "text": [
      "woman\n"
     ]
    }
   ],
   "source": [
    "# coding=utf-8\n",
    "class PeopleMan:\n",
    "    # 定义基本类属性\n",
    "    name = ''\n",
    "    age = 0\n",
    "    sex = 'woman'\n",
    "    __weight = 0\n",
    "    def __init__(self,n,a,w):\n",
    "        # 定义实例属性\n",
    "        self.name = n\n",
    "        self.age = a\n",
    "        self.__weight = w\n",
    "    def speak(self):\n",
    "        print(\"%s 说：我 %d 岁。\" %(self.name,self.age))\n",
    "\n",
    "\n",
    "p = PeopleMan('runoob',10,30) # 实例化类\n",
    "print(PeopleMan.sex) # 类名.类变量   调用类变量"
   ]
  },
  {
   "cell_type": "markdown",
   "metadata": {},
   "source": [
    "④ 实例属性：定义在方法中的变量，只作用于当前实例的类。\n",
    "\n",
    "⑤ \\__变量名 为私有属性，对象名.\\__类名__私有属性 这样才能调用，否则不能调用。"
   ]
  },
  {
   "cell_type": "code",
   "execution_count": 7,
   "metadata": {},
   "outputs": [
    {
     "name": "stdout",
     "output_type": "stream",
     "text": [
      "30\n",
      "runoob 说：我 10 岁。\n"
     ]
    }
   ],
   "source": [
    "# coding=utf-8\n",
    "class PeopleMan:\n",
    "    # 定义基本类属性\n",
    "    name = ''\n",
    "    age = 0\n",
    "    sex = 'woman'\n",
    "    # 定义私有属性，私有属性在类外部无法直接进行访问\n",
    "    __weight = 0\n",
    "    def __init__(self,n,a,w):\n",
    "        # 定义实例属性\n",
    "        self.name = n\n",
    "        self.age = a\n",
    "        self.__weight = w\n",
    "    def speak(self):\n",
    "        print(\"%s 说：我 %d 岁。\" %(self.name,self.age))\n",
    "\n",
    "# 实例化类\n",
    "p = PeopleMan('runoob',10,30)\n",
    "print(p._PeopleMan__weight) # 对象名._类名__私有属性 这样才能调用p.__weight，否则不能调用\n",
    "# print(p.__weight)         # 不能这样访问\n",
    "p.speak()"
   ]
  },
  {
   "cell_type": "markdown",
   "metadata": {},
   "source": [
    "⑥ 可以使用实例化对象名+.来访问对象的属性，也可以使用以下函数的方式来访问属性(反射)。\n",
    "\n",
    "1. getattr(obj,name[,default])：访问对象的属性。\n",
    "2. hasattr(obj,name)：检查是否存在一个属性。\n",
    "3. setattr(obj,name,value)：设置一个属性。如果属性不存在，会创建一个新属性。\n",
    "4. delattr(obj,name)：删除属性值，没有删除属性。\n",
    "5. name 需要加单引号，obj为实例化对象名称。"
   ]
  },
  {
   "cell_type": "code",
   "execution_count": 9,
   "metadata": {},
   "outputs": [
    {
     "data": {
      "text/plain": [
       "'woman'"
      ]
     },
     "execution_count": 9,
     "metadata": {},
     "output_type": "execute_result"
    }
   ],
   "source": [
    "# coding=utf-8\n",
    "class PeopleMan:\n",
    "    # 定义基本类属性\n",
    "    name = ''\n",
    "    age = 0\n",
    "    sex = 'woman'\n",
    "    # 定义私有属性，私有属性在类外部无法直接进行访问\n",
    "    __weight = 0\n",
    "    def __init__(self,n,a,w):\n",
    "        # 定义实例属性\n",
    "        self.name = n\n",
    "        self.age = a\n",
    "        self.__weight = w\n",
    "    def speak(self):\n",
    "        print(\"%s 说：我 %d 岁。\" %(self.name,self.age))\n",
    "\n",
    "# 实例化类\n",
    "p = PeopleMan('runoob',10,30)  # p为实例化对象。\n",
    "getattr(p,'sex')               # 访问对象的属性。"
   ]
  },
  {
   "cell_type": "markdown",
   "metadata": {},
   "source": [
    "⑦ \\_\\_dict__：类的属性(包括一个字典，由类的属性名:值组成) 实现方式：实例化类名.\\_\\_dict\\_\\_\n",
    "\n",
    "⑧ \\_\\_doc__：类的文档中的字符串 实现方式：(类名.)实例化类名.\\_\\_doc\\_\\_\n",
    "\n",
    "⑨ \\_\\_name\\_\\_：类名 实现方式：类名.\\_\\_name\\_\\_\n",
    "\n",
    "⑩ \\_\\_bases\\_\\_：类的所有父类构成元素(包含了一个由所有父类组成的元组)"
   ]
  },
  {
   "cell_type": "code",
   "execution_count": 10,
   "metadata": {},
   "outputs": [
    {
     "name": "stdout",
     "output_type": "stream",
     "text": [
      "{'name': 'runoob', 'age': 10, '_PeopleMan__weight': 30}\n",
      "{'__module__': '__main__', '__doc__': '定义人类，其中有3个属性，两个方法', 'name': '', 'age': 0, 'sex': 'woman', '_PeopleMan__weight': 0, '__init__': <function PeopleMan.__init__ at 0x00000267B02C9558>, 'speak': <function PeopleMan.speak at 0x00000267B02C95E8>, '__dict__': <attribute '__dict__' of 'PeopleMan' objects>, '__weakref__': <attribute '__weakref__' of 'PeopleMan' objects>}\n",
      "定义人类，其中有3个属性，两个方法\n",
      "定义人类，其中有3个属性，两个方法\n",
      "PeopleMan\n"
     ]
    }
   ],
   "source": [
    "# coding=utf-8\n",
    "class PeopleMan:\n",
    "    '''定义人类，其中有3个属性，两个方法'''\n",
    "    # 定义基本类属性\n",
    "    name = ''\n",
    "    age = 0\n",
    "    sex = 'woman'\n",
    "    # 定义私有属性，私有属性在类外部无法直接进行访问\n",
    "    __weight = 0\n",
    "    def __init__(self,n,a,w):\n",
    "        # 定义实例属性\n",
    "        self.name = n\n",
    "        self.age = a\n",
    "        self.__weight = w\n",
    "    def speak(self):\n",
    "        print(\"%s 说：我 %d 岁。\" %(self.name,self.age))\n",
    "\n",
    "# 实例化类\n",
    "p = PeopleMan('runoob',10,30)  # p为实例化对象。\n",
    "getattr(p,'sex') # 访问对象的属性。\n",
    "\n",
    "print(p.__dict__)\n",
    "print(PeopleMan.__dict__)\n",
    "print(p.__doc__)          # 类文档中的字符串\n",
    "print(PeopleMan.__doc__)  # 类文档中的字符串\n",
    "print(PeopleMan.__name__)"
   ]
  },
  {
   "cell_type": "markdown",
   "metadata": {},
   "source": [
    "11. 尽量把需要用户传入的属性作为实例属性，而把同类都一样的属性作为类属性。\n",
    "\n",
    "12. 实例属性在每实例化一个类是都会初始化一遍。\n",
    "\n",
    "13. 不同的实例的实例属性可能不同，不同实例的类属性都相同。\n",
    "\n",
    "14. 实例属性\n",
    "\n",
    "   1. 在\\_\\_init\\_\\_(self,...)中初始化。\n",
    "       \n",
    "   2. 内部调用时都需要加上self。\n",
    "       \n",
    "   3. 外部调用时用\"对象名.属性名\"调用。\n",
    "\n",
    "15. 类属性\n",
    "\n",
    "   1. 类属性可以在\\_\\_init\\_\\_中修改。\n",
    "   2. 在内部用类名.类属性名调用。\n",
    "   3. 外部既可以用类名.类属性名又可以用instancename.类属性名调用。\n",
    "16. 私有属性\n",
    "\n",
    "   1. 双下划线开头：外部不可通过 \"对象名.属性名\" 来访问或者更改，可以通过 \"对象.\\__类名__属性名\" 访问和更改。"
   ]
  },
  {
   "cell_type": "code",
   "execution_count": 11,
   "metadata": {},
   "outputs": [
    {
     "name": "stdout",
     "output_type": "stream",
     "text": [
      "50\n"
     ]
    }
   ],
   "source": [
    "# coding=utf-8\n",
    "class PeopleMan:\n",
    "    # 定义基本类属性\n",
    "    name = ''\n",
    "    age = 0\n",
    "    sex = 'woman'\n",
    "    # 定义私有属性，私有属性在类外部无法直接进行访问\n",
    "    __weight = 0\n",
    "    def __init__(self,n,a,w):\n",
    "        # 定义实例属性\n",
    "        self.name = n\n",
    "        self.age = a\n",
    "        self.__weight = w\n",
    "    def speak(self):\n",
    "        print(\"%s 说：我 %d 岁。\" %(self.name,self.age))\n",
    "\n",
    "# 实例化类\n",
    "p = PeopleMan('runoob',10,30)\n",
    "p._PeopleMan__weight = 50\n",
    "print(p._PeopleMan__weight)"
   ]
  },
  {
   "cell_type": "markdown",
   "metadata": {},
   "source": [
    "# 3. \\_\\_init\\_\\_()方法和self"
   ]
  },
  {
   "cell_type": "markdown",
   "metadata": {},
   "source": [
    "① \\_\\_init\\_\\_()是一个特殊的方法属于类的专有方法，被称为类的构造函数或初始化方法，方法的前面和后面都有两个下划线，这是为了避免Python默认方法和普通方法发生名称的冲突。\n",
    "\n",
    "② 每当创建类的实例化对象的时候，\\_\\_init()\\_\\_方法都会默认被运行，作用就是初始化已实例化的对象。\n",
    "\n",
    "③ 在方法定义中，第一个参数self是必不可少的。类的方法和普通的函数区别就是self，self并不是Python的关键字，完全可以用其他单词取代他，只是按照惯例和标准的规定，推荐使用self。"
   ]
  },
  {
   "cell_type": "code",
   "execution_count": 12,
   "metadata": {},
   "outputs": [
    {
     "data": {
      "text/plain": [
       "'woman'"
      ]
     },
     "execution_count": 12,
     "metadata": {},
     "output_type": "execute_result"
    }
   ],
   "source": [
    "# coding=utf-8\n",
    "class PeopleMan:\n",
    "    # 定义基本类属性\n",
    "    name = ''\n",
    "    age = 0\n",
    "    sex = 'woman'\n",
    "    # 定义私有属性，私有属性在类外部无法直接进行访问\n",
    "    __weight = 0\n",
    "    def __init__(r,n,a,w):  # self换成r了\n",
    "        # 定义实例属性\n",
    "        r.name = n\n",
    "        r.age = a\n",
    "        r.__weight = w\n",
    "    def speak(self):        # 这个self没有换，它和上面的r一样，都是实例化对象p，该方法里的所有self也可以设置为r\n",
    "        print(\"%s 说：我 %d 岁。\" %(self.name,self.age))\n",
    "\n",
    "# 实例化类\n",
    "p = PeopleMan('runoob',10,30) # 创建实例化对象，p是实例化对象，默认运行__init__()\n",
    "getattr(p,'sex')              # 访问对象的属性。"
   ]
  },
  {
   "cell_type": "markdown",
   "metadata": {},
   "source": [
    "④ 在类中方法里面，不写\\_\\_init\\_\\_()构造方法，直接写实例化方法，或者实例化方法里面初始化实例化的方法的属性，当类比较小的时候，直接构造一个类，然后实例化方法通过实例化对象的参数传进去好像比较简单、快，并且不会报错，但是如果类里面的10个方法都需要10个相同参数，那要传10次。\n",
    "\n",
    "⑤ 如果是通过构造方法，就第一次实例化对象的时候传入，实例化方法可以直接调用实例化对象中的self.属性，不需要在调用实例化方法的时候传入属性，工程庞大的话，用\\_\\_init\\_\\_()方法然后self调用更方便些，也规范些。"
   ]
  },
  {
   "cell_type": "markdown",
   "metadata": {},
   "source": [
    "# 4. 类的三大特性"
   ]
  },
  {
   "cell_type": "markdown",
   "metadata": {},
   "source": [
    "## 4.1 继承"
   ]
  },
  {
   "cell_type": "markdown",
   "metadata": {},
   "source": [
    "① 现实生活中，继承一般指子女继承父辈的财产。程序中，继承描述的是事物之间的所属关系，例如猫和狗都属于动物，程序中可以描述为猫和狗都继承自动物。同理，波斯猫和家猫都继承猫。而斑点狗，泰迪都继承狗。\n",
    "\n",
    "② 程序中我们定义一个class的时候，可以从某个现有的class继承，新的class称之为子类(Subclass)，而被继承的class称之为基类、父类或超类。\n",
    "\n",
    "③ 子类继承其父类的所有属性和方法，同时还可以定义自己的属性和方法。\n",
    "\n",
    "④ 可以多重继承，但是最好只写一个基类，需要注意圆括号基类的顺序，若是基类中有相同的方法名，而在子类使用时未指定，python从左至右搜索，即方法在子类中未找到时，从左到右查找基类中是否包含方法。"
   ]
  },
  {
   "cell_type": "code",
   "execution_count": null,
   "metadata": {},
   "outputs": [],
   "source": [
    "# 继承的形式\n",
    "'''\n",
    "class DerivedClassName(BaseClassName1,BaseClassName2,BaseClassName3):\n",
    "    <statement-1>\n",
    "    .......\n",
    "    <statement-N>\n",
    "'''"
   ]
  },
  {
   "cell_type": "markdown",
   "metadata": {},
   "source": [
    "⑤ 继承会继承父类的所有属性，如果不想子类继承，就把属性设置为私有属性，父类的私有属性子类无法继承，但是可以访问。通常父类的基本属性对子类继承是没有影响的，通过实例化属性都是放在方法中的，子类可以通过方法重写来实现对继承的属性修改。"
   ]
  },
  {
   "cell_type": "code",
   "execution_count": 13,
   "metadata": {},
   "outputs": [
    {
     "name": "stdout",
     "output_type": "stream",
     "text": [
      "ken 说：我 10 岁。\n"
     ]
    }
   ],
   "source": [
    "# coding=utf-8\n",
    "class PeopleMan:\n",
    "    # 定义基本类属性\n",
    "    name = ''\n",
    "    age = 0\n",
    "    sex = 'woman'\n",
    "    # 定义私有属性，私有属性在类外部无法直接进行访问\n",
    "    __weight = 0\n",
    "    def __init__(self,n,a,w): \n",
    "        # 定义实例属性\n",
    "        self.name = n\n",
    "        self.age = a\n",
    "        self.__weight = w\n",
    "    def speak(self):\n",
    "        print(\"%s 说：我 %d 岁。\" %(self.name,self.age))\n",
    "\n",
    "class speaker:\n",
    "    topic = ''\n",
    "    name = ''\n",
    "    def __init__(self,n,t):\n",
    "        self.name = n\n",
    "        self.topic = t\n",
    "    def speak(self):\n",
    "        print(\"我叫 %s：我是一个演说家，我演讲的主题是 %s\"&(self.name,self.topic))\n",
    "\n",
    "class student(PeopleMan,speaker):  #student类拥有基类的属性和方法\n",
    "    grade = ''\n",
    "    def __init__(self,n,a,w,g,t):\n",
    "        # 调用父类的构造函数\n",
    "        PeopleMan.__init__(self,n,a,w)  # 调用父类构造方法，或者super(student,self).__init__(n,a,w)  要先传入第一个基类的参数\n",
    "        speaker.__init__(self,n,t)      # 和父类实例化属性保持一致  或者super(student,self).__init__(n,t)\n",
    "        self.grade = g\n",
    "    \n",
    "    '''\n",
    "    # 如果没有进行方法重写，先调用基类方法\n",
    "    def speak(self):  # 重写父类的方法，相当于对父类的方法重写定义了\n",
    "        print(\"%s 说：我 %d 岁了，我在读 %d年级\"%(self.name,self.age,self.grade)) # 子类可以用父类的属性\n",
    "    \n",
    "    '''\n",
    "\n",
    "s = student('ken',10,60,3,\"Python\")\n",
    "s.speak() # 先找子类，子类没有则从左往右基类中找方法运行结果："
   ]
  },
  {
   "cell_type": "markdown",
   "metadata": {},
   "source": [
    "## 4.2 多态"
   ]
  },
  {
   "cell_type": "markdown",
   "metadata": {},
   "source": [
    "① 它是指对不同类型的变量进行相同的操作，它会根据对象(或类)类型的不同而表现出不同的行为。\n",
    "\n",
    "② 多态是指一类事物有多种形态，比如动物类，可以有猫，狗，猪等等。(一个抽象类有多个子类，因而多态的概念依赖于继承)。"
   ]
  },
  {
   "cell_type": "code",
   "execution_count": 14,
   "metadata": {},
   "outputs": [],
   "source": [
    "# 多态\n",
    "import abc\n",
    "class Animal(metaclass=abc.ABCMeta): #同一类事物:动物\n",
    "    @abc.abstractmethod\n",
    "    def talk(self):\n",
    "        pass\n",
    " \n",
    "class Cat(Animal): #动物的形态之一:猫\n",
    "    def talk(self):\n",
    "        print('say miaomiao')\n",
    " \n",
    "class Dog(Animal): #动物的形态之二:狗\n",
    "    def talk(self):\n",
    "        print('say wangwang')\n",
    " \n",
    "class Pig(Animal): #动物的形态之三:猪\n",
    "    def talk(self):\n",
    "        print('say aoao')"
   ]
  },
  {
   "cell_type": "markdown",
   "metadata": {},
   "source": [
    "③ 多态与多态性是两种概念，多态性是指具有不同功能的函数可以使用相同的函数名，这样就可以用一个函数名调用不同内容的函数。在面向对象方法中一般是这样表述多态性：向不同的对象发送同一条消息，不同的对象在接收时会产生不同的行为(即方法)。也就是说，每个对象可以用自己的方式去响应共同的消息。所谓消息，就是调用函数，不同的行为就是指不同的实现，即执行不同的函数。\n",
    "\n",
    "④ 综合可以说，多态性是 : 一个接口，多种实现。"
   ]
  },
  {
   "cell_type": "code",
   "execution_count": 15,
   "metadata": {},
   "outputs": [
    {
     "name": "stdout",
     "output_type": "stream",
     "text": [
      "say miaomiao\n",
      "say wangwang\n",
      "say aoao\n"
     ]
    }
   ],
   "source": [
    "# 多态性\n",
    "import abc\n",
    "class Animal(metaclass=abc.ABCMeta): #同一类事物:动物\n",
    "    @abc.abstractmethod\n",
    "    def talk(self):\n",
    "        pass\n",
    " \n",
    "class Cat(Animal): \n",
    "    def talk(self):\n",
    "        print('say miaomiao')     # 多态性\n",
    " \n",
    "class Dog(Animal): \n",
    "    def talk(self):\n",
    "        print('say wangwang')     # 多态性\n",
    " \n",
    "class Pig(Animal): \n",
    "    def talk(self):\n",
    "        print('say aoao')         # 多态性\n",
    " \n",
    "c = Cat()\n",
    "d = Dog()\n",
    "p = Pig()\n",
    " \n",
    "def func(obj):\n",
    "    obj.talk()\n",
    " \n",
    "func(c)    # 一个接口，多种实现\n",
    "func(d)    # 一个接口，多种实现\n",
    "func(p)    # 一个接口，多种实现"
   ]
  },
  {
   "cell_type": "markdown",
   "metadata": {},
   "source": [
    "## 4.3 封装性"
   ]
  },
  {
   "cell_type": "markdown",
   "metadata": {},
   "source": [
    "① \"封装\"就是将抽象得到的数据和行为(或功能)相结合，形成一个有机的整体(即类)；封装的目的是增强安全性和简化编程，使用者不必了解具体的实现细节，而只是要通过外部接口，一特定的访问权限来使用类的成员。"
   ]
  },
  {
   "cell_type": "markdown",
   "metadata": {},
   "source": [
    "# 5. 类中的方法"
   ]
  },
  {
   "cell_type": "markdown",
   "metadata": {},
   "source": [
    "## 5.1 实例化方法"
   ]
  },
  {
   "cell_type": "markdown",
   "metadata": {},
   "source": [
    "① 外部通过实例化对象调用。"
   ]
  },
  {
   "cell_type": "code",
   "execution_count": 16,
   "metadata": {},
   "outputs": [
    {
     "name": "stdout",
     "output_type": "stream",
     "text": [
      "executing foo(a,b)\n",
      "self: a\n",
      "executing foo(<__main__.A object at 0x00000267B02BBB48>,a)\n",
      "self: <__main__.A object at 0x00000267B02BBB48>\n"
     ]
    }
   ],
   "source": [
    "class A:\n",
    "    # 基本类属性\n",
    "    d = 0\n",
    "    \n",
    "    # 实例化方法\n",
    "    def foo(self,x):\n",
    "        print(\"executing foo(%s,%s)\"%(self,x))  # 打印self、x分别为什么\n",
    "        print(\"self:\",self)  # 打印self是什么\n",
    "        \n",
    "# 方法一：直接调用类的实例化方法\n",
    "a = A.foo('a','b')   # self被作为一个参数传入了，self就是一个参数而已，并不是一个对象，因此不能打印self.x\n",
    "\n",
    "# 方法二：实例化方法：\n",
    "b = A() # 需要用实例化对象来调用它\n",
    "b.foo('a')  # 打印出来的self为实例化对象的地址"
   ]
  },
  {
   "cell_type": "markdown",
   "metadata": {},
   "source": [
    "## 5.2 静态方法"
   ]
  },
  {
   "cell_type": "markdown",
   "metadata": {},
   "source": [
    "① 通过装饰器 @staticmethod 装饰\n",
    "\n",
    "② 不能访问实例属性\n",
    "\n",
    "③ 参数不能传入self\n",
    "\n",
    "④ 与类相关但是不依赖类与实例的方法\n",
    "\n",
    "⑤ 静态方法不需要接受参数，使用类名.类属性。"
   ]
  },
  {
   "cell_type": "code",
   "execution_count": 17,
   "metadata": {},
   "outputs": [
    {
     "name": "stdout",
     "output_type": "stream",
     "text": [
      "executing static_foo(a)\n",
      "0\n"
     ]
    }
   ],
   "source": [
    "class A:\n",
    "    # 基本类属性\n",
    "    d = 0\n",
    "        \n",
    "    # 静态方法\n",
    "    @staticmethod\n",
    "    def static_foo(x):\n",
    "        print(\"executing static_foo(%s)\"%x)\n",
    "        print(A.d)  # 访问类属性，不能访问实例属性\n",
    "        \n",
    "# 静态方法：\n",
    "# 静态方法不需要接受参数，使用类名.类属性\n",
    "A.static_foo('a')"
   ]
  },
  {
   "cell_type": "markdown",
   "metadata": {},
   "source": [
    "## 5.3 类方法"
   ]
  },
  {
   "cell_type": "markdown",
   "metadata": {},
   "source": [
    "① @classmethod\n",
    "\n",
    "② 不能访问实例属性\n",
    "\n",
    "③ 参数必须传入cls(即代表了类对象--区别---self代表实例对象)，并且用此来调用类属性：cls.类属性名\n",
    "\n",
    "④ 静态方法和类方法都可以用类或者实例来调用，其两个的特点都是不能够调用实例属性。"
   ]
  },
  {
   "cell_type": "code",
   "execution_count": 18,
   "metadata": {},
   "outputs": [
    {
     "name": "stdout",
     "output_type": "stream",
     "text": [
      "executing class_foo(<class '__main__.A'>,a)\n",
      "cls： <class '__main__.A'>\n",
      "0\n",
      "executing class_foo(<class '__main__.A'>,a)\n",
      "cls： <class '__main__.A'>\n",
      "0\n"
     ]
    }
   ],
   "source": [
    "class A:\n",
    "    # 基本类属性\n",
    "    d = 0\n",
    "    \n",
    "    # 类方法\n",
    "    @classmethod\n",
    "    def class_foo(cls,x):\n",
    "        print(\"executing class_foo(%s,%s)\"%(cls,x))\n",
    "        print('cls：',cls) # 打印cls是什么\n",
    "        print(cls.d) # cls为类，cls.d为类属性\n",
    "     #  print(cls.n) 报错，因为n是实例的属性，不是类的属性\n",
    "    \n",
    "# 方法一：通过类来调用\n",
    "A.class_foo('a')  # cls是一个类，类方法可以只传入一个参数x来调用\n",
    "\n",
    "# 方法二：通过实例化对象来调用\n",
    "b = A() \n",
    "b.class_foo(\"a\")"
   ]
  },
  {
   "cell_type": "code",
   "execution_count": 19,
   "metadata": {},
   "outputs": [
    {
     "name": "stdout",
     "output_type": "stream",
     "text": [
      "executing class_foo(<__main__.A object at 0x00000267B02DB088>,a)\n",
      "cls： <__main__.A object at 0x00000267B02DB088>\n",
      "0\n"
     ]
    }
   ],
   "source": [
    "# 当把装饰器cls注释掉后，cls不是类，是实例化对象，相当于self\n",
    "\n",
    "class A:\n",
    "    # 基本类属性\n",
    "    d = 0\n",
    "    \n",
    "    # 实例化方法\n",
    "    def foo(self,x):\n",
    "        print(\"executing foo(%s,%s)\"%(self,x))\n",
    "        print(\"self:\",self)  # 打印self是什么\n",
    "    \n",
    "    # 类方法\n",
    "#    @classmethod\n",
    "    def class_foo(cls,x):  # cls相当于self\n",
    "        print(\"executing class_foo(%s,%s)\"%(cls,x))\n",
    "        print('cls：',cls) \n",
    "        print(cls.d) # d是类变量，类变量通常不作为实例变量使用。如果需要用在函数中使用 类名.类属性，这里用self. d可以运行，但是不规范\n",
    "        \n",
    "    # 静态方法\n",
    "    @staticmethod\n",
    "    def static_foo(x):\n",
    "        print(\"executing static_foo(%s)\"%x)\n",
    "        \n",
    "b = A()   \n",
    "b.class_foo(\"a\")"
   ]
  },
  {
   "cell_type": "code",
   "execution_count": 20,
   "metadata": {},
   "outputs": [
    {
     "name": "stdout",
     "output_type": "stream",
     "text": [
      "executing foo(<__main__.A object at 0x00000267B02E9B48>,a)\n",
      "self: <__main__.A object at 0x00000267B02E9B48>\n",
      "executing class_foo(<class '__main__.A'>,10)\n",
      "cls： <class '__main__.A'>\n",
      "0\n",
      "None\n",
      "executing class_foo(<class '__main__.A'>,y)\n",
      "cls： <class '__main__.A'>\n",
      "0\n",
      "None\n",
      "a\n"
     ]
    }
   ],
   "source": [
    "class A:\n",
    "    # 基本类属性\n",
    "    d = 0\n",
    "    \n",
    "    def __init__(self,m,n):\n",
    "        self.m = m\n",
    "        self.n = n\n",
    "        \n",
    "    # 实例化方法\n",
    "    def foo(self,x,y):\n",
    "        # 实例属性，不是只有写在init里面的是实例属性\n",
    "        self.y = y\n",
    "        print(\"executing foo(%s,%s)\"%(self,x))  # self为实例化对象，x为传入参数的值\n",
    "        print(\"self:\",self)  # 打印self是什么\n",
    "        \n",
    "        # 实例化方法里面可以调用类方法\n",
    "        print(self.class_foo(self.m)) # 实例化对象b就相当于self，只不过self在里面访问，b在外面访问\n",
    "        print(self.class_foo(self.y)) # 会运行self.class_foo(self.y)函数，相当于b.class_foo(self.y)，b.class_foo(self.y)的返回值为None，所以打印None\n",
    "        \n",
    "        print(x)\n",
    "   #     print(self.class_foo(self.x)) # 如果前面不加 self.x = x 那么x就仅仅只是一个入口参数，不是实例化属性\n",
    "    \n",
    "    def cal(self):\n",
    "        print(self.y) # 不报错，可以用上面一个实例方法里使用的self.y\n",
    "        \n",
    "    # 类方法\n",
    "    @classmethod\n",
    "    def class_foo(cls,x):\n",
    "        print(\"executing class_foo(%s,%s)\"%(cls,x))\n",
    "        print('cls：',cls) # 打印cls是什么\n",
    "        print(cls.d) # cls为类，cls.d为类属性\n",
    "     #  print(cls.n) 报错，因为n是实例的属性，不是类的属性\n",
    "        \n",
    "    # 静态方法\n",
    "    @staticmethod\n",
    "    def static_foo(x):\n",
    "        print(\"executing static_foo(%s)\"%x)\n",
    "\n",
    "b = A(10,2)    # __init__初始化需要传入两个参数\n",
    "b.foo(\"a\",\"y\") # 实例化对象foo方法需要传入两个参数"
   ]
  },
  {
   "cell_type": "markdown",
   "metadata": {},
   "source": [
    "# 6. 方法重写"
   ]
  },
  {
   "cell_type": "markdown",
   "metadata": {},
   "source": [
    "① 避免用下划线作为变量名的开始，因为下划线对解释器有特殊的意义。\n",
    "\n",
    "② 双下划线 变量名 双下划线：定义的是特殊方法，类似\\_\\_init\\_\\_()之类的。\n",
    "\n",
    "③ 单下划线 变量名：\"单下划线\" 开始的成员变量叫做保护变量，意思是只有类对象和子类对象自己能访问到这些变量。以单下划线开头的代表不能直接访问的类属性，需通过类提供的接口进行访问，不能用“from xxx import *”而导入。\n",
    "\n",
    "④ 双下划线 变量名：\"双下划线\" 开始的是私有成员，意思是只有类对象自己能访问，连子类对象也不能访问到这个数据。"
   ]
  },
  {
   "cell_type": "code",
   "execution_count": 21,
   "metadata": {},
   "outputs": [
    {
     "name": "stdout",
     "output_type": "stream",
     "text": [
      "调用子类方法\n",
      "调用父类方法\n"
     ]
    }
   ],
   "source": [
    "class Parent:  # 定义父类\n",
    "    def myMethod(self):\n",
    "        print('调用父类方法')\n",
    "        \n",
    "class Child(Parent):  # 定义子类\n",
    "    def myMethod(self):\n",
    "        print('调用子类方法')\n",
    "        \n",
    "c = Child()  # 子类实例\n",
    "c.myMethod()  # 子类调用重写方法\n",
    "super(Child,c).myMethod() # 用子类对象调用父类已被覆盖的方法"
   ]
  },
  {
   "cell_type": "markdown",
   "metadata": {},
   "source": [
    "# 7. 相关定义"
   ]
  },
  {
   "cell_type": "markdown",
   "metadata": {},
   "source": [
    "① 类(Class):用来描述具有相同的属性和方法的对象的集合。它定义了该集合中每个对象所共有的属性和方法。对象是类的实例，类是对象的类型。类是抽象的概念，而对象是一个你能够摸得着，看得到的实体。两者相辅相成，谁也离不开谁。\n",
    "\n",
    "② 类变量：类变量在整个实例化的对象中是公用的。类变量定义在类中且在函数体之外。类变量通常不作为实例变量使用。\n",
    "\n",
    "③ 数据成员：类变量或者实例变量，用于处理类及其实例对象的相关的数据。\n",
    "\n",
    "④ 方法重写：如果从父类继承的方法不能满足子类的需求，可以对其进行改写，这个过程叫覆盖(override)，也称为方法的重写。\n",
    "\n",
    "⑤ 局部变量：定义在方法中的变量，只作用于当前实例的类。\n",
    "\n",
    "⑥ 实例变量：在类的声明中，属性是用变量来表示的。这种变量就称为实例变量，是在类声明的内部但是在类的其他成员方法之外声明的。\n",
    "\n",
    "⑦ 继承：即一个派生类(derived class)继承基类(base class)的字段和方法。继承也允许把一个派生类的对象作为一个基类对象对待。例如，有这样一个设计：一个Dog类型的对象派生自Animal类，这是模拟\"是一个(is-a)\"关系(例图，Dog是一个Animal)\n",
    "\n",
    "⑧ 实例化：创建一个类的实例，类的具体对象。\n",
    "\n",
    "⑨ 方法：类中定义的函数。\n",
    "\n",
    "⑩ 对象：通过类定义的数据结构实例。对象包括两个数据成员(类变量和实例变量)和方法。"
   ]
  }
 ],
 "metadata": {
  "kernelspec": {
   "display_name": "Python 3",
   "language": "python",
   "name": "python3"
  },
  "language_info": {
   "codemirror_mode": {
    "name": "ipython",
    "version": 3
   },
   "file_extension": ".py",
   "mimetype": "text/x-python",
   "name": "python",
   "nbconvert_exporter": "python",
   "pygments_lexer": "ipython3",
   "version": "3.7.4"
  },
  "toc": {
   "base_numbering": 1,
   "nav_menu": {},
   "number_sections": false,
   "sideBar": true,
   "skip_h1_title": false,
   "title_cell": "Table of Contents",
   "title_sidebar": "Contents",
   "toc_cell": false,
   "toc_position": {
    "height": "calc(100% - 180px)",
    "left": "10px",
    "top": "150px",
    "width": "277.983px"
   },
   "toc_section_display": true,
   "toc_window_display": true
  }
 },
 "nbformat": 4,
 "nbformat_minor": 4
}
