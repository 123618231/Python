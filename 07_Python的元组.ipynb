{
 "cells": [
  {
   "cell_type": "markdown",
   "metadata": {},
   "source": [
    "# Python的元组"
   ]
  },
  {
   "cell_type": "markdown",
   "metadata": {},
   "source": [
    "# 1. Python的元组"
   ]
  },
  {
   "cell_type": "markdown",
   "metadata": {},
   "source": [
    "① 元组是静态的：长度大小固定，无法增加删减或改变。列表示动态的：长度大小不固定，可以增加删减或改变。\n",
    "\n",
    "② tuple1=(1) 为一个整数；tuple1=(1,)表示一维元组。"
   ]
  },
  {
   "cell_type": "code",
   "execution_count": 19,
   "metadata": {},
   "outputs": [
    {
     "name": "stdout",
     "output_type": "stream",
     "text": [
      "1\n",
      "<class 'int'>\n",
      "(1,)\n",
      "<class 'tuple'>\n"
     ]
    }
   ],
   "source": [
    "tuple1=(1) \n",
    "print(tuple1)\n",
    "print(type(tuple1))\n",
    "\n",
    "tuple2=(1,)\n",
    "print(tuple2)\n",
    "print(type(tuple2))"
   ]
  },
  {
   "cell_type": "markdown",
   "metadata": {},
   "source": [
    "③ 列表、元组这些容器赋予变量后的内存地址，涉及数据结构，要看python底层是用数组还是链表开发的列表。如果是数组就是连续元素就是连续的内存地址，如果是链表就是非连续的地址。\n",
    "\n",
    "④ 存储同样的元素，元组要比列表更加轻量级，占的内存要小些；查询时，元组的查询速度要比列表的查询速度要快些。\n",
    "\n",
    "⑤ tuple(list)把列表转换成元组。\n",
    "\n",
    "⑥ 元组相对列表有一个优点，无法改变里面的数据。当不允许数据进行改变时，用元组而不用列表，这样可以避免一些语句误操作导致数据增删。"
   ]
  }
 ],
 "metadata": {
  "kernelspec": {
   "display_name": "Python 3",
   "language": "python",
   "name": "python3"
  },
  "language_info": {
   "codemirror_mode": {
    "name": "ipython",
    "version": 3
   },
   "file_extension": ".py",
   "mimetype": "text/x-python",
   "name": "python",
   "nbconvert_exporter": "python",
   "pygments_lexer": "ipython3",
   "version": "3.7.4"
  },
  "toc": {
   "base_numbering": 1,
   "nav_menu": {},
   "number_sections": false,
   "sideBar": true,
   "skip_h1_title": false,
   "title_cell": "Table of Contents",
   "title_sidebar": "Contents",
   "toc_cell": false,
   "toc_position": {
    "height": "calc(100% - 180px)",
    "left": "10px",
    "top": "150px",
    "width": "277.983px"
   },
   "toc_section_display": true,
   "toc_window_display": true
  }
 },
 "nbformat": 4,
 "nbformat_minor": 4
}
