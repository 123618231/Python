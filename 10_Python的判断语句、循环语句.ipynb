{
 "cells": [
  {
   "cell_type": "markdown",
   "metadata": {},
   "source": [
    "# Python的判断语句、循环语句"
   ]
  },
  {
   "cell_type": "markdown",
   "metadata": {},
   "source": [
    "# 1. 判断语句"
   ]
  },
  {
   "cell_type": "markdown",
   "metadata": {},
   "source": [
    "## 1.1 if 语句"
   ]
  },
  {
   "cell_type": "markdown",
   "metadata": {},
   "source": [
    "① 在 Python 中没有 switch – case 语句。\n",
    "\n",
    "② if 条件冒号后的语句，表示满足条件后要执行的语句块。\n",
    "\n",
    "③ if 条件冒号后的语句，相同缩进数的语句处于同一层次。\n",
    "\n",
    "④ if 后为条件，条件在冒号(:)前面，条件有两种形式，Ture 或 False，条件为 True 表示满足条件，将执行 if 条件 冒号 后的语句块，变量为 False 表示不满足条件，将不执行冒号后的语句块。\n",
    "\n",
    "⑤ 当if 后为条件为变量时，变量为非 0 的数值时表示 True，为 0 的数值时表示 False。"
   ]
  },
  {
   "cell_type": "code",
   "execution_count": 27,
   "metadata": {},
   "outputs": [
    {
     "name": "stdout",
     "output_type": "stream",
     "text": [
      "1 - if 表达式条件为 true\n",
      "100\n"
     ]
    }
   ],
   "source": [
    "var1 = 100\n",
    "if var1:  # 变量 var1 值为非0，相当于 true，所以执行代码块中语句\n",
    "    print (\"1 - if 表达式条件为 true\")\n",
    "    print (var1)"
   ]
  },
  {
   "cell_type": "code",
   "execution_count": 28,
   "metadata": {},
   "outputs": [
    {
     "name": "stdout",
     "output_type": "stream",
     "text": [
      "Good bye!\n"
     ]
    }
   ],
   "source": [
    "var2 = 0\n",
    "if var2:    # 变量 var2 值为0，相当于 false，所以不执行代码块中语句\n",
    "    print (\"2 - if 表达式条件为 true\")\n",
    "    print (var2)\n",
    "print (\"Good bye!\")"
   ]
  },
  {
   "cell_type": "markdown",
   "metadata": {},
   "source": [
    "## 1.2 elif 语句"
   ]
  },
  {
   "cell_type": "markdown",
   "metadata": {},
   "source": [
    "① if 与 elif 同级，如果 if 的条件成立，则执行 if 里面的语句块，如果 if 的条件不成立，则判断 elif 里的条件，如果 elif 的条件成立，则执行 elif 里面的语句块，如果 elif 的条件不成立，则执行 else 里面的语句块。"
   ]
  },
  {
   "cell_type": "code",
   "execution_count": null,
   "metadata": {},
   "outputs": [],
   "source": [
    "# 如果 \"condition_1\" 为 True， 将执行 \"statement_block_1\" 块语句，结束\n",
    "# 如果 \"condition_1\" 为 False，将判断 \"condition_2\"       块语句\n",
    "# 如果 \"condition_2\" 为 True， 将执行 \"statement_block_2\" 块语句，结束\n",
    "# 如果 \"condition_2\" 为 False，将执行\"statement_block_3\"  块语句，结束\n",
    "\n",
    "if condition_1:\n",
    "    statement_block_1\n",
    "elif condition_2:\n",
    "    statement_block_2\n",
    "else:\n",
    "    statement_block_3"
   ]
  },
  {
   "cell_type": "markdown",
   "metadata": {},
   "source": [
    "# 2. 循环语句"
   ]
  },
  {
   "cell_type": "markdown",
   "metadata": {},
   "source": [
    "## 2.1 while 语句"
   ]
  },
  {
   "cell_type": "markdown",
   "metadata": {},
   "source": [
    "① 在 Python 中没有 do..while 循环。\n",
    "\n",
    "② while 后为条件，条件在冒号(:)前面，条件有两种形式，Ture 或 False，条件为 True 表示满足条件，将执行 while 条件 冒号 后的语句块，变量为 False 表示不满足条件，将不执行冒号后的语句块。"
   ]
  },
  {
   "cell_type": "code",
   "execution_count": null,
   "metadata": {},
   "outputs": [],
   "source": [
    "while 判断条件(condition)：\n",
    "    执行语句(statements)……"
   ]
  },
  {
   "cell_type": "markdown",
   "metadata": {},
   "source": [
    "③ 当 while 后的条件为变量时，变量为非 0 的数值时表示 True，为 0 的数值时表示 False。"
   ]
  },
  {
   "cell_type": "code",
   "execution_count": 29,
   "metadata": {},
   "outputs": [
    {
     "name": "stdout",
     "output_type": "stream",
     "text": [
      "1 到 100 之和为: 5050\n"
     ]
    }
   ],
   "source": [
    "n = 100\n",
    "sum = 0\n",
    "counter = 1\n",
    "\n",
    "while counter <= n:     # n=100，counter递增，从1递增到101，101<100 时会返回一个False，不再执行while中语句\n",
    "    sum = sum + counter\n",
    "    counter += 1\n",
    "    \n",
    "print(\"1 到 %d 之和为: %d\" % (n,sum))"
   ]
  },
  {
   "cell_type": "markdown",
   "metadata": {},
   "source": [
    "## 2.2 for 语句"
   ]
  },
  {
   "cell_type": "markdown",
   "metadata": {},
   "source": [
    "① Python 中 for 循环可以遍历任何序列的项目，如字符串、列表等。\n",
    "\n",
    "② for 循环的格式如下："
   ]
  },
  {
   "cell_type": "code",
   "execution_count": null,
   "metadata": {},
   "outputs": [],
   "source": [
    "for <variable> in <sequence>:\n",
    "    <statements>"
   ]
  },
  {
   "cell_type": "code",
   "execution_count": 30,
   "metadata": {},
   "outputs": [
    {
     "name": "stdout",
     "output_type": "stream",
     "text": [
      "C\n",
      "C++\n",
      "Perl\n",
      "Python\n"
     ]
    }
   ],
   "source": [
    "languages = [\"C\", \"C++\", \"Perl\", \"Python\"] \n",
    "for x in languages:\n",
    "    print (x)"
   ]
  }
 ],
 "metadata": {
  "kernelspec": {
   "display_name": "Python 3",
   "language": "python",
   "name": "python3"
  },
  "language_info": {
   "codemirror_mode": {
    "name": "ipython",
    "version": 3
   },
   "file_extension": ".py",
   "mimetype": "text/x-python",
   "name": "python",
   "nbconvert_exporter": "python",
   "pygments_lexer": "ipython3",
   "version": "3.7.4"
  },
  "toc": {
   "base_numbering": 1,
   "nav_menu": {},
   "number_sections": false,
   "sideBar": true,
   "skip_h1_title": false,
   "title_cell": "Table of Contents",
   "title_sidebar": "Contents",
   "toc_cell": false,
   "toc_position": {
    "height": "calc(100% - 180px)",
    "left": "10px",
    "top": "150px",
    "width": "277.983px"
   },
   "toc_section_display": true,
   "toc_window_display": true
  }
 },
 "nbformat": 4,
 "nbformat_minor": 4
}
