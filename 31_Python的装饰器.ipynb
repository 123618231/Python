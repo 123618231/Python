{
 "cells": [
  {
   "cell_type": "markdown",
   "metadata": {},
   "source": [
    "# Python的装饰器"
   ]
  },
  {
   "cell_type": "markdown",
   "metadata": {},
   "source": [
    "# 1. 装饰器的定义"
   ]
  },
  {
   "cell_type": "markdown",
   "metadata": {},
   "source": [
    "① 装饰器就是给已有函数增加额外功能的函数，它本质上就是一个闭包函数。\n",
    "\n",
    "② 装饰器的功能特点：\n",
    "\n",
    "1. 不修改已有函数的源代码\n",
    "2. 不修改已有函数的调用方式\n",
    "3. 给已有函数增加额外的功能\n",
    "\n",
    "③ 闭包和装饰器的区分：如果闭包函数的参数有且只有一个，并且是函数，那么这个闭包函数称之为装饰器。\n",
    "\n",
    "④ 写代码要遵循开放封闭原则，它规定已经实现的功能代码不允许被修改，但可以被扩展。"
   ]
  },
  {
   "cell_type": "markdown",
   "metadata": {},
   "source": [
    "# 2. 装饰器示例代码"
   ]
  },
  {
   "cell_type": "code",
   "execution_count": 1,
   "metadata": {},
   "outputs": [
    {
     "name": "stdout",
     "output_type": "stream",
     "text": [
      "已添加登陆认证\n",
      "发表评论\n"
     ]
    }
   ],
   "source": [
    "# 定义装饰器\n",
    "def decorator(func):\n",
    "    def inner():\n",
    "        # 在内部函数(inner函数)里实现对已有函数(comment函数)装饰\n",
    "        print('已添加登陆认证')\n",
    "        func()\n",
    "    return inner\n",
    "\n",
    "def comment():\n",
    "    print('发表评论')\n",
    "    \n",
    "# 调用装饰器对已有函数进行装饰，左边的 comment = inner\n",
    "comment = decorator(comment)\n",
    "\n",
    "# 调用方式不变\n",
    "comment()"
   ]
  },
  {
   "cell_type": "markdown",
   "metadata": {},
   "source": [
    "# 3. 装饰器的语法糖写法"
   ]
  },
  {
   "cell_type": "markdown",
   "metadata": {},
   "source": [
    "① 如果有多个函数都需要添加登陆验证的功能，每次都需要编写 func = decorator(func1)、func = decorator(func2)......这样代码对已有函数进行装饰的做法比较麻烦。\n",
    "\n",
    "② python提供一个装饰函数更加简单的写法，那就是语法糖，语法糖的书写格式为：@装饰器名字，通过语法糖的方式完成对已有函数的装饰。"
   ]
  },
  {
   "cell_type": "code",
   "execution_count": 2,
   "metadata": {},
   "outputs": [
    {
     "name": "stdout",
     "output_type": "stream",
     "text": [
      "已添加登陆认证\n",
      "发表评论\n"
     ]
    }
   ],
   "source": [
    "# 定义装饰器\n",
    "def decorator(func):\n",
    "    def inner():\n",
    "        # 在内部函数(inner函数)里实现对已有函数(comment函数)装饰\n",
    "        print('已添加登陆认证')\n",
    "        func()\n",
    "    return inner\n",
    "\n",
    "@decorator  # 相当于 comment = decorator(comment)\n",
    "def comment():\n",
    "    print('发表评论')\n",
    "    \n",
    "# 调用方式不变\n",
    "comment()"
   ]
  },
  {
   "cell_type": "markdown",
   "metadata": {},
   "source": [
    "# 4. 装饰器的执行时机"
   ]
  },
  {
   "cell_type": "markdown",
   "metadata": {},
   "source": [
    "① 当前模块加载完成以后，装饰器会立即执行，对已有函数进行装饰。"
   ]
  },
  {
   "cell_type": "code",
   "execution_count": 3,
   "metadata": {},
   "outputs": [
    {
     "name": "stdout",
     "output_type": "stream",
     "text": [
      "装饰器执行了\n"
     ]
    }
   ],
   "source": [
    "# 定义装饰器\n",
    "def decorator(func):\n",
    "    print('装饰器执行了')\n",
    "    def inner():\n",
    "        # 在内部函数(inner函数)里实现对已有函数(comment函数)装饰\n",
    "        print('已添加登陆认证')\n",
    "        func()\n",
    "    return inner\n",
    "\n",
    "@decorator  # 相当于在函数定义后添加 comment = decorator(comment)，即当再调用comment函数时，已经运行了 decorator(comment) 函数\n",
    "def comment():\n",
    "    print('发表评论')"
   ]
  },
  {
   "cell_type": "markdown",
   "metadata": {},
   "source": [
    "# 5. 装饰器的使用场景"
   ]
  },
  {
   "cell_type": "markdown",
   "metadata": {},
   "source": [
    "① 装饰器使用场景常用于：\n",
    "\n",
    "1. 函数执行时间的统计。\n",
    "\n",
    "2. 输出日志信息。"
   ]
  },
  {
   "cell_type": "code",
   "execution_count": 5,
   "metadata": {},
   "outputs": [
    {
     "name": "stdout",
     "output_type": "stream",
     "text": [
      "装饰器执行了\n",
      "发表评论\n",
      "发表评论\n",
      "发表评论\n",
      "发表评论\n",
      "发表评论\n",
      "发表评论\n",
      "发表评论\n",
      "发表评论\n",
      "发表评论\n",
      "发表评论\n",
      "发表评论\n",
      "发表评论\n",
      "发表评论\n",
      "发表评论\n",
      "发表评论\n",
      "发表评论\n",
      "发表评论\n",
      "发表评论\n",
      "发表评论\n",
      "发表评论\n",
      "发表评论\n",
      "发表评论\n",
      "发表评论\n",
      "发表评论\n",
      "发表评论\n",
      "发表评论\n",
      "发表评论\n",
      "发表评论\n",
      "发表评论\n",
      "发表评论\n",
      "函数执行完成耗时：0.0009970664978027344\n"
     ]
    }
   ],
   "source": [
    "import time\n",
    "\n",
    "# 定义装饰器\n",
    "def decorator(func):\n",
    "    print('装饰器执行了')\n",
    "    def inner():\n",
    "        # 获得已有函数执行时间的统计\n",
    "        begin   =  time.time()\n",
    "        func()\n",
    "        end     =  time.time()    # end 前的缩进要保持一致\n",
    "        result  =  end - begin\n",
    "        print(f'函数执行完成耗时：{result}')\n",
    "    return inner\n",
    "\n",
    "@decorator  \n",
    "def work():\n",
    "    for i in range(30):\n",
    "        print('发表评论')\n",
    "\n",
    "# 调用方式不变\n",
    "work()"
   ]
  },
  {
   "cell_type": "markdown",
   "metadata": {},
   "source": [
    "# 6. 通用装饰器的使用"
   ]
  },
  {
   "cell_type": "markdown",
   "metadata": {},
   "source": [
    "① 通用装饰器：可以装饰任意类型的函数。\n",
    "\n",
    "② 使用装饰器装饰已有函数的时候，内部函数的类型和要装饰的已有函数的类型保持一致。"
   ]
  },
  {
   "cell_type": "code",
   "execution_count": 6,
   "metadata": {},
   "outputs": [
    {
     "name": "stdout",
     "output_type": "stream",
     "text": [
      "装饰器执行了\n",
      "正在努力执行加法计算\n",
      "结果为：3\n"
     ]
    }
   ],
   "source": [
    "# 装饰带有参数的函数\n",
    "def decorator(func):\n",
    "    print('装饰器执行了')\n",
    "    def inner(num1, num2):     # 装饰器内部函数类型 inner(num1, num2)，为两个入口参数的函数\n",
    "        print('正在努力执行加法计算')\n",
    "        func(num1, num2)\n",
    "    return inner\n",
    "\n",
    "@decorator  # add_num = decorator(add_num)\n",
    "def add_num(num1, num2):       # 装饰器已有函数类型 add_num(num1, num2)，为两个入口参数的函数\n",
    "    result = num1 + num2\n",
    "    print(f'结果为：{result}')\n",
    "    \n",
    "add_num(1,2)         "
   ]
  },
  {
   "cell_type": "code",
   "execution_count": 7,
   "metadata": {},
   "outputs": [
    {
     "name": "stdout",
     "output_type": "stream",
     "text": [
      "装饰器执行了\n",
      "正在努力执行加法计算\n"
     ]
    },
    {
     "ename": "NameError",
     "evalue": "name 'result' is not defined",
     "output_type": "error",
     "traceback": [
      "\u001b[1;31m---------------------------------------------------------------------------\u001b[0m",
      "\u001b[1;31mNameError\u001b[0m                                 Traceback (most recent call last)",
      "\u001b[1;32m<ipython-input-7-429986e6524e>\u001b[0m in \u001b[0;36m<module>\u001b[1;34m\u001b[0m\n\u001b[0;32m     13\u001b[0m \u001b[1;33m\u001b[0m\u001b[0m\n\u001b[0;32m     14\u001b[0m \u001b[0madd_num\u001b[0m\u001b[1;33m(\u001b[0m\u001b[1;36m1\u001b[0m\u001b[1;33m,\u001b[0m\u001b[1;36m2\u001b[0m\u001b[1;33m)\u001b[0m\u001b[1;33m\u001b[0m\u001b[1;33m\u001b[0m\u001b[0m\n\u001b[1;32m---> 15\u001b[1;33m \u001b[0mprint\u001b[0m\u001b[1;33m(\u001b[0m\u001b[1;34mf'结果为：{result}'\u001b[0m\u001b[1;33m)\u001b[0m     \u001b[1;31m#  报错，不是返回值时，无法调用函数内变量\u001b[0m\u001b[1;33m\u001b[0m\u001b[1;33m\u001b[0m\u001b[0m\n\u001b[0m",
      "\u001b[1;31mNameError\u001b[0m: name 'result' is not defined"
     ]
    }
   ],
   "source": [
    "# 装饰带有参数的函数\n",
    "def decorator(func):\n",
    "    print('装饰器执行了')\n",
    "    def inner(num1, num2):     # 装饰器内部函数类型 inner(num1, num2)，为两个入口参数的函数\n",
    "        print('正在努力执行加法计算')\n",
    "        func(num1, num2)\n",
    "    return inner\n",
    "\n",
    "@decorator  # add_num = decorator(add_num)\n",
    "def add_num(num1, num2):       # 装饰器已有函数类型 add_num(num1, num2)，为两个入口参数的函数\n",
    "    result = num1 + num2\n",
    "    \n",
    "    \n",
    "add_num(1,2)                   \n",
    "print(f'结果为：{result}')     #  报错，不是返回值时，无法调用函数内变量"
   ]
  },
  {
   "cell_type": "code",
   "execution_count": 8,
   "metadata": {},
   "outputs": [
    {
     "name": "stdout",
     "output_type": "stream",
     "text": [
      "装饰器执行了\n",
      "正在努力执行加法计算\n",
      "结果为：3\n"
     ]
    }
   ],
   "source": [
    "# 装饰带有参数、返回值的函数\n",
    "\n",
    "def decorator(func):\n",
    "    print('装饰器执行了')\n",
    "    def inner(num1, num2):\n",
    "        print('正在努力执行加法计算')\n",
    "        num = func(num1, num2)     # func(num1, num2) 即 add_num(num1, num2) 运行后函数返回值 result 赋值给 num，最后返回 num\n",
    "        return num\n",
    "    return inner\n",
    "\n",
    "@decorator \n",
    "def add_num(num1, num2):\n",
    "    result = num1 + num2\n",
    "    return result\n",
    "\n",
    "print(f'结果为：{add_num(1,2)}')   #  报错，有返回值，可以打印返回值"
   ]
  },
  {
   "cell_type": "code",
   "execution_count": 9,
   "metadata": {},
   "outputs": [
    {
     "name": "stdout",
     "output_type": "stream",
     "text": [
      "装饰器执行了\n",
      "正在努力执行加法计算\n",
      "结果为：6\n"
     ]
    }
   ],
   "source": [
    "# 装饰带有不定长参数、返回值的函数\n",
    "\n",
    "def decorator(func):\n",
    "    print('装饰器执行了')\n",
    "    def inner(*args, **kwargs):\n",
    "        print('正在努力执行加法计算')\n",
    "        num = func(*args, **kwargs)\n",
    "        return num\n",
    "    return inner\n",
    "\n",
    "@decorator  \n",
    "def add_num(*args, **kwargs):\n",
    "    result = 0\n",
    "    for value in args:               # args为一个元组\n",
    "        result += value\n",
    "    for value in kwargs.values():    # kwargs为一个字典\n",
    "        result += value\n",
    "    return result\n",
    "\n",
    "result = add_num(1,2,a=3)\n",
    "print(f'结果为：{result}')           # 调用的是add_num(1,2,a=3)赋值的变量result，不是函数里的result"
   ]
  },
  {
   "cell_type": "markdown",
   "metadata": {},
   "source": [
    "# 7. 多个装饰器的使用"
   ]
  },
  {
   "cell_type": "markdown",
   "metadata": {},
   "source": [
    "① 多个装饰器的装饰过程：由内到外的一个装饰过程，先执行内部的装饰器，再执行外部的装饰器。"
   ]
  },
  {
   "cell_type": "code",
   "execution_count": 10,
   "metadata": {},
   "outputs": [
    {
     "name": "stdout",
     "output_type": "stream",
     "text": [
      "make_p装饰器执行了\n",
      "make_div装饰器执行了\n",
      "<div><p>人生苦短，我用Python</p></div>\n"
     ]
    }
   ],
   "source": [
    "# 定义装饰器\n",
    "def make_div(func):\n",
    "    print('make_div装饰器执行了')\n",
    "    \n",
    "    def inner():\n",
    "        result = '<div>' + func() + '</div>'\n",
    "        return result\n",
    "    return inner\n",
    "\n",
    "def make_p(func):\n",
    "    print('make_p装饰器执行了')\n",
    "    \n",
    "    def inner():\n",
    "        result = '<p>' + func() + '</p>'\n",
    "        return result\n",
    "    return inner\n",
    "\n",
    "@make_div       # 第二个执行，后执行外部的装饰器\n",
    "@make_p         # 第一个执行，先执行内部的装饰器\n",
    "def content():  \n",
    "    return '人生苦短，我用Python'\n",
    "\n",
    "c = content()   # 先用内部装饰器装饰，再用外部装饰器装饰\n",
    "print(c)\n",
    "\n",
    "# 原理剖析：content = make_div(make_p(content))   \n",
    "# make_div(make_p(content))中带入的 make_p(content) 即 make_p(content)中的inner，即make_div()是对 make_p 的 inner(已经返回的结果)进行装饰    "
   ]
  },
  {
   "cell_type": "markdown",
   "metadata": {},
   "source": [
    "# 8. 带有参数的装饰器"
   ]
  },
  {
   "cell_type": "markdown",
   "metadata": {},
   "source": [
    "① 带有参数的装饰器就是使用装饰器函数的时候可以指定参数，语法格式：@装饰器(参数...)。\n",
    "\n",
    "② 使用带有参数的装饰器，其实是在装饰器外面又包裹了一个函数，使用该函数接收参数，返回是装饰器，因为@符号需要配合装饰器实例使用。"
   ]
  },
  {
   "cell_type": "code",
   "execution_count": 1,
   "metadata": {},
   "outputs": [
    {
     "name": "stdout",
     "output_type": "stream",
     "text": [
      "正在努力执行加法计算\n",
      "3\n",
      "正在努力计算减法计算\n",
      "-1\n"
     ]
    }
   ],
   "source": [
    "# 在装饰器网名又包裹了一个函数，使用该函数接收参数\n",
    "# 定义函数\n",
    "def return_decorator(flag):\n",
    "    # 装饰器只能接收一个参数并且是函数类型\n",
    "    # 定义装饰器\n",
    "    def decorator(func):\n",
    "        def inner(a,b):\n",
    "            if flag == '+':\n",
    "                print('正在努力执行加法计算')\n",
    "            elif flag == '-':\n",
    "                print('正在努力计算减法计算')\n",
    "            func(a,b)\n",
    "        return inner\n",
    "    # 当调用函数的时候可以返回一个装饰器decorator\n",
    "    return decorator    # 函数返回值为一个装饰器，所以才能用@return_decorator('+')，因为@符号需要配合装饰器实例使用\n",
    "\n",
    "@return_decorator('+')   \n",
    "def add_num(a,b):\n",
    "    result = a + b \n",
    "    print(result)\n",
    "    \n",
    "@return_decorator('-')\n",
    "def sub_num(a,b):\n",
    "    result = a - b\n",
    "    print(result)\n",
    "    \n",
    "add_num(1,2)\n",
    "sub_num(1,2)\n",
    "\n",
    "# 原理剖析 @return_decorator('+') 等价于：\n",
    "# 1. decorator = return_decorator('+')      # return_decorator('+') 获得的是一个装饰器实例，所以可以用@\n",
    "# 2. @decorator => add_num = decorator(add_num)"
   ]
  },
  {
   "cell_type": "markdown",
   "metadata": {},
   "source": [
    "# 9. 类装饰器的使用"
   ]
  },
  {
   "cell_type": "markdown",
   "metadata": {},
   "source": [
    "① 使用类修饰已有函数"
   ]
  },
  {
   "cell_type": "code",
   "execution_count": 2,
   "metadata": {},
   "outputs": [
    {
     "name": "stdout",
     "output_type": "stream",
     "text": [
      "马上就有下班啦\n",
      "快要下雪啦\n"
     ]
    }
   ],
   "source": [
    "class MyDecorator(object):\n",
    "    def __init__(self,func):\n",
    "        self.__func = func\n",
    "        \n",
    "    # 实现__call__方法，表示对象是一个可调用对象，可以像调用函数一样进行调用\n",
    "    def __call__(self, *args, **kwargs):\n",
    "        # 对已有函数进行封装\n",
    "        print('马上就有下班啦')\n",
    "        self.__func()\n",
    "\n",
    "@MyDecorator   # @MyDecorator => show = MyDecorator(show)\n",
    "def show():\n",
    "    print('快要下雪啦')\n",
    "    \n",
    "# 执行show，就相当于执行MyDecorator类创建的实例对象，show() => 对象()\n",
    "show()"
   ]
  },
  {
   "cell_type": "markdown",
   "metadata": {},
   "source": [
    "# 10. 装饰器应用场景"
   ]
  },
  {
   "cell_type": "markdown",
   "metadata": {},
   "source": [
    "① 收集函数的操作或错误日志记录。\n",
    "\n",
    "② 验证函数的使用权限。\n",
    "\n",
    "③ 计算函数的运行时间。\n",
    "\n",
    "④ 在ORM/DB模型操作时，通过属性方法动态地获取关联的数据。\n",
    "\n",
    "⑤ 函数数据的缓存。\n",
    "\n",
    "⑥ 定制函数的输入和输出(序列化和反序列化)。m"
   ]
  }
 ],
 "metadata": {
  "kernelspec": {
   "display_name": "Python 3",
   "language": "python",
   "name": "python3"
  },
  "language_info": {
   "codemirror_mode": {
    "name": "ipython",
    "version": 3
   },
   "file_extension": ".py",
   "mimetype": "text/x-python",
   "name": "python",
   "nbconvert_exporter": "python",
   "pygments_lexer": "ipython3",
   "version": "3.7.4"
  },
  "toc": {
   "base_numbering": 1,
   "nav_menu": {},
   "number_sections": false,
   "sideBar": true,
   "skip_h1_title": false,
   "title_cell": "Table of Contents",
   "title_sidebar": "Contents",
   "toc_cell": false,
   "toc_position": {
    "height": "calc(100% - 180px)",
    "left": "10px",
    "top": "150px",
    "width": "277.983px"
   },
   "toc_section_display": true,
   "toc_window_display": true
  }
 },
 "nbformat": 4,
 "nbformat_minor": 4
}
