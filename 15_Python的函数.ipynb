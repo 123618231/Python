{
 "cells": [
  {
   "cell_type": "markdown",
   "metadata": {},
   "source": [
    "# Python的函数"
   ]
  },
  {
   "cell_type": "markdown",
   "metadata": {},
   "source": [
    "# 1. Python的函数"
   ]
  },
  {
   "cell_type": "markdown",
   "metadata": {},
   "source": [
    "① 函数是组织好的，可重复使用的。\n",
    "\n",
    "② 定义函数代码块以 def 关键词开头、后接函数标识符名称和圆括号()。\n",
    "\n",
    "③ 函数内容以冒号、缩进开始。"
   ]
  },
  {
   "cell_type": "code",
   "execution_count": 22,
   "metadata": {},
   "outputs": [
    {
     "name": "stdout",
     "output_type": "stream",
     "text": [
      "我是小王同学在积累\n"
     ]
    }
   ],
   "source": [
    "# def 定义 printname() 函数\n",
    "def printname():             \n",
    "    print(\"我是小王同学在积累\")   \n",
    "\n",
    "printname()    # 调用 printname() 函数"
   ]
  },
  {
   "cell_type": "markdown",
   "metadata": {},
   "source": [
    "④ 任何自变量、传入参数必须放在函数名后圆括号内。"
   ]
  },
  {
   "cell_type": "code",
   "execution_count": 23,
   "metadata": {},
   "outputs": [
    {
     "name": "stdout",
     "output_type": "stream",
     "text": [
      "我的知乎ID是：小王同学在积累\n"
     ]
    }
   ],
   "source": [
    "# 定义 printname(name) 函数\n",
    "def printname(name):     # 传入参数放在括号中\n",
    "    print(\"我的知乎ID是：%s\" %name)   \n",
    "\n",
    "printname('小王同学在积累')    # 调用 printname() 函数"
   ]
  }
 ],
 "metadata": {
  "kernelspec": {
   "display_name": "Python 3",
   "language": "python",
   "name": "python3"
  },
  "language_info": {
   "codemirror_mode": {
    "name": "ipython",
    "version": 3
   },
   "file_extension": ".py",
   "mimetype": "text/x-python",
   "name": "python",
   "nbconvert_exporter": "python",
   "pygments_lexer": "ipython3",
   "version": "3.7.4"
  },
  "toc": {
   "base_numbering": 1,
   "nav_menu": {},
   "number_sections": false,
   "sideBar": true,
   "skip_h1_title": false,
   "title_cell": "Table of Contents",
   "title_sidebar": "Contents",
   "toc_cell": false,
   "toc_position": {
    "height": "calc(100% - 180px)",
    "left": "10px",
    "top": "150px",
    "width": "277.983px"
   },
   "toc_section_display": true,
   "toc_window_display": true
  }
 },
 "nbformat": 4,
 "nbformat_minor": 4
}
