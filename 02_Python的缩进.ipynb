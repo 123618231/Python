{
 "cells": [
  {
   "cell_type": "markdown",
   "metadata": {},
   "source": [
    "# Python的缩进"
   ]
  },
  {
   "cell_type": "markdown",
   "metadata": {},
   "source": [
    "# 1. Python的缩进"
   ]
  },
  {
   "cell_type": "markdown",
   "metadata": {},
   "source": [
    "① puthon语言用缩进(四个空格)和冒号(:)的方法，来表示代码之间的层次，同一缩进下，代码层次相同。\n",
    "\n",
    "② C、C++、Java语言用的不是缩进，用的是大括号的形式。"
   ]
  },
  {
   "cell_type": "code",
   "execution_count": 1,
   "metadata": {},
   "outputs": [
    {
     "name": "stdout",
     "output_type": "stream",
     "text": [
      "aa\n"
     ]
    }
   ],
   "source": [
    "# Python语言\n",
    "\n",
    "def k():  \n",
    "    print('aa')  #   print()函数前面有缩进，缩进前面有冒号，print()函数是k()函数的下一级内容\n",
    "    \n",
    "k() # 调用k函数"
   ]
  },
  {
   "cell_type": "code",
   "execution_count": null,
   "metadata": {},
   "outputs": [],
   "source": [
    "# C语言\n",
    "\n",
    "int max(int num1, int num2) \n",
    "{\n",
    "   /* 局部变量声明 */\n",
    "   int result;\n",
    " \n",
    "   if (num1 > num2)\n",
    "      result = num1;\n",
    "   else\n",
    "      result = num2;\n",
    " \n",
    "   return result; \n",
    "}"
   ]
  },
  {
   "cell_type": "code",
   "execution_count": null,
   "metadata": {},
   "outputs": [],
   "source": [
    "# C++语言\n",
    " \n",
    "int max(int num1, int num2) \n",
    "{\n",
    "   // 局部变量声明\n",
    "   int result;\n",
    " \n",
    "   if (num1 > num2)\n",
    "      result = num1;\n",
    "   else\n",
    "      result = num2;\n",
    " \n",
    "   return result; \n",
    "}"
   ]
  },
  {
   "cell_type": "code",
   "execution_count": null,
   "metadata": {},
   "outputs": [],
   "source": [
    "# Java语言\n",
    "public static int max(int num1, int num2) {\n",
    "   int result;\n",
    "   if (num1 > num2)\n",
    "      result = num1;\n",
    "   else\n",
    "      result = num2;\n",
    " \n",
    "   return result; \n",
    "}"
   ]
  }
 ],
 "metadata": {
  "kernelspec": {
   "display_name": "Python 3",
   "language": "python",
   "name": "python3"
  },
  "language_info": {
   "codemirror_mode": {
    "name": "ipython",
    "version": 3
   },
   "file_extension": ".py",
   "mimetype": "text/x-python",
   "name": "python",
   "nbconvert_exporter": "python",
   "pygments_lexer": "ipython3",
   "version": "3.7.4"
  },
  "toc": {
   "base_numbering": 1,
   "nav_menu": {},
   "number_sections": false,
   "sideBar": true,
   "skip_h1_title": false,
   "title_cell": "Table of Contents",
   "title_sidebar": "Contents",
   "toc_cell": false,
   "toc_position": {
    "height": "calc(100% - 180px)",
    "left": "10px",
    "top": "150px",
    "width": "277.983px"
   },
   "toc_section_display": true,
   "toc_window_display": true
  }
 },
 "nbformat": 4,
 "nbformat_minor": 4
}
