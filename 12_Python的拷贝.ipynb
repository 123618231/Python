{
 "cells": [
  {
   "cell_type": "markdown",
   "metadata": {},
   "source": [
    "# Python的拷贝"
   ]
  },
  {
   "cell_type": "markdown",
   "metadata": {},
   "source": [
    "# 1. Python的拷贝"
   ]
  },
  {
   "cell_type": "markdown",
   "metadata": {},
   "source": [
    "## 1.1 拷贝简介"
   ]
  },
  {
   "cell_type": "markdown",
   "metadata": {},
   "source": [
    "① 在python中，对象赋值实际上是对象的引用。当创建一个对象，然后把它赋给另一个变量的时候，python并没有拷贝这个对象，而只是拷贝了这个对象的引用。"
   ]
  },
  {
   "cell_type": "markdown",
   "metadata": {},
   "source": [
    "① 直接赋值拷贝，传递对象的引用而已，原始列表改变，被赋值的b也会做相同的改变。\n",
    "\n",
    "② copy浅拷贝，如果不包含可变对象，对拷贝对象改变，会改变原始数据；如果包含可变对象，对拷贝对象改变，不会改变原始数据。\n",
    "\n",
    "③ deepcopy深拷贝，对拷贝对象改变，不会改变原始数据。"
   ]
  },
  {
   "cell_type": "code",
   "execution_count": 5,
   "metadata": {},
   "outputs": [
    {
     "name": "stdout",
     "output_type": "stream",
     "text": [
      "2120404710280\n",
      "2120404710280\n",
      "[2, 1]\n",
      "[2, 1]\n",
      "2120404710344\n",
      "2120404710280\n",
      "[5, 3]\n",
      "[2, 1]\n"
     ]
    }
   ],
   "source": [
    "# 赋值引用，a 和 b 都指向同一个对象\n",
    "a = [2,1]\n",
    "b = a\n",
    "print(id(a))\n",
    "print(id(b))\n",
    "print(a)\n",
    "print(b)\n",
    "a = [5,3]\n",
    "print(id(a))\n",
    "print(id(b))\n",
    "print(a)\n",
    "print(b)"
   ]
  },
  {
   "cell_type": "markdown",
   "metadata": {},
   "source": [
    "## 1.2 浅拷贝"
   ]
  },
  {
   "cell_type": "markdown",
   "metadata": {},
   "source": [
    "① 浅拷贝如果之前的数据没有可变对象就和深拷贝一样。\n",
    "\n",
    "② 浅拷贝如果之前的数据有可变对象的话，浅拷贝没有改变里面的可变对象不会改变原来数据。\n",
    "\n",
    "③ 浅拷贝如果之前的数据有可变对象的话，浅拷贝改变里面的可变对象会改变原来数据。"
   ]
  },
  {
   "cell_type": "code",
   "execution_count": 6,
   "metadata": {},
   "outputs": [
    {
     "name": "stdout",
     "output_type": "stream",
     "text": [
      "None\n",
      "[1, 2, 3, ['a', 'b']]\n",
      "[1, 2, 3, ['a', 'b'], 5]\n"
     ]
    }
   ],
   "source": [
    "# 浅拷贝\n",
    "import copy\n",
    "alist1 = [1,2,3,[\"a\",\"b\"]]  \n",
    "alist2 = copy.copy(alist1) # 浅拷贝，之前的数据里面有可变对象列表[\"a\",\"b\"]\n",
    "\n",
    "print(alist2.append(5)) # 没有改变里面的可变对象，函数返回值为None\n",
    "print(alist1) # 没有改变里面的可变对象，不会改变原来的数据\n",
    "print(alist2) "
   ]
  },
  {
   "cell_type": "code",
   "execution_count": 7,
   "metadata": {},
   "outputs": [
    {
     "name": "stdout",
     "output_type": "stream",
     "text": [
      "None\n",
      "[1, 2, 3, ['a', 'b', 'cccc']]\n",
      "[1, 2, 3, ['a', 'b', 'cccc']]\n"
     ]
    }
   ],
   "source": [
    "# 浅拷贝\n",
    "import copy\n",
    "alist1 = [1,2,3,[\"a\",\"b\"]]\n",
    "alist2 = copy.copy(alist1)  # 浅拷贝，之前的数据里面有可变对象列表[\"a\",\"b\"]\n",
    "print(alist2[3].append('cccc')) # 改变了里面的可变对象\n",
    "print(alist1)  # 改变了里面的可变对象，会改变原来的数据\n",
    "print(alist2)\n"
   ]
  },
  {
   "cell_type": "markdown",
   "metadata": {},
   "source": [
    "## 1.3 深拷贝"
   ]
  },
  {
   "cell_type": "markdown",
   "metadata": {},
   "source": [
    "① 深拷贝，无论之前的数据里面是否有可变对象，无论是否改变的可变对象里的数据，都不改变之前的数据。"
   ]
  },
  {
   "cell_type": "code",
   "execution_count": 8,
   "metadata": {},
   "outputs": [
    {
     "name": "stdout",
     "output_type": "stream",
     "text": [
      "None\n",
      "[1, 2, 3, ['a', 'b']]\n",
      "[1, 2, 3, ['a', 'b'], 5]\n"
     ]
    }
   ],
   "source": [
    "# 深拷贝\n",
    "import copy\n",
    "alist1 = [1,2,3,[\"a\",\"b\"]]\n",
    "alist2 = copy.deepcopy(alist1)\n",
    "\n",
    "print(alist2.append(5)) # 函数返回值为None\n",
    "print(alist1)\n",
    "print(alist2)"
   ]
  },
  {
   "cell_type": "code",
   "execution_count": 9,
   "metadata": {},
   "outputs": [
    {
     "name": "stdout",
     "output_type": "stream",
     "text": [
      "None\n",
      "[1, 2, 3, ['a', 'b']]\n",
      "[1, 2, 3, ['a', 'b', 'cccc']]\n"
     ]
    }
   ],
   "source": [
    "# 深拷贝\n",
    "import copy\n",
    "alist1 = [1,2,3,[\"a\",\"b\"]]\n",
    "alist2 = copy.deepcopy(alist1)\n",
    "print(alist2[3].append('cccc')) \n",
    "print(alist1) \n",
    "print(alist2)"
   ]
  }
 ],
 "metadata": {
  "kernelspec": {
   "display_name": "Python 3",
   "language": "python",
   "name": "python3"
  },
  "language_info": {
   "codemirror_mode": {
    "name": "ipython",
    "version": 3
   },
   "file_extension": ".py",
   "mimetype": "text/x-python",
   "name": "python",
   "nbconvert_exporter": "python",
   "pygments_lexer": "ipython3",
   "version": "3.7.4"
  },
  "toc": {
   "base_numbering": 1,
   "nav_menu": {},
   "number_sections": false,
   "sideBar": true,
   "skip_h1_title": false,
   "title_cell": "Table of Contents",
   "title_sidebar": "Contents",
   "toc_cell": false,
   "toc_position": {
    "height": "calc(100% - 180px)",
    "left": "10px",
    "top": "150px",
    "width": "277.983px"
   },
   "toc_section_display": true,
   "toc_window_display": true
  }
 },
 "nbformat": 4,
 "nbformat_minor": 4
}
