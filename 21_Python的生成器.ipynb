{
 "cells": [
  {
   "cell_type": "markdown",
   "metadata": {},
   "source": [
    "# Python的生成器"
   ]
  },
  {
   "cell_type": "markdown",
   "metadata": {},
   "source": [
    "# 1. Python的生成器"
   ]
  },
  {
   "cell_type": "markdown",
   "metadata": {},
   "source": [
    "① 使用了yield的函数被称为生成器。\n",
    "\n",
    "② 创建生成器的方法1：把列表生成式的 [] 改成 ()，创建生成器方法2：使用yield函数创建生成器。"
   ]
  },
  {
   "cell_type": "code",
   "execution_count": 1,
   "metadata": {},
   "outputs": [
    {
     "name": "stdout",
     "output_type": "stream",
     "text": [
      "<class 'list'>\n",
      "<class 'generator'>\n"
     ]
    }
   ],
   "source": [
    "# 列表生成式\n",
    "ls = [x*2 for x in range(10)]\n",
    "print(type(ls))\n",
    "\n",
    "# 生成器\n",
    "generator = (x*2 for x in range(10))\n",
    "print(type(generator))"
   ]
  },
  {
   "cell_type": "markdown",
   "metadata": {},
   "source": [
    "③ 跟普通函数不同的是，生成器只有在进行迭代操作时，才会进入生成器函数内容，更简单理解生成器就是一个迭代器。\n",
    "\n",
    "④ 生成器是一种特殊的迭代器，可以通过 next 方法调用，next(迭代器)，或者通过for循环语句遍历，for i in 迭代器。\n",
    "\n",
    "⑤ 在调用生成器运行的过程中，每次遇到 yield 时候函数暂停并保存当前所有的运行信息，返回 yield 的值，并在下一次从当前位置继续运行。"
   ]
  },
  {
   "cell_type": "code",
   "execution_count": 2,
   "metadata": {},
   "outputs": [
    {
     "name": "stdout",
     "output_type": "stream",
     "text": [
      "普通函数\n",
      "3\n"
     ]
    }
   ],
   "source": [
    "def f1():\n",
    "    print('普通函数') \n",
    "    return 3\n",
    "\n",
    "a = f1() # 普通函数，会进入f1\n",
    "print(a)"
   ]
  },
  {
   "cell_type": "code",
   "execution_count": 3,
   "metadata": {},
   "outputs": [
    {
     "name": "stdout",
     "output_type": "stream",
     "text": [
      "下面才进入生成器函数内\n",
      "start\n",
      "1\n",
      "middle...\n",
      "2\n"
     ]
    }
   ],
   "source": [
    "def f2():\n",
    "    print('start')\n",
    "    a = yield 1   # 可以不用 \"a = \"，即使用了也不会报错\n",
    "    print('middle...')\n",
    "    b = yield 2   # yeild 2 的返回值为None，所以若打印b，则打印 None\n",
    "    print('next')\n",
    "    c = yield 3\n",
    "    print(c)      # 若有四个print(next(b))，打印c为None，由于没有第四个yield，所以报错\n",
    "\n",
    "b = f2() # 生成器，不会进入f2\n",
    "print(\"下面才进入生成器函数内\")\n",
    "print(next(b)) # 才会进入f2，打印1\n",
    "print(next(b)) # 才会进入f2，打印2"
   ]
  },
  {
   "cell_type": "markdown",
   "metadata": {},
   "source": [
    "⑥ 生成器是一个对象，而且是可迭代的，它保存的是算法，只有在有用的时候调用它，它才会去计算，这样就节省了大量的空间。"
   ]
  }
 ],
 "metadata": {
  "kernelspec": {
   "display_name": "Python 3",
   "language": "python",
   "name": "python3"
  },
  "language_info": {
   "codemirror_mode": {
    "name": "ipython",
    "version": 3
   },
   "file_extension": ".py",
   "mimetype": "text/x-python",
   "name": "python",
   "nbconvert_exporter": "python",
   "pygments_lexer": "ipython3",
   "version": "3.7.4"
  },
  "toc": {
   "base_numbering": 1,
   "nav_menu": {},
   "number_sections": false,
   "sideBar": true,
   "skip_h1_title": false,
   "title_cell": "Table of Contents",
   "title_sidebar": "Contents",
   "toc_cell": false,
   "toc_position": {
    "height": "calc(100% - 180px)",
    "left": "10px",
    "top": "150px",
    "width": "277.983px"
   },
   "toc_section_display": true,
   "toc_window_display": true
  }
 },
 "nbformat": 4,
 "nbformat_minor": 4
}
