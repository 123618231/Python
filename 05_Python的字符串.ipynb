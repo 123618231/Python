{
 "cells": [
  {
   "cell_type": "markdown",
   "metadata": {},
   "source": [
    "# Python的字符串"
   ]
  },
  {
   "cell_type": "markdown",
   "metadata": {},
   "source": [
    "# 1. Python的字符串"
   ]
  },
  {
   "cell_type": "markdown",
   "metadata": {},
   "source": [
    "## 1.1 字符串简介"
   ]
  },
  {
   "cell_type": "markdown",
   "metadata": {},
   "source": [
    "① 字符串就是由数字、字母、下划线组成的一串字符，用单引号、双引号、三引号表示。"
   ]
  },
  {
   "cell_type": "markdown",
   "metadata": {},
   "source": [
    "## 1.2 常用方法"
   ]
  },
  {
   "cell_type": "markdown",
   "metadata": {},
   "source": [
    "① 字符串可以通过索引的形式获得某个或某些字符。\n",
    "\n",
    "② 负索引，最后一个字符的索引为-1。\n",
    "\n",
    "③ \"＋\"号是字符串拼接。"
   ]
  },
  {
   "cell_type": "code",
   "execution_count": 5,
   "metadata": {},
   "outputs": [
    {
     "name": "stdout",
     "output_type": "stream",
     "text": [
      "onetwo\n"
     ]
    }
   ],
   "source": [
    "str1=\"one\"\n",
    "str2=\"two\"\n",
    "print(str1+str2)"
   ]
  },
  {
   "cell_type": "markdown",
   "metadata": {},
   "source": [
    "④ 星号 * 是复制当前字符串。"
   ]
  },
  {
   "cell_type": "code",
   "execution_count": null,
   "metadata": {},
   "outputs": [],
   "source": [
    "a = 'abc'\n",
    "print(a * 3)"
   ]
  },
  {
   "cell_type": "markdown",
   "metadata": {},
   "source": [
    "## 1.3 常用函数"
   ]
  },
  {
   "cell_type": "markdown",
   "metadata": {},
   "source": [
    "① find()函数检测字符串中是否包含某一个字符，返回\"第一个字符\"的索引，如果不在字符里返回-1。"
   ]
  },
  {
   "cell_type": "code",
   "execution_count": 6,
   "metadata": {},
   "outputs": [
    {
     "name": "stdout",
     "output_type": "stream",
     "text": [
      "3\n",
      "-1\n"
     ]
    }
   ],
   "source": [
    "str1 = \"hello world\"\n",
    "print(str1.find('lo'))\n",
    "print(str1.find('kk'))"
   ]
  },
  {
   "cell_type": "markdown",
   "metadata": {},
   "source": [
    "② index()函是检查字符串中是否包含某一个字符，返回\"第一个字符\"的索引，如果不包含会报错。"
   ]
  },
  {
   "cell_type": "code",
   "execution_count": 7,
   "metadata": {},
   "outputs": [
    {
     "name": "stdout",
     "output_type": "stream",
     "text": [
      "3\n"
     ]
    },
    {
     "ename": "ValueError",
     "evalue": "substring not found",
     "output_type": "error",
     "traceback": [
      "\u001b[1;31m---------------------------------------------------------------------------\u001b[0m",
      "\u001b[1;31mValueError\u001b[0m                                Traceback (most recent call last)",
      "\u001b[1;32m<ipython-input-7-58e5d5569479>\u001b[0m in \u001b[0;36m<module>\u001b[1;34m\u001b[0m\n\u001b[0;32m      1\u001b[0m \u001b[0mstr1\u001b[0m \u001b[1;33m=\u001b[0m \u001b[1;34m\"hello world\"\u001b[0m\u001b[1;33m\u001b[0m\u001b[1;33m\u001b[0m\u001b[0m\n\u001b[0;32m      2\u001b[0m \u001b[0mprint\u001b[0m\u001b[1;33m(\u001b[0m\u001b[0mstr1\u001b[0m\u001b[1;33m.\u001b[0m\u001b[0mindex\u001b[0m\u001b[1;33m(\u001b[0m\u001b[1;34m'lo'\u001b[0m\u001b[1;33m)\u001b[0m\u001b[1;33m)\u001b[0m \u001b[1;31m# 显示出来了\u001b[0m\u001b[1;33m\u001b[0m\u001b[1;33m\u001b[0m\u001b[0m\n\u001b[1;32m----> 3\u001b[1;33m \u001b[0mprint\u001b[0m\u001b[1;33m(\u001b[0m\u001b[0mstr1\u001b[0m\u001b[1;33m.\u001b[0m\u001b[0mindex\u001b[0m\u001b[1;33m(\u001b[0m\u001b[1;34m'kk'\u001b[0m\u001b[1;33m)\u001b[0m\u001b[1;33m)\u001b[0m \u001b[1;31m# 用index时，没有字符，会报错\u001b[0m\u001b[1;33m\u001b[0m\u001b[1;33m\u001b[0m\u001b[0m\n\u001b[0m",
      "\u001b[1;31mValueError\u001b[0m: substring not found"
     ]
    }
   ],
   "source": [
    "str1 = \"hello world\"\n",
    "print(str1.index('lo')) # 显示出来了\n",
    "print(str1.index('kk')) # 用index时，没有字符，会报错"
   ]
  },
  {
   "cell_type": "markdown",
   "metadata": {},
   "source": [
    "③ find()函数不包含不会报错，只会返回-1。\n",
    "\n",
    "④ count()函数统计指定索引范围[start,end)范围内某个字符或某些字符出现的次数。"
   ]
  },
  {
   "cell_type": "code",
   "execution_count": 8,
   "metadata": {},
   "outputs": [
    {
     "name": "stdout",
     "output_type": "stream",
     "text": [
      "0\n"
     ]
    }
   ],
   "source": [
    "str1=\"hello world\"\n",
    "print(str1.count('lo',5,len(str1))) # 指定从6个元素到末尾，len(str1)-1是末尾元素的索引。"
   ]
  },
  {
   "cell_type": "markdown",
   "metadata": {},
   "source": [
    "⑤ replace()函数将str中的str1替换成str2，如果指定count，则不超过count次。"
   ]
  },
  {
   "cell_type": "code",
   "execution_count": 9,
   "metadata": {},
   "outputs": [
    {
     "name": "stdout",
     "output_type": "stream",
     "text": [
      "2019-10-30\n",
      "2019-10.30\n"
     ]
    }
   ],
   "source": [
    "s1 = '2019.10.30'\n",
    "s2 = s1.replace('.', '-') # count默认替换所有\n",
    "print(s2)\n",
    "\n",
    "s1 = '2019.10.30'\n",
    "s2 = s1.replace('.', '-',1) # 仅替换第一个\n",
    "print(s2)"
   ]
  },
  {
   "cell_type": "markdown",
   "metadata": {},
   "source": [
    "⑥ str.split(str=\" \",num=string.count(str))[n] 函数以某字符来切分，返回值：返回分割后的字符串列表。\n",
    "1. [n]：表示选取分割的列表中下标为n的分片。  \n",
    "2. num：表示分割次数。默认为 -1, 即分隔所有，如果存在参数num，则仅分隔成 num+1 个子字符串，并且每一个子字符串可以赋给新的变量。  \n",
    "3. str：表示为分隔符。默认为所有的空字符，包括空格、换行(\\n)、制表符(\\t)等，但是不能为空('')。若字符串中没有分隔符，则把整个字符串作为列表的一个元素。"
   ]
  },
  {
   "cell_type": "code",
   "execution_count": 10,
   "metadata": {},
   "outputs": [
    {
     "name": "stdout",
     "output_type": "stream",
     "text": [
      "['hello', 'world', 'hello', 'china']\n"
     ]
    }
   ],
   "source": [
    "str1 = \"hello world hello china\"\n",
    "print(str1.split(' ')) # 以空格来切分。切分后以列表来表示。"
   ]
  },
  {
   "cell_type": "markdown",
   "metadata": {},
   "source": [
    "⑦ capitalize()函数把字符串的第一个字母大写，其余字母小写。\n",
    "\n",
    "⑧ title()函数把字符串中每个单词的首字母大写，其余字母小写。\n",
    "\n",
    "⑨ startwith()函数检查字符串是否以某字符或某些字符开头，是则返回True，否则返回False。"
   ]
  },
  {
   "cell_type": "markdown",
   "metadata": {},
   "source": [
    "10. endwith()函数检查字符串是否以某字符或某些字符结尾，是则返回True，否则返回False。\n",
    "\n",
    "11. low()函数把字符串中所有大写字符为小写。\n",
    "\n",
    "12. upper()函数把字符串中所有小写字符为大写。\n",
    "\n",
    "13. strip()函数去除字符串两边的空白。"
   ]
  },
  {
   "cell_type": "code",
   "execution_count": 11,
   "metadata": {},
   "outputs": [
    {
     "name": "stdout",
     "output_type": "stream",
     "text": [
      "3210Runoob0123\n"
     ]
    }
   ],
   "source": [
    "str1 = \"00000003210Runoob01230000000\"; \n",
    "print(str1.strip( '0' ))  # 去除首尾字符 0"
   ]
  },
  {
   "cell_type": "code",
   "execution_count": 12,
   "metadata": {},
   "outputs": [
    {
     "name": "stdout",
     "output_type": "stream",
     "text": [
      "Runoob\n"
     ]
    }
   ],
   "source": [
    "str2 = \"   Runoob      \";   # 去除首尾空格\n",
    "print(str2.strip())"
   ]
  },
  {
   "cell_type": "markdown",
   "metadata": {},
   "source": [
    "14. lsstrip()函数去除字符串左边的空格。\n",
    "\n",
    "15. rsstrip()函数去除字符串右边的空格。\n",
    "\n",
    "16. join()函数表示字符串中每个字符中间都插入一个字符串。"
   ]
  },
  {
   "cell_type": "markdown",
   "metadata": {},
   "source": [
    "17. isspace()函数，如果str中只包含空格，则返回True，否则返回False。\n",
    "\n",
    "18. isalnum()函数，如果str所有字符都是字母或数字则返回True，否则返回False。\n",
    "\n",
    "19. isdigit()函数，如果str只包含数字则返回True，否则返回False。\n",
    "\n",
    "20. isalpha()函数，如果str只包含字母则返回True，否则则返回False。"
   ]
  }
 ],
 "metadata": {
  "kernelspec": {
   "display_name": "Python 3",
   "language": "python",
   "name": "python3"
  },
  "language_info": {
   "codemirror_mode": {
    "name": "ipython",
    "version": 3
   },
   "file_extension": ".py",
   "mimetype": "text/x-python",
   "name": "python",
   "nbconvert_exporter": "python",
   "pygments_lexer": "ipython3",
   "version": "3.7.4"
  },
  "toc": {
   "base_numbering": 1,
   "nav_menu": {},
   "number_sections": false,
   "sideBar": true,
   "skip_h1_title": false,
   "title_cell": "Table of Contents",
   "title_sidebar": "Contents",
   "toc_cell": false,
   "toc_position": {
    "height": "calc(100% - 180px)",
    "left": "10px",
    "top": "150px",
    "width": "277.983px"
   },
   "toc_section_display": true,
   "toc_window_display": true
  }
 },
 "nbformat": 4,
 "nbformat_minor": 4
}
