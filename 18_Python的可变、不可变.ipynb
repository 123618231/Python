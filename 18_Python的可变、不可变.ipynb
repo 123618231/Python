{
 "cells": [
  {
   "cell_type": "markdown",
   "metadata": {},
   "source": [
    "# Python的可变、不可变"
   ]
  },
  {
   "cell_type": "markdown",
   "metadata": {},
   "source": [
    "# 1. 万物皆对象"
   ]
  },
  {
   "cell_type": "markdown",
   "metadata": {},
   "source": [
    "① 在 Python 的世界里，万物皆对象，比如 z=[1,2]，这一句代码就是创建了一个列表对象，然后给它取了一个名字叫 z。"
   ]
  },
  {
   "cell_type": "markdown",
   "metadata": {},
   "source": [
    "# 2. 可变类型、不可变类型"
   ]
  },
  {
   "cell_type": "markdown",
   "metadata": {},
   "source": [
    "① 可变类型：例如列表，变量赋值列表后，la=[1,2,3,4]后，列表的第三个元素值再赋值，la[2]=5，这里并不是生成了一个新的列表然后变量指向它，只是原列表内部的一部分值被修改了，列表的地址也没有变，列表属于可变类型。\n",
    "\n",
    "② 不可变类型：例如数值，变量赋值数值后，a=5 后，变量再赋值 a=10，这里实际是新生成一个int值对象 10，再让 a 指向它，而5被丢弃，不是改变 a 的值，5 这个数值是不可改变的。"
   ]
  },
  {
   "cell_type": "markdown",
   "metadata": {},
   "source": [
    "# 3. 可变对象、不可变对象"
   ]
  },
  {
   "cell_type": "code",
   "execution_count": null,
   "metadata": {},
   "outputs": [],
   "source": [
    "① 可变对象，传递对象自己，函数内部如果修改值会影响对象本身。"
   ]
  },
  {
   "cell_type": "code",
   "execution_count": 34,
   "metadata": {},
   "outputs": [
    {
     "name": "stdout",
     "output_type": "stream",
     "text": [
      "函数内b: [1, 2, 3, 4, 6]\n",
      "函数外b： [1, 2, 3, 4, 6]\n"
     ]
    }
   ],
   "source": [
    "# 可变对象\n",
    "def ChangeInt(b):\n",
    "    b.append(6) # 可变对象，传递对象自己，函数内部如果修改值会影响对象本身\n",
    "    print(\"函数内b:\",b) # 打印出来为[1,2,3,4,6]\n",
    "b = [1,2,3,4] # 可变对象\n",
    "ChangeInt(b) # 可变对象，传递对象自己\n",
    "print(\"函数外b：\",b) # 打印出来为[1,2,3,4,6]"
   ]
  },
  {
   "cell_type": "markdown",
   "metadata": {},
   "source": [
    "② 不可变对象，传递的是对象的值，不是对象本身，如果修改值，修改的是另一个复制的对象，不会影响原来对象的本身。"
   ]
  },
  {
   "cell_type": "code",
   "execution_count": 35,
   "metadata": {},
   "outputs": [
    {
     "name": "stdout",
     "output_type": "stream",
     "text": [
      "函数内b: 10\n",
      "函数外b： 2\n"
     ]
    }
   ],
   "source": [
    "# 不可变对象\n",
    "def ChangeInt(b): \n",
    "    b = 10   # 如果修改值，修改的是另一个复制的对象，不会影响原来对象的本身。\n",
    "    print(\"函数内b:\",b) # 打印出来为10\n",
    "b = 2  # 不可变对象\n",
    "ChangeInt(b)  # 不可变对象，传递的是对象的值，不是对象本身\n",
    "print(\"函数外b：\",b) # 打印出来为2"
   ]
  },
  {
   "cell_type": "markdown",
   "metadata": {},
   "source": [
    "③ 在Python中，字符串、元组和数值是不可更改的对象，而列表、字典、集合是可以修改的对象。"
   ]
  }
 ],
 "metadata": {
  "kernelspec": {
   "display_name": "Python 3",
   "language": "python",
   "name": "python3"
  },
  "language_info": {
   "codemirror_mode": {
    "name": "ipython",
    "version": 3
   },
   "file_extension": ".py",
   "mimetype": "text/x-python",
   "name": "python",
   "nbconvert_exporter": "python",
   "pygments_lexer": "ipython3",
   "version": "3.7.4"
  },
  "toc": {
   "base_numbering": 1,
   "nav_menu": {},
   "number_sections": false,
   "sideBar": true,
   "skip_h1_title": false,
   "title_cell": "Table of Contents",
   "title_sidebar": "Contents",
   "toc_cell": false,
   "toc_position": {
    "height": "calc(100% - 180px)",
    "left": "10px",
    "top": "150px",
    "width": "277.983px"
   },
   "toc_section_display": true,
   "toc_window_display": true
  }
 },
 "nbformat": 4,
 "nbformat_minor": 4
}
