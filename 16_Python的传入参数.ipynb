{
 "cells": [
  {
   "cell_type": "markdown",
   "metadata": {},
   "source": [
    "# Python的传入参数"
   ]
  },
  {
   "cell_type": "markdown",
   "metadata": {},
   "source": [
    "# 1. 参数类型"
   ]
  },
  {
   "cell_type": "markdown",
   "metadata": {},
   "source": [
    "① 传入参数分为形参和实参两种，形参是形式参数(变量)，实参是实际参数(值)。"
   ]
  },
  {
   "cell_type": "code",
   "execution_count": 24,
   "metadata": {},
   "outputs": [
    {
     "name": "stdout",
     "output_type": "stream",
     "text": [
      "张三 36\n",
      "李四 47\n",
      "王五 58\n"
     ]
    }
   ],
   "source": [
    "# coding=utf-8\n",
    "# 形参是定义函数后面的参数列表\n",
    "def printname(name,age):\n",
    "    print(name,age)\n",
    "\n",
    "# 实参是调用函数时，传入函数的值\n",
    "printname('张三',36) \n",
    "printname('李四',47) # 逗号会以空格隔开\n",
    "printname('王五',58)"
   ]
  },
  {
   "cell_type": "markdown",
   "metadata": {},
   "source": [
    "# 2. 默认参数"
   ]
  },
  {
   "cell_type": "markdown",
   "metadata": {},
   "source": [
    "① 传入参数中，默认值参数都是放在后面。"
   ]
  },
  {
   "cell_type": "code",
   "execution_count": 25,
   "metadata": {},
   "outputs": [
    {
     "ename": "SyntaxError",
     "evalue": "non-default argument follows default argument (<ipython-input-25-27275867f776>, line 2)",
     "output_type": "error",
     "traceback": [
      "\u001b[1;36m  File \u001b[1;32m\"<ipython-input-25-27275867f776>\"\u001b[1;36m, line \u001b[1;32m2\u001b[0m\n\u001b[1;33m    def kk(name,age=0,gender,phone,address,email):\u001b[0m\n\u001b[1;37m          ^\u001b[0m\n\u001b[1;31mSyntaxError\u001b[0m\u001b[1;31m:\u001b[0m non-default argument follows default argument\n"
     ]
    }
   ],
   "source": [
    "# 报错，默认值参数没有放在后面。\n",
    "def kk(name,age=0,gender,phone,address,email):\n",
    "    print(\"ss\")\n",
    "\n",
    "kk(\"小李\",\"nan\",186,\"北京\",\"222@qq.com\",18)"
   ]
  },
  {
   "cell_type": "code",
   "execution_count": 26,
   "metadata": {},
   "outputs": [
    {
     "name": "stdout",
     "output_type": "stream",
     "text": [
      "ss\n"
     ]
    }
   ],
   "source": [
    "# 不报错，默认值参数放在后面。\n",
    "def kk(name,gender,phone,address,email,age=0,):\n",
    "    print(\"ss\")\n",
    "    \n",
    "kk(\"小李\",\"nan\",186,\"北京\",\"222@qq.com\",18)"
   ]
  },
  {
   "cell_type": "markdown",
   "metadata": {},
   "source": [
    "# 3. 星号传参"
   ]
  },
  {
   "cell_type": "markdown",
   "metadata": {},
   "source": [
    "① 传入参数，一个星号 *，打印该变量是一个元组，两个星号 *，打印该变量是一个字典。\n",
    "\n",
    "② 加了星号 * 的变量会存放所有未命名的变量参数。\n",
    "\n",
    "③ 加了星号 ** 的变量会存放所有命名的变量参数。"
   ]
  },
  {
   "cell_type": "code",
   "execution_count": 27,
   "metadata": {},
   "outputs": [
    {
     "name": "stdout",
     "output_type": "stream",
     "text": [
      "1\n",
      "(2, 'a', 'b')\n",
      "{'name': 'zhang', 'age': 20}\n",
      "a\n",
      "('b', 1, 2)\n",
      "{'name': 'zhang', 'age': 20}\n"
     ]
    }
   ],
   "source": [
    "def function(a,*b,**c):\n",
    "\n",
    "    print(a) # 1\n",
    "    \n",
    "    print(b) # ('a','b')\n",
    "    \n",
    "    print(c) # {name='zhang',age=20}\n",
    "    \n",
    "function(1,2,'a','b',name='zhang',age=20) # 第一个元素给a，剩余未命名的元素给*b\n",
    "function('a','b',1,2,name='zhang',age=20)"
   ]
  },
  {
   "cell_type": "markdown",
   "metadata": {},
   "source": [
    "④ * 号的使用使得传入的参数不定长。"
   ]
  },
  {
   "cell_type": "code",
   "execution_count": 28,
   "metadata": {},
   "outputs": [
    {
     "name": "stdout",
     "output_type": "stream",
     "text": [
      "(2, 4, 5, 1)\n",
      "(3.0, 5)\n",
      "(1, 2, 4)\n",
      "(2.3333, 4)\n"
     ]
    }
   ],
   "source": [
    "from functools import reduce\n",
    "def cal_aver_max(*args):\n",
    "    print(args) # 不定长的参数传入后，参数合成一个元组\n",
    "    return round(reduce(lambda x,y:x+y,args)/len(args),4),max(args)\n",
    "\n",
    "print(cal_aver_max(2,4,5,1))  # *args 可以使得传入的参数不定长\n",
    "print(cal_aver_max(1,2,4))    # *args 可以使得传入的参数不定长"
   ]
  },
  {
   "cell_type": "markdown",
   "metadata": {},
   "source": [
    "⑤ * 号的可以使得传入列表、元组、集合。"
   ]
  },
  {
   "cell_type": "code",
   "execution_count": 29,
   "metadata": {},
   "outputs": [
    {
     "name": "stdout",
     "output_type": "stream",
     "text": [
      "(1, 2, 4)\n",
      "(2.3333, 4)\n",
      "(3, 4, 5)\n",
      "(4.0, 5)\n",
      "(7, 8, 9)\n",
      "(8.0, 9)\n"
     ]
    }
   ],
   "source": [
    "from functools import reduce\n",
    "def cal_aver_max(*args):\n",
    "    print(args) # 传入参数为集合，*args 使得集合变为元组\n",
    "    return round(reduce(lambda x,y:x+y,args)/len(args),4),max(args) # 返回一个元组\n",
    "\n",
    "set1 = {1,2,4}  # 一个集合\n",
    "print(cal_aver_max(*set1))   #用*加变量名，传入列表、元组、集合\n",
    "list1 = [3,4,5]\n",
    "print(cal_aver_max(*list1))\n",
    "tuple1 = (7,8,9)\n",
    "print(cal_aver_max(*tuple1))"
   ]
  }
 ],
 "metadata": {
  "kernelspec": {
   "display_name": "Python 3",
   "language": "python",
   "name": "python3"
  },
  "language_info": {
   "codemirror_mode": {
    "name": "ipython",
    "version": 3
   },
   "file_extension": ".py",
   "mimetype": "text/x-python",
   "name": "python",
   "nbconvert_exporter": "python",
   "pygments_lexer": "ipython3",
   "version": "3.7.4"
  },
  "toc": {
   "base_numbering": 1,
   "nav_menu": {},
   "number_sections": false,
   "sideBar": true,
   "skip_h1_title": false,
   "title_cell": "Table of Contents",
   "title_sidebar": "Contents",
   "toc_cell": false,
   "toc_position": {
    "height": "calc(100% - 180px)",
    "left": "10px",
    "top": "150px",
    "width": "277.983px"
   },
   "toc_section_display": true,
   "toc_window_display": true
  }
 },
 "nbformat": 4,
 "nbformat_minor": 4
}
