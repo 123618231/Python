{
 "cells": [
  {
   "cell_type": "markdown",
   "metadata": {},
   "source": [
    "# Python的异常处理"
   ]
  },
  {
   "cell_type": "markdown",
   "metadata": {},
   "source": [
    "# 1. Python的异常处理"
   ]
  },
  {
   "cell_type": "markdown",
   "metadata": {},
   "source": [
    "① Python遇到错误后，会引发异常。如果异常对象并未被处理或捕捉，则程序就会用所谓的回溯(Traceback,一种错误信息)来终止执行。\n",
    "\n",
    "② 异常是指程序运行过程中发生的一个事件，会影响程序正常运行，所以一般需要进行捕获处理异常并处理。\n",
    "\n",
    "③ 异常的捕获使用try/except/finally语句进行捕获操作，并告诉python发生异常时怎么办。"
   ]
  },
  {
   "cell_type": "markdown",
   "metadata": {},
   "source": [
    "④ 如果try代码块中的代码运行起来没有问题，python将跳except代码块；如果try代码块中的代码导致了错误，python将查找这样的except代码块，并运行其中的代码，即其中指定的错误与引发的错误相同。\n",
    "\n",
    "⑤ 如果一个异常没有与任何的except匹配，那么这个异常将会传递给上层的try中，这里指的是try的嵌套类型。\n",
    "\n",
    "⑥ 一个except语句可以同时处理多个异常，这些异常将被放在一个括号里称为一个元祖。\n",
    "\n",
    "⑦ 异常处理一般步骤如下："
   ]
  },
  {
   "cell_type": "code",
   "execution_count": null,
   "metadata": {},
   "outputs": [],
   "source": [
    "'''\n",
    "try:\n",
    "    <语句>\n",
    "except<异常类型1>[,异常参数名1]:\n",
    "    <异常处理代码1>\n",
    "except<异常类型2>[,异常参数名2]:\n",
    "    <异常处理代码2>\n",
    "else:\n",
    "    <没有异常时候的处理代码>\n",
    "finally:\n",
    "    <不管是否有异常，最终执行的代码块>\n",
    "'''"
   ]
  },
  {
   "cell_type": "code",
   "execution_count": 1,
   "metadata": {},
   "outputs": [
    {
     "name": "stdout",
     "output_type": "stream",
     "text": [
      "请输入第一个数字：2\n",
      "请输入第二个数字：1\n"
     ]
    },
    {
     "ename": "TypeError",
     "evalue": "unsupported operand type(s) for -: 'str' and 'str'",
     "output_type": "error",
     "traceback": [
      "\u001b[1;31m---------------------------------------------------------------------------\u001b[0m",
      "\u001b[1;31mTypeError\u001b[0m                                 Traceback (most recent call last)",
      "\u001b[1;32m<ipython-input-1-67c2703d9e1c>\u001b[0m in \u001b[0;36m<module>\u001b[1;34m\u001b[0m\n\u001b[0;32m      2\u001b[0m \u001b[0ma\u001b[0m \u001b[1;33m=\u001b[0m \u001b[0minput\u001b[0m\u001b[1;33m(\u001b[0m\u001b[1;34m'请输入第一个数字：'\u001b[0m\u001b[1;33m)\u001b[0m\u001b[1;33m\u001b[0m\u001b[1;33m\u001b[0m\u001b[0m\n\u001b[0;32m      3\u001b[0m \u001b[0mb\u001b[0m \u001b[1;33m=\u001b[0m \u001b[0minput\u001b[0m\u001b[1;33m(\u001b[0m\u001b[1;34m'请输入第二个数字：'\u001b[0m\u001b[1;33m)\u001b[0m\u001b[1;33m\u001b[0m\u001b[1;33m\u001b[0m\u001b[0m\n\u001b[1;32m----> 4\u001b[1;33m \u001b[0mprint\u001b[0m\u001b[1;33m(\u001b[0m\u001b[0ma\u001b[0m\u001b[1;33m-\u001b[0m\u001b[0mb\u001b[0m\u001b[1;33m)\u001b[0m     \u001b[1;31m# input输入的数字是字符串，无法相减，如果是加号，是字符串的拼接\u001b[0m\u001b[1;33m\u001b[0m\u001b[1;33m\u001b[0m\u001b[0m\n\u001b[0m",
      "\u001b[1;31mTypeError\u001b[0m: unsupported operand type(s) for -: 'str' and 'str'"
     ]
    }
   ],
   "source": [
    "# coding=utf-8\n",
    "a = input('请输入第一个数字：')\n",
    "b = input('请输入第二个数字：')\n",
    "print(a-b)     # input输入的数字是字符串，无法相减，如果是加号，是字符串的拼接"
   ]
  },
  {
   "cell_type": "code",
   "execution_count": 2,
   "metadata": {},
   "outputs": [
    {
     "name": "stdout",
     "output_type": "stream",
     "text": [
      "请输入第一个数字：3\n",
      "请输入第二个数字：2\n",
      "数据类型错误\n",
      "程序执行完成\n"
     ]
    }
   ],
   "source": [
    "# coding=utf-8\n",
    "a = input('请输入第一个数字：')\n",
    "b = input('请输入第二个数字：')\n",
    "\n",
    "try:\n",
    "    c = b - a\n",
    "    print(c)\n",
    "    \n",
    "except TypeError:          # 如果异常类型为类型异常\n",
    "    print('数据类型错误')\n",
    "    \n",
    "except FileNotFoundError:  # 如果异常类型为文件异常\n",
    "    print('文件不存在')\n",
    "    \n",
    "else: \n",
    "    print('没有异常')\n",
    "    \n",
    "finally:\n",
    "    print('程序执行完成')"
   ]
  },
  {
   "cell_type": "code",
   "execution_count": 3,
   "metadata": {},
   "outputs": [
    {
     "name": "stdout",
     "output_type": "stream",
     "text": [
      "请输入第一个数字：3\n",
      "请输入第二个数字：2\n",
      "unsupported operand type(s) for -: 'str' and 'str'\n",
      "程序执行完成\n"
     ]
    }
   ],
   "source": [
    "# coding=utf-8\n",
    "a = input('请输入第一个数字：')\n",
    "b = input('请输入第二个数字：')\n",
    "\n",
    "try:\n",
    "    c = b - a\n",
    "    print(c)\n",
    "    \n",
    "except Exception as e:    # 不管什么类型都可以捕获到\n",
    "    print(e)\n",
    "    \n",
    "else:  # 一般不写else部分\n",
    "    print('没有异常')\n",
    "    \n",
    "finally:\n",
    "    print('程序执行完成')"
   ]
  },
  {
   "cell_type": "code",
   "execution_count": 4,
   "metadata": {},
   "outputs": [
    {
     "name": "stdout",
     "output_type": "stream",
     "text": [
      "请输入第一个数字：@\n",
      "请输入第二个数字：1\n",
      "数据类型错误或文件找不到\n",
      "程序执行完成\n"
     ]
    }
   ],
   "source": [
    "# coding=utf-8\n",
    "a = input('请输入第一个数字：')\n",
    "b = input('请输入第二个数字：')\n",
    "\n",
    "try:\n",
    "    c = b - a\n",
    "    print(c)\n",
    "    \n",
    "except (TypeError,FileNotFoundError):  \n",
    "    print('数据类型错误或文件找不到')\n",
    "    \n",
    "else: \n",
    "    print('没有异常')\n",
    "    \n",
    "finally:\n",
    "    print('程序执行完成')"
   ]
  }
 ],
 "metadata": {
  "kernelspec": {
   "display_name": "Python 3",
   "language": "python",
   "name": "python3"
  },
  "language_info": {
   "codemirror_mode": {
    "name": "ipython",
    "version": 3
   },
   "file_extension": ".py",
   "mimetype": "text/x-python",
   "name": "python",
   "nbconvert_exporter": "python",
   "pygments_lexer": "ipython3",
   "version": "3.7.4"
  },
  "toc": {
   "base_numbering": 1,
   "nav_menu": {},
   "number_sections": false,
   "sideBar": true,
   "skip_h1_title": false,
   "title_cell": "Table of Contents",
   "title_sidebar": "Contents",
   "toc_cell": false,
   "toc_position": {
    "height": "calc(100% - 180px)",
    "left": "10px",
    "top": "150px",
    "width": "277.983px"
   },
   "toc_section_display": true,
   "toc_window_display": true
  }
 },
 "nbformat": 4,
 "nbformat_minor": 4
}
