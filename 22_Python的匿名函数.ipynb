{
 "cells": [
  {
   "cell_type": "markdown",
   "metadata": {},
   "source": [
    "# Python的匿名函数"
   ]
  },
  {
   "cell_type": "markdown",
   "metadata": {},
   "source": [
    "# 1. 创建匿名函数"
   ]
  },
  {
   "cell_type": "markdown",
   "metadata": {},
   "source": [
    "① 定义函数的过程中，没有给定名称的函数就叫做匿名函数，Python中使用lambda表达式来创建匿名函数。\n",
    "\n",
    "② lambda 来创建匿名函数规则。\n",
    "\n",
    "1. lambda只是一个表达式，函数体比def简单得多。\n",
    "2. lambda的主体是一个表达式，而不是一个代码块，所以不能写太多的逻辑进去。\n",
    "3. lambda函数拥有自己的命名空间，且不能访问自有参数列表之外或全局命名空间里的参数。\n",
    "4. lambda定义的函数的返回值就是表达式的返回值，不需要return语句块。\n",
    "5. lambda表达式的主要应用场景就是赋值给变量，作为参数传入其他函数。\n",
    "\n",
    "③ lambda匿名函数的表达式规则是：lambda 参数列表：表达式\n",
    "\n",
    "④ 匿名函数要调用才会执行，和 def 函数一样。"
   ]
  },
  {
   "cell_type": "code",
   "execution_count": 1,
   "metadata": {},
   "outputs": [
    {
     "name": "stdout",
     "output_type": "stream",
     "text": [
      "123\n",
      "<class 'function'>\n",
      "<function <lambda> at 0x00000164968B3948>\n",
      "123\n",
      "None\n"
     ]
    }
   ],
   "source": [
    "# 匿名函数需要调用才会执行\n",
    "a = lambda x:print(123) # 冒号:后面表示返回的结果\n",
    "a(456)   # 调用匿名函数a，传入一个参数，才会调用 print(123)\n",
    "print(type(a))  # a 是一个函数\n",
    "print(a) # a 是一个lambda 函数\n",
    "print(a(456)) # 匿名函数的返回值为 None"
   ]
  },
  {
   "cell_type": "markdown",
   "metadata": {},
   "source": [
    "# 2. 传入匿名函数"
   ]
  },
  {
   "cell_type": "markdown",
   "metadata": {},
   "source": [
    "① 可以用 for 循环遍历序列，然后将遍历序列后的值传入匿名函数。"
   ]
  },
  {
   "cell_type": "code",
   "execution_count": 3,
   "metadata": {},
   "outputs": [
    {
     "name": "stdout",
     "output_type": "stream",
     "text": [
      "[10, 11, 12, 13, 14, 15, 16, 17, 18, 19]\n"
     ]
    }
   ],
   "source": [
    "# 传参进匿名函数\n",
    "sum = lambda x:x+10\n",
    "print([sum(i) for i in range(10)])"
   ]
  },
  {
   "cell_type": "markdown",
   "metadata": {},
   "source": [
    "# 3. 调用匿名函数"
   ]
  },
  {
   "cell_type": "code",
   "execution_count": null,
   "metadata": {},
   "outputs": [],
   "source": [
    "# 调用匿名函数\n",
    "add_num = lambda x,y:x+y \n",
    "print(add_num(3,4))   # lambda 匿名函数要传入两个参数"
   ]
  },
  {
   "cell_type": "markdown",
   "metadata": {},
   "source": [
    "① map()函数、filter()函数、reduce() 函数高阶函数调用的函数复杂时，用自定义的函数，当调用的函数简单时，直接用匿名函数 lambda。"
   ]
  },
  {
   "cell_type": "code",
   "execution_count": 4,
   "metadata": {},
   "outputs": [
    {
     "name": "stdout",
     "output_type": "stream",
     "text": [
      "['Adam', 'Lisa', 'Bart']\n"
     ]
    }
   ],
   "source": [
    "# 用普通函数传入高阶函数：map()函数\n",
    "def Capitalize(name):\n",
    "    return name.capitalize()\n",
    " \n",
    "L1 = ['adam', 'LISA', 'barT']\n",
    "L2 = list(map(Capitalize, L1))\n",
    "print(L2)"
   ]
  },
  {
   "cell_type": "code",
   "execution_count": 5,
   "metadata": {},
   "outputs": [
    {
     "name": "stdout",
     "output_type": "stream",
     "text": [
      "[18, 23, 30, 39, 50]\n"
     ]
    }
   ],
   "source": [
    "# 匿名函数 lambda 传入高阶函数：map()函数\n",
    "list1 = [1,2,3,4,5]\n",
    "list2 = [6,7,8,9,10]\n",
    "list3 = [11,12,13,14,15]\n",
    "list_result = map(lambda x,y,z : x ** 2 + y + z,list1, list2, list3)\n",
    "print(list(list_result))"
   ]
  },
  {
   "cell_type": "markdown",
   "metadata": {},
   "source": [
    "② 匿名函数除了和高阶函数一起用，还可以和跟列表排序、元组排序等排序一起使用，例如，列表.sort(key = lambda x:x[0],reverse=True)，但是不能和集合排序一起使用，因为集合是无序的。"
   ]
  },
  {
   "cell_type": "code",
   "execution_count": 6,
   "metadata": {},
   "outputs": [
    {
     "name": "stdout",
     "output_type": "stream",
     "text": [
      "None\n",
      "[['小李', 0.7], ['小吴', 0.5], ['小肖', 0.4], ['小王', 0.2], ['小红', 0.1]]\n",
      "[['张三', 0.3], ['李四', 0.4], ['王五', 0.8], ['谢大脚', 0.9], ['谢广坤', 0.1]]\n",
      "[['谢大脚', 0.9], ['王五', 0.8], ['李四', 0.4], ['张三', 0.3], ['谢广坤', 0.1]]\n"
     ]
    }
   ],
   "source": [
    "mylist1 = [['小王', 0.2], ['小李', 0.7], ['小吴', 0.5], ['小红', 0.1], ['小肖', 0.4]]\n",
    "mylist2 = [['张三', 0.3], ['李四', 0.4], ['王五', 0.8], ['谢大脚', 0.9], ['谢广坤', 0.1]]\n",
    "\n",
    "# sort是列表类的一种方法，只能与列表一起使用，所以只能是 列表.sort() 而不能是 mylist3 = sorted(mylist1,key=(lambda x:x[1]),reverse=True) \n",
    "mylist1.sort(key=(lambda x:x[1]),reverse=True) # 对列表进行按x[1]降序排列\n",
    "print(mylist1.sort(key=(lambda x:x[1]),reverse=True))   # mylist1调用sort方法的返回值为None\n",
    "print(mylist1)  # sort函数对原列表修改了\n",
    "\n",
    "mylist4 = sorted(mylist2,key=(lambda x:x[1]),reverse=True) # 对列表进行按x[1]降序排列\n",
    "print(mylist2)   # sorted函数不对原列表修改\n",
    "print(mylist4)"
   ]
  }
 ],
 "metadata": {
  "kernelspec": {
   "display_name": "Python 3",
   "language": "python",
   "name": "python3"
  },
  "language_info": {
   "codemirror_mode": {
    "name": "ipython",
    "version": 3
   },
   "file_extension": ".py",
   "mimetype": "text/x-python",
   "name": "python",
   "nbconvert_exporter": "python",
   "pygments_lexer": "ipython3",
   "version": "3.7.4"
  },
  "toc": {
   "base_numbering": 1,
   "nav_menu": {},
   "number_sections": false,
   "sideBar": true,
   "skip_h1_title": false,
   "title_cell": "Table of Contents",
   "title_sidebar": "Contents",
   "toc_cell": false,
   "toc_position": {
    "height": "calc(100% - 180px)",
    "left": "10px",
    "top": "150px",
    "width": "277.983px"
   },
   "toc_section_display": true,
   "toc_window_display": true
  }
 },
 "nbformat": 4,
 "nbformat_minor": 4
}
