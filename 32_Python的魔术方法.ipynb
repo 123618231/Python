{
 "cells": [
  {
   "cell_type": "markdown",
   "metadata": {},
   "source": [
    "# Python的魔术方法"
   ]
  },
  {
   "cell_type": "markdown",
   "metadata": {},
   "source": [
    "# 1. 魔术方法简介"
   ]
  },
  {
   "cell_type": "markdown",
   "metadata": {},
   "source": [
    "① 魔术方法就是一个类中的方法，和普通方法唯一的不同是普通方法需要调用，而魔术方法是在特定时刻自动触发。\n",
    "\n",
    "② 这些魔术方法的名字特定，不能更改，但是入口参数的名字可以自己命名。"
   ]
  },
  {
   "cell_type": "markdown",
   "metadata": {},
   "source": [
    "# 2. 基本的魔术方法"
   ]
  },
  {
   "cell_type": "markdown",
   "metadata": {},
   "source": [
    "① \\_\\_new\\_\\_(cls[,...])，__new__ 是在一个对象实例化的时候所调用的第一个方法，而不是init是第一个方法，new方法返回的是对象。\n",
    "\n",
    "② \\_\\_init\\_\\_(self[,...]) 构造器，当一个实例被创建的时候调用的初始化方法。\n",
    "\n",
    "③ \\_\\_del\\_\\_(self) 构造器，当一个实例被销毁的时候调用的方法。\n",
    "\n",
    "④ \\_\\_call\\_\\_(self,[,args...]) 允许一个类的实例像函数一样被调用：x(a,b) 调用 x.\\_\\_call\\_\\_(a,b)，如果没有\\_\\_call\\_\\_函数，不能把实例像函数一样调用，而要用x.function(a,b)调用实例x的实例化方法。\n",
    "\n",
    "⑤ \\_\\_len\\_\\_(self) 定义当被len()调用时的行为。"
   ]
  },
  {
   "cell_type": "code",
   "execution_count": 1,
   "metadata": {},
   "outputs": [
    {
     "name": "stdout",
     "output_type": "stream",
     "text": [
      "调用__new__方法\n",
      "<__main__.Foo object at 0x0000027B3AEE2FC8>\n",
      "调用__init__方法\n",
      "<__main__.Foo object at 0x0000027B3AEE2FC8>\n",
      "调用how_much_of_book方法\n",
      "<__main__.Foo object at 0x0000027B3AEE2FC8>\n",
      "400\n"
     ]
    }
   ],
   "source": [
    "class Foo(object):\n",
    "    # __new__是一个魔术方法，并且是实例化对象时第一个调用的方法，返回的结果是实例化对象。\n",
    "    def __new__(cls,*agrs,**cwds):\n",
    "        print('调用__new__方法')\n",
    "        inst = object.__new__(cls,*agrs,**cwds)\n",
    "        print(inst)                       # 返回的是一个对象\n",
    "        return inst \n",
    "    \n",
    "    # __init__的第一个参数self是__new__魔术方法返回的结果\n",
    "    def __init__(self,price = 50):\n",
    "        print('调用__init__方法')\n",
    "        print(self)                       # self是__new__方法返回的东西，因此self命名为其他名称也可以接受__new__返回的对象\n",
    "        self.price = price\n",
    "        \n",
    "    def how_much_of_book(self,n):\n",
    "        print('调用how_much_of_book方法')\n",
    "        print(self)\n",
    "        return self.price * n\n",
    "\n",
    "foo = Foo()                               # 实例化Foo()返回一个对象\n",
    "print(foo.how_much_of_book(8))"
   ]
  },
  {
   "cell_type": "code",
   "execution_count": 2,
   "metadata": {},
   "outputs": [
    {
     "name": "stdout",
     "output_type": "stream",
     "text": [
      "调用__new__方法\n",
      "<__main__.Foo object at 0x0000027B3AECC508>\n",
      "调用__init__方法\n",
      "<__main__.Foo object at 0x0000027B3AECC508>\n",
      "调用__call__方法\n",
      "调用how_much_of_book方法\n",
      "<__main__.Foo object at 0x0000027B3AECC508>\n",
      "100\n"
     ]
    }
   ],
   "source": [
    "class Foo(object):\n",
    "    # __new__是一个魔术方法，并且是实例化对象时第一个调用的方法，返回的结果是实例化对象。\n",
    "    def __new__(cls,*agrs,**cwds):\n",
    "        print('调用__new__方法')\n",
    "        inst = object.__new__(cls,*agrs,**cwds)\n",
    "        print(inst)                      # 返回的是一个对象\n",
    "        return inst \n",
    "    \n",
    "    # __init__的第一个参数self是__new__魔术方法返回的结果\n",
    "    def __init__(self,price = 50):\n",
    "        print('调用__init__方法')\n",
    "        print(self)  \n",
    "        self.price = price\n",
    "    \n",
    "    def __call__(self,m,n):\n",
    "        print('调用__call__方法')\n",
    "        self.how_much_of_book(n)          # 类里面可以随便这样调用其他方法\n",
    "        return self.price * n\n",
    "    \n",
    "    def how_much_of_book(self,n):\n",
    "        print('调用how_much_of_book方法')\n",
    "        print(self)\n",
    "        return self.price * n\n",
    "\n",
    "foo = Foo()                              # 通过Foo()返回一个对象\n",
    "print(foo(3,2))                          # 如果没有__call__(self,m,n)，foo()会报错，只能通过foo.function来调用"
   ]
  },
  {
   "cell_type": "markdown",
   "metadata": {},
   "source": [
    "# 3. 比较的魔术方法"
   ]
  },
  {
   "cell_type": "markdown",
   "metadata": {},
   "source": [
    "① \\_\\_cmp\\_\\_(self,other) 是比较方法里面最基本的魔术方法，它实际上实现了所有的比较符号(<,==,!=,etc.)，但是它的表现并不会总是如你所愿(比如，当一个实例与另一个实例相等是通过一个规则来判断，而一个实例大于另外一个实例是通过另外一个规则来判断)。如果self<other的话\\_\\_cmp\\_\\_应该返回一个负数，当self==other的时候会返回0 ，而当self>other的时候会返回正数。通常最好的一种方式是去分别定义每一个比较符号而不是一次性将他们都定义。但是\\_\\_cmp\\_\\_方法是你想要实现所有的比较符号而一个保持清楚明白的一个好的方法。\n",
    "\n",
    "② \\_\\_eq\\_\\_(self,other) 定义相等符号的行为，==\n",
    "\n",
    "③ \\_\\_ne\\_\\_(self,other) 定义不等于符号的行为，!=\n",
    "\n",
    "④ \\_\\_It\\_\\_(self,other) 定义小于符号的行为，<\n",
    "\n",
    "⑤ \\_\\_gt\\_\\_(self,other) 定义大于符号的行为，>\n",
    "\n",
    "⑥ \\_\\_le\\_\\_(self,other) 定义小于相等符号的行为，<=\n",
    "\n",
    "⑦ \\_\\_ge\\_\\_(self,other) 定义大于相等符号的行为，>="
   ]
  },
  {
   "cell_type": "code",
   "execution_count": 3,
   "metadata": {},
   "outputs": [
    {
     "name": "stdout",
     "output_type": "stream",
     "text": [
      "7\n",
      "True\n",
      "False\n"
     ]
    }
   ],
   "source": [
    "class A:\n",
    "    def __init__(self,a,b):\n",
    "        self.a = a\n",
    "        self.b = b\n",
    "    \n",
    "    def __eq__(self,other):                         # ==号触发魔术方法\n",
    "        if self.a + self.b == other.a + other.b:    # 需要判断两个实例是否相同，通过不同实例化对象的参数和判断，如果和相同，则这两个实例的值相同。\n",
    "            return True\n",
    "        else:\n",
    "            return False\n",
    "    \n",
    "    def print_data(self):  \n",
    "        print(self.a + self.b)\n",
    "\n",
    "object1 = A(3,4)\n",
    "object2 = A(3,4)\n",
    "object3 = A(3,3)\n",
    "object1.print_data()         # 打印 object1 的实例化对象的值\n",
    "print(object1 == object2)    # 实例化对象的比较，触发魔术方法，比较 self.a + self.b == other.a + other.b\n",
    "print(object1 == object3)    # 实例化对象 object1 的值(elf.a + self.b)与实例化对象 object3 的值(other.a + other.b)不相等，"
   ]
  },
  {
   "cell_type": "code",
   "execution_count": 4,
   "metadata": {},
   "outputs": [
    {
     "name": "stdout",
     "output_type": "stream",
     "text": [
      "True\n",
      "False\n",
      "True\n",
      "False\n",
      "True\n",
      "False\n"
     ]
    }
   ],
   "source": [
    "class new_list:\n",
    "    def __init__(self,a):\n",
    "        self.a = a\n",
    "    \n",
    "    # 实例化方法比较两个实例大小\n",
    "    def gt(self,other):    \n",
    "        list1 = list(filter(lambda x:type(x)==int,self.a))\n",
    "        list2 = list(filter(lambda x:type(x)==int,other.a))\n",
    "        \n",
    "        if sum(list1)>sum(list2):\n",
    "            return True\n",
    "        else:\n",
    "            return False\n",
    "    \n",
    "    \n",
    "    # 魔术方法比较两个实例大小\n",
    "    def __gt__(self,other):    # 如果类中没有 def __ge__()这个魔术方法，那么 print(object1 > object2) 就会报错\n",
    "        list1 = list(filter(lambda x:type(x)==int,self.a))\n",
    "        list2 = list(filter(lambda x:type(x)==int,other.a))\n",
    "        \n",
    "        if sum(list1)>sum(list2):\n",
    "            return True\n",
    "        else:\n",
    "            return False\n",
    "\n",
    "list1 = new_list([1,2,3,22222,'sdd','da','dasdas'])\n",
    "list2 = new_list([23,'3213',232,'qdv'])\n",
    "list3 = new_list([1,21,3,22,99999,'sdd','da','dasdas'])\n",
    "\n",
    "print(list1 > list2)          # 魔术方法比较\n",
    "print(list1 > list3)          # 魔术方法比较\n",
    "print(list1.gt(list2))        # 实例化方法比较\n",
    "print(list1.gt(list3))        # 实例化方法比较\n",
    "print(list3 > list1 > list2)  # 第一个大于符号会触动一下魔术方法，第二个大于符号也会触动一下魔术方法\n",
    "print(list1 > list2 > list3)      "
   ]
  },
  {
   "cell_type": "code",
   "execution_count": 5,
   "metadata": {},
   "outputs": [
    {
     "name": "stdout",
     "output_type": "stream",
     "text": [
      "7\n"
     ]
    }
   ],
   "source": [
    "class A:\n",
    "    def __init__(self,a,b):\n",
    "        self.a = a\n",
    "        self.b = b\n",
    "    \n",
    "    def __eq__(self,other):\n",
    "        if self.a + self.b == other.a + other.b:\n",
    "            return True\n",
    "        else:\n",
    "            return False\n",
    "        \n",
    "    def __str__(self):  # __str__定义当被str()调用时的行为\n",
    "        return str(self.a + self.b)\n",
    "    \n",
    "    def print_data(self):\n",
    "        print(self.a + self.b)\n",
    "\n",
    "object2 = A(3,4)       # 实例化对象\n",
    "\n",
    "print(str(object2))    # 如果没有__str__魔术方法，打印的实例化对象的地址，有__str__魔术方法，该语句相当于调用 print(object2.__str__())"
   ]
  },
  {
   "cell_type": "markdown",
   "metadata": {},
   "source": [
    "# 4. 容器类型的魔术方法"
   ]
  },
  {
   "cell_type": "markdown",
   "metadata": {},
   "source": [
    "① \\_\\_len\\_\\_(self) 定义当被len()调用时的行为，返回容器中元素的个数。\n",
    "\n",
    "② \\_\\_getitem\\_\\_(self，key) 定义获取容器中指定元素的行为，相当于self[key]。\n",
    "\n",
    "③ \\_\\_setitem\\_\\_(self,key,value) 定义设置容器中指定元素的行为，相当于self[key] = value。\n",
    "\n",
    "④ \\_\\_delitem\\_\\_(self,key) 定义删除容器中指定元素的行为，相当于del self[key]。\n",
    "\n",
    "⑤ \\_\\_iter\\_\\_(self) 定义当迭代容器中的元素的行为。\n",
    "\n",
    "⑥ \\_\\_reversed\\_\\_(self) 定义当被reversed()调用时的行为。\n",
    "\n",
    "⑦ \\_\\_contains\\_\\_(self,item) 定义当使用成员测试运算符(in 或 not in)时的行为。"
   ]
  },
  {
   "cell_type": "code",
   "execution_count": 6,
   "metadata": {},
   "outputs": [
    {
     "name": "stdout",
     "output_type": "stream",
     "text": [
      "5\n"
     ]
    }
   ],
   "source": [
    "class NewDataType:\n",
    "    def __init__(self,data):\n",
    "        self.data = data\n",
    "    \n",
    "    def __len__(self):\n",
    "        return len(self.data)\n",
    "        \n",
    "        \n",
    "object1 = NewDataType(['1','2','4',33,44])  # 实例化对象时是否传入参数，根据init来定\n",
    "print(len(object1))"
   ]
  },
  {
   "cell_type": "code",
   "execution_count": 7,
   "metadata": {},
   "outputs": [
    {
     "name": "stdout",
     "output_type": "stream",
     "text": [
      "44\n",
      "1\n",
      "2\n",
      "4\n",
      "33\n",
      "44\n"
     ]
    }
   ],
   "source": [
    "class NewDataType:\n",
    "    def __init__(self,data):\n",
    "        self.data = data\n",
    "        \n",
    "    def __getitem__(self,key):\n",
    "        return self.data[key]\n",
    "    \n",
    "object1 = NewDataType(['1','2','4',33,44])  \n",
    "print(object1[-1])\n",
    "for i in object1:   # 如果没有__getitem__(self,key)，无法进行遍历的\n",
    "    print(i)"
   ]
  },
  {
   "cell_type": "code",
   "execution_count": 8,
   "metadata": {},
   "outputs": [
    {
     "name": "stdout",
     "output_type": "stream",
     "text": [
      "1\n",
      "2\n",
      "3\n",
      "1\n",
      "2\n",
      "3\n"
     ]
    }
   ],
   "source": [
    "class MyIter:\n",
    "    def __init__(self,total,start=0):\n",
    "        self.total = total\n",
    "        self.start = start\n",
    "    \n",
    "    def __iter__(self):\n",
    "        return self\n",
    "        \n",
    "    def __next__(self):    # 既可以通过for循环访问也可以通过 next()方法访问\n",
    "        if self.start < self.total:\n",
    "            self.start += 1\n",
    "            return self.start\n",
    "        else:\n",
    "            raise StopIteration\n",
    "    \n",
    "myIter = MyIter(3)\n",
    "it1 = iter(myIter)   # 这个函数触发 __iter__(self):\n",
    "for i in it1:  \n",
    "    print(i)\n",
    "\n",
    "myIter = MyIter(4)   # 必须要再实例化对象一次，才能调用 it2 = iter(myIter)，不能直接调用 it2 = iter(myIter)\n",
    "it2 = iter(myIter)   # 这个函数触发 __iter__(self):\n",
    "print(next(it2))\n",
    "print(next(it2))\n",
    "print(next(it2))"
   ]
  }
 ],
 "metadata": {
  "kernelspec": {
   "display_name": "Python 3",
   "language": "python",
   "name": "python3"
  },
  "language_info": {
   "codemirror_mode": {
    "name": "ipython",
    "version": 3
   },
   "file_extension": ".py",
   "mimetype": "text/x-python",
   "name": "python",
   "nbconvert_exporter": "python",
   "pygments_lexer": "ipython3",
   "version": "3.7.4"
  },
  "toc": {
   "base_numbering": 1,
   "nav_menu": {},
   "number_sections": false,
   "sideBar": true,
   "skip_h1_title": false,
   "title_cell": "Table of Contents",
   "title_sidebar": "Contents",
   "toc_cell": false,
   "toc_position": {
    "height": "calc(100% - 180px)",
    "left": "10px",
    "top": "150px",
    "width": "277.983px"
   },
   "toc_section_display": true,
   "toc_window_display": true
  }
 },
 "nbformat": 4,
 "nbformat_minor": 4
}
